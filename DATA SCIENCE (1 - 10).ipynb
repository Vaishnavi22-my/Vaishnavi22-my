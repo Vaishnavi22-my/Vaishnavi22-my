{
  "metadata": {
    "kernelspec": {
      "name": "python",
      "display_name": "Python (Pyodide)",
      "language": "python"
    },
    "language_info": {
      "codemirror_mode": {
        "name": "python",
        "version": 3
      },
      "file_extension": ".py",
      "mimetype": "text/x-python",
      "name": "python",
      "nbconvert_exporter": "python",
      "pygments_lexer": "ipython3",
      "version": "3.8"
    }
  },
  "nbformat_minor": 4,
  "nbformat": 4,
  "cells": [
    {
      "cell_type": "markdown",
      "source": "# DATA SCIENCE DAY (1 - 10)",
      "metadata": {}
    },
    {
      "cell_type": "markdown",
      "source": "# PYTHON BASICS",
      "metadata": {}
    },
    {
      "cell_type": "code",
      "source": "n = 10\n\nif n >0:\n    print(True)\nelse:\n    print(False)",
      "metadata": {
        "trusted": true,
        "tags": [],
        "editable": true,
        "slideshow": {
          "slide_type": ""
        }
      },
      "outputs": [
        {
          "name": "stdout",
          "text": "True\n",
          "output_type": "stream"
        }
      ],
      "execution_count": 1
    },
    {
      "cell_type": "code",
      "source": "a = 5\nb = 10\nif a>b:\n    print(\"a is positive\")\nelif a==b:\n    print(\"Both are equal\")\nelse:\n    print(\"a is negative\")",
      "metadata": {
        "trusted": true
      },
      "outputs": [
        {
          "name": "stdout",
          "text": "a is negative\n",
          "output_type": "stream"
        }
      ],
      "execution_count": 3
    },
    {
      "cell_type": "code",
      "source": "tuple = (1,2,3,4)  #iterating through tuple\nfor tuple in tuple:\n  print(tuple)",
      "metadata": {
        "trusted": true
      },
      "outputs": [
        {
          "name": "stdout",
          "text": "1\n2\n3\n4\n",
          "output_type": "stream"
        }
      ],
      "execution_count": 4
    },
    {
      "cell_type": "code",
      "source": "tuple = (\"mouse\", [8, 4, 6], (1, 2, 3))\nprint(tuple)\ntuple[1][0]=5\nprint(tuple)             #tuple is immutable but its elements can be both mutable and immutable \n                        #Can make changes to mutable objects  ",
      "metadata": {
        "trusted": true
      },
      "outputs": [
        {
          "name": "stdout",
          "text": "('mouse', [8, 4, 6], (1, 2, 3))\n('mouse', [5, 4, 6], (1, 2, 3))\n",
          "output_type": "stream"
        }
      ],
      "execution_count": 2
    },
    {
      "cell_type": "code",
      "source": "languages = {'React', 'Java', 'Python'}\n\nprint('before:',languages)\nremovedValue = languages.discard('Java')\nprint('after:', languages)\nprint(removedValue)",
      "metadata": {
        "trusted": true
      },
      "outputs": [
        {
          "name": "stdout",
          "text": "before: {'Python', 'Java', 'React'}\nafter: {'Python', 'React'}\nNone\n",
          "output_type": "stream"
        }
      ],
      "execution_count": 4
    },
    {
      "cell_type": "code",
      "source": "",
      "metadata": {
        "trusted": true
      },
      "outputs": [],
      "execution_count": 4
    },
    {
      "cell_type": "code",
      "source": "mydict = {1:'a', 2:'b', 5:'c', 4:'d'}\nprint(mydict.items())\nprint(mydict.keys())\nprint(mydict.values())            #same for mydict name ",
      "metadata": {
        "trusted": true
      },
      "outputs": [
        {
          "name": "stdout",
          "text": "dict_items([(1, 'a'), (2, 'b'), (5, 'c'), (4, 'd')])\ndict_keys([1, 2, 5, 4])\ndict_values(['a', 'b', 'c', 'd'])\n",
          "output_type": "stream"
        }
      ],
      "execution_count": 12
    },
    {
      "cell_type": "code",
      "source": "def row(n):\n    if n < 1:\n        return\n    print(\"*\", end=\" \")\n    row(n - 1)\n\ndef pattern(n):\n    if n < 1:\n        return\n    row(n)\n    print(\"\")\n    pattern(n - 1)\n\nn = 5\npattern(n)",
      "metadata": {
        "trusted": true
      },
      "outputs": [
        {
          "name": "stdout",
          "text": "* * * * * \n* * * * \n* * * \n* * \n* \n",
          "output_type": "stream"
        }
      ],
      "execution_count": 13
    },
    {
      "cell_type": "code",
      "source": "def row(n):\n    if n < 1:\n        return\n    for i in range(0,n):\n        print(\"*\",end=\" \")\n\ndef pattern(n):\n    if n < 1:\n        return\n    row(n)\n    print(\"\")\n    pattern(n - 1)\n\nn = 5\npattern(n)",
      "metadata": {
        "trusted": true
      },
      "outputs": [
        {
          "name": "stdout",
          "text": "* * * * * \n* * * * \n* * * \n* * \n* \n",
          "output_type": "stream"
        }
      ],
      "execution_count": 14
    },
    {
      "cell_type": "code",
      "source": "def row(n):\n    if n < 1:\n        return\n    for i in range(n):\n        print(\"*\", end=\" \")\n    print(\"\")             # This ensures a new line without adding extra spacing\n                            #Each print() call adds a new line by default.\n\ndef pattern(n):\n    if n < 1:\n        return\n    row(n)\n    pattern(n - 1)\n\nn = 5\npattern(n)\n",
      "metadata": {
        "trusted": true
      },
      "outputs": [
        {
          "name": "stdout",
          "text": "* * * * * \n* * * * \n* * * \n* * \n* \n",
          "output_type": "stream"
        }
      ],
      "execution_count": 15
    },
    {
      "cell_type": "code",
      "source": "def row(n):\n    if n < 1:\n        return\n    for i in range(n):\n        print(\"*\", end=\" \")\n\n\ndef pattern(n):\n    if n < 1:\n        return\n    row(n)\n    print(\"\\n\")               # New line after each row   #Adds a newline and then another implicit newline from print().\n                                #Output: Moves the cursor to the next line and adds an extra line break \n    pattern(n - 1)\n\nn = 5\npattern(n)\n",
      "metadata": {
        "trusted": true
      },
      "outputs": [
        {
          "name": "stdout",
          "text": "* * * * * \n\n* * * * \n\n* * * \n\n* * \n\n* \n\n",
          "output_type": "stream"
        }
      ],
      "execution_count": 17
    },
    {
      "cell_type": "code",
      "source": "def row(n):\n    if n < 1:\n        return\n    for i in range(n):\n        print(\"*\", end=\" \")\n    print(\"\\n\", end=\"\")  # Using \\n\n\ndef pattern(n):\n    if n < 1:\n        return\n    row(n)\n    pattern(n - 1)\n\nn = 5\npattern(n)",
      "metadata": {
        "trusted": true
      },
      "outputs": [
        {
          "name": "stdout",
          "text": "* * * * * \n* * * * \n* * * \n* * \n* \n",
          "output_type": "stream"
        }
      ],
      "execution_count": 6
    },
    {
      "cell_type": "code",
      "source": "class Voter:\n    voting_age = 18\n    num_voters = 0\n\n    def __init__(self, age):\n        self.age = age\n        Voter.num_voters += 1\n\n    @staticmethod\n    def is_eligible(age):\n        return age >= Voter.voting_age\n\n    @classmethod\n    def get_total_voters(cls):\n        return cls.num_voters                       #cls short for class used to refer to class same as self refers to instance of a class\n                                                        #cls is used to access class level data eg. it return the value of num_voters in class Voter. \n\n    def check_eligibility(self):\n        if Voter.is_eligible(self.age):\n            print(f\"You are eligible to vote at age {self.age}.\")\n        else:\n            print(f\"Sorry, you are not eligible to vote at age {self.age}.\")\n\n\n# Create voter instances\nvoter1 = Voter(20)\nvoter2 = Voter(16)\nvoter3 = Voter(25)\n\n# Check eligibility and total voters\n\nvoter1.check_eligibility()                # Output: You are eligible to vote at age 20.\nvoter2.check_eligibility()                # Output: Sorry, you are not eligible to vote at age 16.\nvoter3.check_eligibility()                # Output: You are eligible to vote at age 25.\nprint(f\"Total voters: {Voter.get_total_voters()}\")              # Output: Total voters: 3",
      "metadata": {
        "trusted": true
      },
      "outputs": [
        {
          "name": "stdout",
          "text": "You are eligible to vote at age 20.\nSorry, you are not eligible to vote at age 16.\nYou are eligible to vote at age 25.\nTotal voters: 3\n",
          "output_type": "stream"
        }
      ],
      "execution_count": 1
    },
    {
      "cell_type": "markdown",
      "source": "# NUMPY BASICS ",
      "metadata": {}
    },
    {
      "cell_type": "code",
      "source": "import numpy as np\n\na = np.array([1, 2, 3, 4, 5])\na = np.insert(a, 2, 100)  # Update 'a' with the new array including the inserted element.\nprint(a)  # This will now print the modified array.",
      "metadata": {
        "trusted": true
      },
      "outputs": [
        {
          "name": "stdout",
          "text": "[  1   2 100   3   4   5]\n",
          "output_type": "stream"
        }
      ],
      "execution_count": 2
    },
    {
      "cell_type": "code",
      "source": "import numpy as np               \na = np.array([1, 2, 3, 4, 5])    \nnp.insert(a, 2, 100)              # Insert the value 100 at index 2 of array 'a'.\nprint(a)                          # Print the modified array 'a'.",
      "metadata": {
        "trusted": true
      },
      "outputs": [
        {
          "name": "stdout",
          "text": "[1 2 3 4 5]\n",
          "output_type": "stream"
        }
      ],
      "execution_count": 3
    },
    {
      "cell_type": "code",
      "source": "import numpy as np\narr = np.array([1, 2, 3, 4, 5])\nx = arr.copy()                      #copy() basically creates  a copy of it independent of the original , \narr[0] = 42                                    #any changes done in original won't reflect back in copy\n\nprint(arr)\nprint(x)\n\nimport numpy as np            #view() is actually a way to see the data and changes on it reflects in the original \n                                # it actually used when you need to work on the data but a small portion of it. you want the changes u do would appear\n                                #in the original but can't work with the whole data as it is massive.\n\narr = np.array([1, 2, 3, 4, 5])\nx = arr.view()\narr[0] = 42\n\nprint(arr)\nprint(x)\n",
      "metadata": {
        "trusted": true
      },
      "outputs": [
        {
          "name": "stdout",
          "text": "[42  2  3  4  5]\n[1 2 3 4 5]\n[42  2  3  4  5]\n[42  2  3  4  5]\n",
          "output_type": "stream"
        }
      ],
      "execution_count": 4
    },
    {
      "cell_type": "code",
      "source": "# By default axis=0 ; concatenate by rows\n\nimport numpy as np\narr1 = np.array([1, 2, 3])\narr2 = np.array([4, 5, 6])\n\narr = np.concatenate((arr1, arr2))\n\nprint(arr)",
      "metadata": {
        "trusted": true
      },
      "outputs": [
        {
          "name": "stdout",
          "text": "[1 2 3 4 5 6]\n",
          "output_type": "stream"
        }
      ],
      "execution_count": 1
    },
    {
      "cell_type": "code",
      "source": "arr1 = np.array([[1, 2], [3, 4]])\narr2 = np.array([[5, 6], [7, 8]])\n\nresult = np.concatenate((arr1, arr2), axis=0)\nprint(result)\n",
      "metadata": {
        "trusted": true
      },
      "outputs": [
        {
          "name": "stdout",
          "text": "[[1 2]\n [3 4]\n [5 6]\n [7 8]]\n",
          "output_type": "stream"
        }
      ],
      "execution_count": 2
    },
    {
      "cell_type": "code",
      "source": "# [1,2] and [3,4] are 2 elements of arr1\n# [5,6] and [7,8] are 2 elements of arr2\n#axis = 1 ; [1,2]+[5,6] and [3,4]+[7,8]\n\nresult = np.concatenate((arr1, arr2), axis=1)\nprint(result)\n",
      "metadata": {
        "trusted": true
      },
      "outputs": [
        {
          "name": "stdout",
          "text": "[[1 2 5 6]\n [3 4 7 8]]\n",
          "output_type": "stream"
        }
      ],
      "execution_count": 3
    },
    {
      "cell_type": "code",
      "source": "import numpy as np\n\narr1 = np.array([10, 20, 30])\narr2 = np.array([40, 50, 60])\narr = np.stack((arr1, arr2), axis=1)\nprint(arr)",
      "metadata": {
        "trusted": true
      },
      "outputs": [
        {
          "name": "stdout",
          "text": "[[10 40]\n [20 50]\n [30 60]]\n",
          "output_type": "stream"
        }
      ],
      "execution_count": 4
    },
    {
      "cell_type": "code",
      "source": "import numpy as np\n\narr1 = np.array([1, 2, 3])                  #concatenate simply merge two or more arrays in the existing dim.\n                                            # no new dim array . no seperate arrays found they are merged.\narr2 = np.array([4, 5, 6])\nnp.concatenate((arr1, arr2))\n\n",
      "metadata": {
        "trusted": true
      },
      "outputs": [
        {
          "execution_count": 5,
          "output_type": "execute_result",
          "data": {
            "text/plain": "array([1, 2, 3, 4, 5, 6])"
          },
          "metadata": {}
        }
      ],
      "execution_count": 5
    },
    {
      "cell_type": "code",
      "source": "np.stack((arr1, arr2), axis=0)                #stack bundled 2 arrays in one new array . Inside the stack the arrays are completely seperated.",
      "metadata": {
        "trusted": true
      },
      "outputs": [
        {
          "execution_count": 6,
          "output_type": "execute_result",
          "data": {
            "text/plain": "array([[1, 2, 3],\n       [4, 5, 6]])"
          },
          "metadata": {}
        }
      ],
      "execution_count": 6
    },
    {
      "cell_type": "code",
      "source": "import numpy as np\narr = np.array([1, 2, 3, 4, 5, 6])\nnew = np.array_split(arr, 2)\nprint(new)",
      "metadata": {
        "trusted": true
      },
      "outputs": [
        {
          "name": "stdout",
          "text": "[array([1, 2, 3]), array([4, 5, 6])]\n",
          "output_type": "stream"
        }
      ],
      "execution_count": 5
    },
    {
      "cell_type": "code",
      "source": "import numpy as np\narr = np.array([1, 2, 3, 4, 5, 6])\nnew = np.array_split(arr, 3)\nprint(new)\n",
      "metadata": {
        "trusted": true
      },
      "outputs": [
        {
          "name": "stdout",
          "text": "[array([1, 2]), array([3, 4]), array([5, 6])]\n",
          "output_type": "stream"
        }
      ],
      "execution_count": 6
    },
    {
      "cell_type": "code",
      "source": "import numpy as np\narr = np.array([1, 2, 3, 4, 5, 6])\nnew = np.array_split(arr, 4)\nprint(new)",
      "metadata": {
        "trusted": true
      },
      "outputs": [
        {
          "name": "stdout",
          "text": "[array([1, 2]), array([3, 4]), array([5]), array([6])]\n",
          "output_type": "stream"
        }
      ],
      "execution_count": 7
    },
    {
      "cell_type": "code",
      "source": "import numpy as np                      #try to split in as many equal parts possible \narr = np.array([1, 2, 3, 4, 5, 6])\nnew = np.array_split(arr, 5)\nprint(new)",
      "metadata": {
        "trusted": true
      },
      "outputs": [
        {
          "name": "stdout",
          "text": "[array([1, 2]), array([3]), array([4]), array([5]), array([6])]\n",
          "output_type": "stream"
        }
      ],
      "execution_count": 8
    },
    {
      "cell_type": "code",
      "source": "import numpy as np                      # either if there are some empty arrays as well \narr = np.array([1, 2, 3, 4, 5, 6])\nnew = np.array_split(arr, 7)\nprint(new)",
      "metadata": {
        "trusted": true
      },
      "outputs": [
        {
          "name": "stdout",
          "text": "[array([1]), array([2]), array([3]), array([4]), array([5]), array([6]), array([], dtype=int32)]\n",
          "output_type": "stream"
        }
      ],
      "execution_count": 9
    },
    {
      "cell_type": "code",
      "source": "import numpy as np\n\narr = np.array([3, 2, 0, 1])\narr1 = np.array(['banana', 'cherry', 'apple'])\n\nprint(np.sort(arr))\nprint(np.sort(arr1))",
      "metadata": {
        "trusted": true
      },
      "outputs": [
        {
          "name": "stdout",
          "text": "[0 1 2 3]\n['apple' 'banana' 'cherry']\n",
          "output_type": "stream"
        }
      ],
      "execution_count": 10
    },
    {
      "cell_type": "code",
      "source": "import numpy as np\n\narr = np.array([3, 2, 0, 1])                             #sorting on the basis of low ASCII values for charecters\narr1 = np.array(['banana', 'Apple', 'apple'])\n\nprint(np.sort(arr))\nprint(np.sort(arr1))\n",
      "metadata": {
        "trusted": true
      },
      "outputs": [
        {
          "name": "stdout",
          "text": "[0 1 2 3]\n['Apple' 'apple' 'banana']\n",
          "output_type": "stream"
        }
      ],
      "execution_count": 11
    },
    {
      "cell_type": "markdown",
      "source": "# PANDAS BASICS ",
      "metadata": {}
    },
    {
      "cell_type": "code",
      "source": "import pandas as pd\nlst = [['id', 'name', 'address'], [1, 2, 3, 4], ['A', 'B', 'C', 'D'], ['Aswin', 'Anil', 'Akil', 'Aman']]\n\n#zip() - pairing of each element of the first list with the corresponding elements of the other list.\n#and paired them in (,) like this\n#eg. ('id',[1, 2, 3, 4])\n#('name',['A', 'B', 'C', 'D'])\n#('address',['Aswin', 'Anil', 'Akil', 'Aman'])\n\n#dict((zip(lst[0], lst[1:])) - will create a dictionary as their key value pair...\n#{'id':[1, 2, 3, 4] , 'name':['A', 'B', 'C', 'D'] , 'address':['Aswin', 'Anil', 'Akil', 'Aman']}\n\ndf = pd.DataFrame(dict(zip(lst[0], lst[1:])))        \n\nprint(df)\n     ",
      "metadata": {
        "trusted": true
      },
      "outputs": [
        {
          "name": "stderr",
          "text": "<ipython-input-12-88cd59fed4cd>:1: DeprecationWarning: \nPyarrow will become a required dependency of pandas in the next major release of pandas (pandas 3.0),\n(to allow more performant data types, such as the Arrow string type, and better interoperability with other libraries)\nbut was not found to be installed on your system.\nIf this would cause problems for you,\nplease provide us feedback at https://github.com/pandas-dev/pandas/issues/54466\n        \n  import pandas as pd\n",
          "output_type": "stream"
        },
        {
          "name": "stdout",
          "text": "   id name address\n0   1    A   Aswin\n1   2    B    Anil\n2   3    C    Akil\n3   4    D    Aman\n",
          "output_type": "stream"
        }
      ],
      "execution_count": 12
    },
    {
      "cell_type": "code",
      "source": "arr = np.array([[[1,2,3],[4,5,6],[7,8,9]]])\ndf = pd.DataFrame(arr)\ndf",
      "metadata": {
        "trusted": true
      },
      "outputs": [
        {
          "ename": "<class 'ValueError'>",
          "evalue": "Must pass 2-d input. shape=(1, 3, 3)",
          "traceback": [
            "\u001b[0;31m---------------------------------------------------------------------------\u001b[0m",
            "\u001b[0;31mValueError\u001b[0m                                Traceback (most recent call last)",
            "Cell \u001b[0;32mIn[13], line 2\u001b[0m\n\u001b[1;32m      1\u001b[0m arr \u001b[38;5;241m=\u001b[39m np\u001b[38;5;241m.\u001b[39marray([[[\u001b[38;5;241m1\u001b[39m,\u001b[38;5;241m2\u001b[39m,\u001b[38;5;241m3\u001b[39m],[\u001b[38;5;241m4\u001b[39m,\u001b[38;5;241m5\u001b[39m,\u001b[38;5;241m6\u001b[39m],[\u001b[38;5;241m7\u001b[39m,\u001b[38;5;241m8\u001b[39m,\u001b[38;5;241m9\u001b[39m]]])\n\u001b[0;32m----> 2\u001b[0m df \u001b[38;5;241m=\u001b[39m \u001b[43mpd\u001b[49m\u001b[38;5;241;43m.\u001b[39;49m\u001b[43mDataFrame\u001b[49m\u001b[43m(\u001b[49m\u001b[43marr\u001b[49m\u001b[43m)\u001b[49m\n\u001b[1;32m      3\u001b[0m df\n",
            "File \u001b[0;32m/lib/python3.12/site-packages/pandas/core/frame.py:816\u001b[0m, in \u001b[0;36mDataFrame.__init__\u001b[0;34m(self, data, index, columns, dtype, copy)\u001b[0m\n\u001b[1;32m    805\u001b[0m         mgr \u001b[38;5;241m=\u001b[39m dict_to_mgr(\n\u001b[1;32m    806\u001b[0m             \u001b[38;5;66;03m# error: Item \"ndarray\" of \"Union[ndarray, Series, Index]\" has no\u001b[39;00m\n\u001b[1;32m    807\u001b[0m             \u001b[38;5;66;03m# attribute \"name\"\u001b[39;00m\n\u001b[0;32m   (...)\u001b[0m\n\u001b[1;32m    813\u001b[0m             copy\u001b[38;5;241m=\u001b[39m_copy,\n\u001b[1;32m    814\u001b[0m         )\n\u001b[1;32m    815\u001b[0m     \u001b[38;5;28;01melse\u001b[39;00m:\n\u001b[0;32m--> 816\u001b[0m         mgr \u001b[38;5;241m=\u001b[39m \u001b[43mndarray_to_mgr\u001b[49m\u001b[43m(\u001b[49m\n\u001b[1;32m    817\u001b[0m \u001b[43m            \u001b[49m\u001b[43mdata\u001b[49m\u001b[43m,\u001b[49m\n\u001b[1;32m    818\u001b[0m \u001b[43m            \u001b[49m\u001b[43mindex\u001b[49m\u001b[43m,\u001b[49m\n\u001b[1;32m    819\u001b[0m \u001b[43m            \u001b[49m\u001b[43mcolumns\u001b[49m\u001b[43m,\u001b[49m\n\u001b[1;32m    820\u001b[0m \u001b[43m            \u001b[49m\u001b[43mdtype\u001b[49m\u001b[38;5;241;43m=\u001b[39;49m\u001b[43mdtype\u001b[49m\u001b[43m,\u001b[49m\n\u001b[1;32m    821\u001b[0m \u001b[43m            \u001b[49m\u001b[43mcopy\u001b[49m\u001b[38;5;241;43m=\u001b[39;49m\u001b[43mcopy\u001b[49m\u001b[43m,\u001b[49m\n\u001b[1;32m    822\u001b[0m \u001b[43m            \u001b[49m\u001b[43mtyp\u001b[49m\u001b[38;5;241;43m=\u001b[39;49m\u001b[43mmanager\u001b[49m\u001b[43m,\u001b[49m\n\u001b[1;32m    823\u001b[0m \u001b[43m        \u001b[49m\u001b[43m)\u001b[49m\n\u001b[1;32m    825\u001b[0m \u001b[38;5;66;03m# For data is list-like, or Iterable (will consume into list)\u001b[39;00m\n\u001b[1;32m    826\u001b[0m \u001b[38;5;28;01melif\u001b[39;00m is_list_like(data):\n",
            "File \u001b[0;32m/lib/python3.12/site-packages/pandas/core/internals/construction.py:314\u001b[0m, in \u001b[0;36mndarray_to_mgr\u001b[0;34m(values, index, columns, dtype, copy, typ)\u001b[0m\n\u001b[1;32m    308\u001b[0m     _copy \u001b[38;5;241m=\u001b[39m (\n\u001b[1;32m    309\u001b[0m         copy_on_sanitize\n\u001b[1;32m    310\u001b[0m         \u001b[38;5;28;01mif\u001b[39;00m (dtype \u001b[38;5;129;01mis\u001b[39;00m \u001b[38;5;28;01mNone\u001b[39;00m \u001b[38;5;129;01mor\u001b[39;00m astype_is_view(values\u001b[38;5;241m.\u001b[39mdtype, dtype))\n\u001b[1;32m    311\u001b[0m         \u001b[38;5;28;01melse\u001b[39;00m \u001b[38;5;28;01mFalse\u001b[39;00m\n\u001b[1;32m    312\u001b[0m     )\n\u001b[1;32m    313\u001b[0m     values \u001b[38;5;241m=\u001b[39m np\u001b[38;5;241m.\u001b[39marray(values, copy\u001b[38;5;241m=\u001b[39m_copy)\n\u001b[0;32m--> 314\u001b[0m     values \u001b[38;5;241m=\u001b[39m \u001b[43m_ensure_2d\u001b[49m\u001b[43m(\u001b[49m\u001b[43mvalues\u001b[49m\u001b[43m)\u001b[49m\n\u001b[1;32m    316\u001b[0m \u001b[38;5;28;01melse\u001b[39;00m:\n\u001b[1;32m    317\u001b[0m     \u001b[38;5;66;03m# by definition an array here\u001b[39;00m\n\u001b[1;32m    318\u001b[0m     \u001b[38;5;66;03m# the dtypes will be coerced to a single dtype\u001b[39;00m\n\u001b[1;32m    319\u001b[0m     values \u001b[38;5;241m=\u001b[39m _prep_ndarraylike(values, copy\u001b[38;5;241m=\u001b[39mcopy_on_sanitize)\n",
            "File \u001b[0;32m/lib/python3.12/site-packages/pandas/core/internals/construction.py:592\u001b[0m, in \u001b[0;36m_ensure_2d\u001b[0;34m(values)\u001b[0m\n\u001b[1;32m    590\u001b[0m     values \u001b[38;5;241m=\u001b[39m values\u001b[38;5;241m.\u001b[39mreshape((values\u001b[38;5;241m.\u001b[39mshape[\u001b[38;5;241m0\u001b[39m], \u001b[38;5;241m1\u001b[39m))\n\u001b[1;32m    591\u001b[0m \u001b[38;5;28;01melif\u001b[39;00m values\u001b[38;5;241m.\u001b[39mndim \u001b[38;5;241m!=\u001b[39m \u001b[38;5;241m2\u001b[39m:\n\u001b[0;32m--> 592\u001b[0m     \u001b[38;5;28;01mraise\u001b[39;00m \u001b[38;5;167;01mValueError\u001b[39;00m(\u001b[38;5;124mf\u001b[39m\u001b[38;5;124m\"\u001b[39m\u001b[38;5;124mMust pass 2-d input. shape=\u001b[39m\u001b[38;5;132;01m{\u001b[39;00mvalues\u001b[38;5;241m.\u001b[39mshape\u001b[38;5;132;01m}\u001b[39;00m\u001b[38;5;124m\"\u001b[39m)\n\u001b[1;32m    593\u001b[0m \u001b[38;5;28;01mreturn\u001b[39;00m values\n",
            "\u001b[0;31mValueError\u001b[0m: Must pass 2-d input. shape=(1, 3, 3)"
          ],
          "output_type": "error"
        }
      ],
      "execution_count": 13
    },
    {
      "cell_type": "code",
      "source": "#DataFrame is a two-dimensional table with rows and columns only.\n\narr = np.array([[1,2,3],[4,5,6],[7,8,9]])\ndf = pd.DataFrame(arr)\ndf",
      "metadata": {
        "trusted": true
      },
      "outputs": [
        {
          "execution_count": 14,
          "output_type": "execute_result",
          "data": {
            "text/plain": "   0  1  2\n0  1  2  3\n1  4  5  6\n2  7  8  9",
            "text/html": "<div>\n<style scoped>\n    .dataframe tbody tr th:only-of-type {\n        vertical-align: middle;\n    }\n\n    .dataframe tbody tr th {\n        vertical-align: top;\n    }\n\n    .dataframe thead th {\n        text-align: right;\n    }\n</style>\n<table border=\"1\" class=\"dataframe\">\n  <thead>\n    <tr style=\"text-align: right;\">\n      <th></th>\n      <th>0</th>\n      <th>1</th>\n      <th>2</th>\n    </tr>\n  </thead>\n  <tbody>\n    <tr>\n      <th>0</th>\n      <td>1</td>\n      <td>2</td>\n      <td>3</td>\n    </tr>\n    <tr>\n      <th>1</th>\n      <td>4</td>\n      <td>5</td>\n      <td>6</td>\n    </tr>\n    <tr>\n      <th>2</th>\n      <td>7</td>\n      <td>8</td>\n      <td>9</td>\n    </tr>\n  </tbody>\n</table>\n</div>"
          },
          "metadata": {}
        }
      ],
      "execution_count": 14
    },
    {
      "cell_type": "code",
      "source": "df.shape              #attribute\n",
      "metadata": {
        "trusted": true
      },
      "outputs": [
        {
          "execution_count": 15,
          "output_type": "execute_result",
          "data": {
            "text/plain": "(3, 3)"
          },
          "metadata": {}
        }
      ],
      "execution_count": 15
    },
    {
      "cell_type": "code",
      "source": "#returns the index (row labels) of the DataFrame \nprint(df.index)                    #attribute",
      "metadata": {
        "trusted": true
      },
      "outputs": [
        {
          "name": "stdout",
          "text": "RangeIndex(start=0, stop=3, step=1)\n",
          "output_type": "stream"
        }
      ],
      "execution_count": 16
    },
    {
      "cell_type": "code",
      "source": "print(df.size)                    #attribute",
      "metadata": {
        "trusted": true
      },
      "outputs": [
        {
          "name": "stdout",
          "text": "9\n",
          "output_type": "stream"
        }
      ],
      "execution_count": 17
    },
    {
      "cell_type": "code",
      "source": "data = {'Name': ['Aswin', 'Abdullah', 'Ankush'],\n        'Age': [20, 30, 35],\n        'City': ['Chennai', 'Kerala', 'London']}\ndf = pd.DataFrame(data)\n\n\ndf.columns               #attribute",
      "metadata": {
        "trusted": true
      },
      "outputs": [
        {
          "execution_count": 18,
          "output_type": "execute_result",
          "data": {
            "text/plain": "Index(['Name', 'Age', 'City'], dtype='object')"
          },
          "metadata": {}
        }
      ],
      "execution_count": 18
    },
    {
      "cell_type": "code",
      "source": "#returns a list containing the row axis labels and column axis labels\n#The first element represents the row index.\n#The second element represents the column index with dtype.\n\ndf.axes                     #attribute",
      "metadata": {
        "trusted": true
      },
      "outputs": [
        {
          "execution_count": 19,
          "output_type": "execute_result",
          "data": {
            "text/plain": "[RangeIndex(start=0, stop=3, step=1),\n Index(['Name', 'Age', 'City'], dtype='object')]"
          },
          "metadata": {}
        }
      ],
      "execution_count": 19
    },
    {
      "cell_type": "code",
      "source": "#returns a DataFrame of the same shape as the original, \n#but with Boolean values indicating where values in the original DataFrame are NaN\n\ndf.isna()",
      "metadata": {
        "trusted": true
      },
      "outputs": [
        {
          "execution_count": 20,
          "output_type": "execute_result",
          "data": {
            "text/plain": "    Name    Age   City\n0  False  False  False\n1  False  False  False\n2  False  False  False",
            "text/html": "<div>\n<style scoped>\n    .dataframe tbody tr th:only-of-type {\n        vertical-align: middle;\n    }\n\n    .dataframe tbody tr th {\n        vertical-align: top;\n    }\n\n    .dataframe thead th {\n        text-align: right;\n    }\n</style>\n<table border=\"1\" class=\"dataframe\">\n  <thead>\n    <tr style=\"text-align: right;\">\n      <th></th>\n      <th>Name</th>\n      <th>Age</th>\n      <th>City</th>\n    </tr>\n  </thead>\n  <tbody>\n    <tr>\n      <th>0</th>\n      <td>False</td>\n      <td>False</td>\n      <td>False</td>\n    </tr>\n    <tr>\n      <th>1</th>\n      <td>False</td>\n      <td>False</td>\n      <td>False</td>\n    </tr>\n    <tr>\n      <th>2</th>\n      <td>False</td>\n      <td>False</td>\n      <td>False</td>\n    </tr>\n  </tbody>\n</table>\n</div>"
          },
          "metadata": {}
        }
      ],
      "execution_count": 20
    },
    {
      "cell_type": "code",
      "source": "df.loc[0]            #will be a series with index as column headers",
      "metadata": {
        "trusted": true
      },
      "outputs": [
        {
          "execution_count": 21,
          "output_type": "execute_result",
          "data": {
            "text/plain": "Name      Aswin\nAge          20\nCity    Chennai\nName: 0, dtype: object"
          },
          "metadata": {}
        }
      ],
      "execution_count": 21
    },
    {
      "cell_type": "code",
      "source": "#df['Age'] >= 35: This creates a Boolean Series (essentially a list of True/False values)\n#df[df['Age'] >= 35]: This uses the Boolean Series to filter the DataFrame. Only the rows where the condition is True.\n\ndf[df['Age'] >= 35]",
      "metadata": {
        "trusted": true
      },
      "outputs": [
        {
          "execution_count": 22,
          "output_type": "execute_result",
          "data": {
            "text/plain": "     Name  Age    City\n2  Ankush   35  London",
            "text/html": "<div>\n<style scoped>\n    .dataframe tbody tr th:only-of-type {\n        vertical-align: middle;\n    }\n\n    .dataframe tbody tr th {\n        vertical-align: top;\n    }\n\n    .dataframe thead th {\n        text-align: right;\n    }\n</style>\n<table border=\"1\" class=\"dataframe\">\n  <thead>\n    <tr style=\"text-align: right;\">\n      <th></th>\n      <th>Name</th>\n      <th>Age</th>\n      <th>City</th>\n    </tr>\n  </thead>\n  <tbody>\n    <tr>\n      <th>2</th>\n      <td>Ankush</td>\n      <td>35</td>\n      <td>London</td>\n    </tr>\n  </tbody>\n</table>\n</div>"
          },
          "metadata": {}
        }
      ],
      "execution_count": 22
    },
    {
      "cell_type": "code",
      "source": "#value chage at 0th row column \"age\"\n#.at used to get or set a single value in df \n\ndf.at[0, 'Age'] = 26\ndf",
      "metadata": {
        "trusted": true
      },
      "outputs": [
        {
          "execution_count": 23,
          "output_type": "execute_result",
          "data": {
            "text/plain": "       Name  Age     City\n0     Aswin   26  Chennai\n1  Abdullah   30   Kerala\n2    Ankush   35   London",
            "text/html": "<div>\n<style scoped>\n    .dataframe tbody tr th:only-of-type {\n        vertical-align: middle;\n    }\n\n    .dataframe tbody tr th {\n        vertical-align: top;\n    }\n\n    .dataframe thead th {\n        text-align: right;\n    }\n</style>\n<table border=\"1\" class=\"dataframe\">\n  <thead>\n    <tr style=\"text-align: right;\">\n      <th></th>\n      <th>Name</th>\n      <th>Age</th>\n      <th>City</th>\n    </tr>\n  </thead>\n  <tbody>\n    <tr>\n      <th>0</th>\n      <td>Aswin</td>\n      <td>26</td>\n      <td>Chennai</td>\n    </tr>\n    <tr>\n      <th>1</th>\n      <td>Abdullah</td>\n      <td>30</td>\n      <td>Kerala</td>\n    </tr>\n    <tr>\n      <th>2</th>\n      <td>Ankush</td>\n      <td>35</td>\n      <td>London</td>\n    </tr>\n  </tbody>\n</table>\n</div>"
          },
          "metadata": {}
        }
      ],
      "execution_count": 23
    },
    {
      "cell_type": "code",
      "source": "#value_counts() function counts the occurrence of each unique value in that column and returns a Series in descending order by default\n\ndata = {'A': [1, 2, 3, 4, 5],\n        'B': ['chennai', 'chandigarh', 'delhi', 'coimbatore', 'kanpur']}\ndf = pd.DataFrame(data)\n\nvalue_counts_A = df['A'].value_counts()\nprint(value_counts_A)",
      "metadata": {
        "trusted": true
      },
      "outputs": [
        {
          "name": "stdout",
          "text": "A\n1    1\n2    1\n3    1\n4    1\n5    1\nName: count, dtype: int64\n",
          "output_type": "stream"
        }
      ],
      "execution_count": 24
    },
    {
      "cell_type": "code",
      "source": "#This method removes any rows or columns that contain missing values\n\n#df.dropna(subset=['A','B'])  drop missing values in column A and B\n\nimport pandas as pd\ndata= {'A': [1, 2, None, 4, 5],\n        'B': ['chennai', 'chandigarh', None, 'coimbatore', 'kanpur']}\ndf= pd.DataFrame(data)\n\ndf.dropna()",
      "metadata": {
        "trusted": true
      },
      "outputs": [
        {
          "execution_count": 6,
          "output_type": "execute_result",
          "data": {
            "text/plain": "     A           B\n0  1.0     chennai\n1  2.0  chandigarh\n3  4.0  coimbatore\n4  5.0      kanpur",
            "text/html": "<div>\n<style scoped>\n    .dataframe tbody tr th:only-of-type {\n        vertical-align: middle;\n    }\n\n    .dataframe tbody tr th {\n        vertical-align: top;\n    }\n\n    .dataframe thead th {\n        text-align: right;\n    }\n</style>\n<table border=\"1\" class=\"dataframe\">\n  <thead>\n    <tr style=\"text-align: right;\">\n      <th></th>\n      <th>A</th>\n      <th>B</th>\n    </tr>\n  </thead>\n  <tbody>\n    <tr>\n      <th>0</th>\n      <td>1.0</td>\n      <td>chennai</td>\n    </tr>\n    <tr>\n      <th>1</th>\n      <td>2.0</td>\n      <td>chandigarh</td>\n    </tr>\n    <tr>\n      <th>3</th>\n      <td>4.0</td>\n      <td>coimbatore</td>\n    </tr>\n    <tr>\n      <th>4</th>\n      <td>5.0</td>\n      <td>kanpur</td>\n    </tr>\n  </tbody>\n</table>\n</div>"
          },
          "metadata": {}
        }
      ],
      "execution_count": 6
    },
    {
      "cell_type": "code",
      "source": "df1 = pd.DataFrame({'key': ['A', 'B', 'C'], 'value1': [10, 20, 30]})\ndf2 = pd.DataFrame({'key': ['B', 'C', 'D'], 'value2': [40, 50, 60]})\n\n# Merge based on 'key' column\nmerged_df = pd.merge(df1, df2, on='key', how='inner')\nprint(merged_df)",
      "metadata": {
        "trusted": true
      },
      "outputs": [
        {
          "name": "stdout",
          "text": "  key  value1  value2\n0   B      20      40\n1   C      30      50\n",
          "output_type": "stream"
        }
      ],
      "execution_count": 4
    },
    {
      "cell_type": "code",
      "source": "#df.groupby('B'): group the DataFrame df by the values in column 'B'.\n\n#['A'].sum(): For each group created this sums up the values in column 'A'. \n\n#.reset_index(): reset_index() converts this multi-level index back into columns, making 'B' and 'A' regular columns again.\ngrouped_df = df.groupby('B')['A'].sum().reset_index()\nprint(grouped_df)\n",
      "metadata": {
        "trusted": true
      },
      "outputs": [
        {
          "name": "stdout",
          "text": "            B    A\n0  chandigarh  2.0\n1     chennai  1.0\n2  coimbatore  4.0\n3      kanpur  5.0\n",
          "output_type": "stream"
        }
      ],
      "execution_count": 7
    },
    {
      "cell_type": "code",
      "source": "# Create a pivot table on the values of column A , Group by Column B, agg func (mean) on the col A.\n\npivot_table = df.pivot_table(values='A', index='B', aggfunc='mean')\nprint(pivot_table)\n",
      "metadata": {
        "trusted": true
      },
      "outputs": [
        {
          "name": "stdout",
          "text": "              A\nB              \nchandigarh  2.0\nchennai     1.0\ncoimbatore  4.0\nkanpur      5.0\n",
          "output_type": "stream"
        }
      ],
      "execution_count": 8
    },
    {
      "cell_type": "code",
      "source": "def square(x):\n    return x ** 2\n\n# Apply the (any)custom function to 'A' column\ndf['A_squared'] = df['A'].apply(square)\nprint(df)",
      "metadata": {
        "trusted": true
      },
      "outputs": [
        {
          "name": "stdout",
          "text": "     A           B  A_squared\n0  1.0     chennai        1.0\n1  2.0  chandigarh        4.0\n2  NaN        None        NaN\n3  4.0  coimbatore       16.0\n4  5.0      kanpur       25.0\n",
          "output_type": "stream"
        }
      ],
      "execution_count": 9
    },
    {
      "cell_type": "code",
      "source": "import pandas as pd\n\ndata = {'A': [10, 20, None, 30, 40],\n        'B': [None, 'chennai', 'coimbatore', 'london', 'america']}\n\ndf = pd.DataFrame(data)\n\ndf.dropna(axis=1)             #axis0 = row ; axis1 = col;",
      "metadata": {
        "trusted": true
      },
      "outputs": [
        {
          "execution_count": 10,
          "output_type": "execute_result",
          "data": {
            "text/plain": "Empty DataFrame\nColumns: []\nIndex: [0, 1, 2, 3, 4]",
            "text/html": "<div>\n<style scoped>\n    .dataframe tbody tr th:only-of-type {\n        vertical-align: middle;\n    }\n\n    .dataframe tbody tr th {\n        vertical-align: top;\n    }\n\n    .dataframe thead th {\n        text-align: right;\n    }\n</style>\n<table border=\"1\" class=\"dataframe\">\n  <thead>\n    <tr style=\"text-align: right;\">\n      <th></th>\n    </tr>\n  </thead>\n  <tbody>\n    <tr>\n      <th>0</th>\n    </tr>\n    <tr>\n      <th>1</th>\n    </tr>\n    <tr>\n      <th>2</th>\n    </tr>\n    <tr>\n      <th>3</th>\n    </tr>\n    <tr>\n      <th>4</th>\n    </tr>\n  </tbody>\n</table>\n</div>"
          },
          "metadata": {}
        }
      ],
      "execution_count": 10
    },
    {
      "cell_type": "code",
      "source": "#In Column A fillNAN in Column A with mean of Col A , changes in original df(inplace = True)\n\ndf['A'].fillna(df['A'].mean(), inplace=True)           \ndf",
      "metadata": {
        "trusted": true
      },
      "outputs": [
        {
          "name": "stderr",
          "text": "<ipython-input-11-462b24f90d9e>:1: FutureWarning: A value is trying to be set on a copy of a DataFrame or Series through chained assignment using an inplace method.\nThe behavior will change in pandas 3.0. This inplace method will never work because the intermediate object on which we are setting values always behaves as a copy.\n\nFor example, when doing 'df[col].method(value, inplace=True)', try using 'df.method({col: value}, inplace=True)' or df[col] = df[col].method(value) instead, to perform the operation inplace on the original object.\n\n\n  df['A'].fillna(df['A'].mean(), inplace=True)\n",
          "output_type": "stream"
        },
        {
          "execution_count": 11,
          "output_type": "execute_result",
          "data": {
            "text/plain": "      A           B\n0  10.0        None\n1  20.0     chennai\n2  25.0  coimbatore\n3  30.0      london\n4  40.0     america",
            "text/html": "<div>\n<style scoped>\n    .dataframe tbody tr th:only-of-type {\n        vertical-align: middle;\n    }\n\n    .dataframe tbody tr th {\n        vertical-align: top;\n    }\n\n    .dataframe thead th {\n        text-align: right;\n    }\n</style>\n<table border=\"1\" class=\"dataframe\">\n  <thead>\n    <tr style=\"text-align: right;\">\n      <th></th>\n      <th>A</th>\n      <th>B</th>\n    </tr>\n  </thead>\n  <tbody>\n    <tr>\n      <th>0</th>\n      <td>10.0</td>\n      <td>None</td>\n    </tr>\n    <tr>\n      <th>1</th>\n      <td>20.0</td>\n      <td>chennai</td>\n    </tr>\n    <tr>\n      <th>2</th>\n      <td>25.0</td>\n      <td>coimbatore</td>\n    </tr>\n    <tr>\n      <th>3</th>\n      <td>30.0</td>\n      <td>london</td>\n    </tr>\n    <tr>\n      <th>4</th>\n      <td>40.0</td>\n      <td>america</td>\n    </tr>\n  </tbody>\n</table>\n</div>"
          },
          "metadata": {}
        }
      ],
      "execution_count": 11
    },
    {
      "cell_type": "code",
      "source": "#eg if Col A has 3 unique values and Col B has 2 uniques values others duplicates...\n# The function identifies and removes any duplicate rows.\n#it will drop rows where the entire row is identical to another.\n\ndf.drop_duplicates()        ",
      "metadata": {
        "trusted": true
      },
      "outputs": [
        {
          "execution_count": 12,
          "output_type": "execute_result",
          "data": {
            "text/plain": "      A           B\n0  10.0        None\n1  20.0     chennai\n2  25.0  coimbatore\n3  30.0      london\n4  40.0     america",
            "text/html": "<div>\n<style scoped>\n    .dataframe tbody tr th:only-of-type {\n        vertical-align: middle;\n    }\n\n    .dataframe tbody tr th {\n        vertical-align: top;\n    }\n\n    .dataframe thead th {\n        text-align: right;\n    }\n</style>\n<table border=\"1\" class=\"dataframe\">\n  <thead>\n    <tr style=\"text-align: right;\">\n      <th></th>\n      <th>A</th>\n      <th>B</th>\n    </tr>\n  </thead>\n  <tbody>\n    <tr>\n      <th>0</th>\n      <td>10.0</td>\n      <td>None</td>\n    </tr>\n    <tr>\n      <th>1</th>\n      <td>20.0</td>\n      <td>chennai</td>\n    </tr>\n    <tr>\n      <th>2</th>\n      <td>25.0</td>\n      <td>coimbatore</td>\n    </tr>\n    <tr>\n      <th>3</th>\n      <td>30.0</td>\n      <td>london</td>\n    </tr>\n    <tr>\n      <th>4</th>\n      <td>40.0</td>\n      <td>america</td>\n    </tr>\n  </tbody>\n</table>\n</div>"
          },
          "metadata": {}
        }
      ],
      "execution_count": 12
    },
    {
      "cell_type": "code",
      "source": "import pandas as pd \n\ndata = {'A': [1, 2, 3, 4, 5],\n        'B': [' apple ', 'banana', 'cherry ', 'date', ' elderberry ']}\ndf = pd.DataFrame(data)\n\ndf['B'] = df['B'].str.strip()\nprint(df)\n",
      "metadata": {
        "trusted": true
      },
      "outputs": [
        {
          "name": "stdout",
          "text": "   A           B\n0  1       apple\n1  2      banana\n2  3      cherry\n3  4        date\n4  5  elderberry\n",
          "output_type": "stream"
        }
      ],
      "execution_count": 3
    },
    {
      "cell_type": "code",
      "source": "data = {'A': [1, 2, 3, 4, 5],\n        'B': ['apple', 'banana', 'cherry', 'date', 'chocolate'],\n        'C': [10, 20, 30, 40, 50]}\ndf = pd.DataFrame(data)\n\n# Remove the 'C' column\ndf.drop('C', axis=1, inplace=True)\nprint(df)",
      "metadata": {
        "trusted": true
      },
      "outputs": [
        {
          "name": "stdout",
          "text": "   A          B\n0  1      apple\n1  2     banana\n2  3     cherry\n3  4       date\n4  5  chocolate\n",
          "output_type": "stream"
        }
      ],
      "execution_count": 4
    },
    {
      "cell_type": "code",
      "source": "data = {'A': [1, 2, 3, 4, 5],\n        'B': ['apple', 'banana', 'cherry', 'date', 'chocolate'],\n        'C': [10, 20, 30, 40, 50]}\ndf = pd.DataFrame(data)\n\n# Remove the 'C' column\ndf.drop('C', axis=0, inplace=True)                #axis = 0 is for row , cannot delete a column by it...\nprint(df)",
      "metadata": {
        "trusted": true
      },
      "outputs": [
        {
          "ename": "<class 'KeyError'>",
          "evalue": "\"['C'] not found in axis\"",
          "traceback": [
            "\u001b[0;31m---------------------------------------------------------------------------\u001b[0m",
            "\u001b[0;31mKeyError\u001b[0m                                  Traceback (most recent call last)",
            "Cell \u001b[0;32mIn[5], line 7\u001b[0m\n\u001b[1;32m      4\u001b[0m df \u001b[38;5;241m=\u001b[39m pd\u001b[38;5;241m.\u001b[39mDataFrame(data)\n\u001b[1;32m      6\u001b[0m \u001b[38;5;66;03m# Remove the 'C' column\u001b[39;00m\n\u001b[0;32m----> 7\u001b[0m \u001b[43mdf\u001b[49m\u001b[38;5;241;43m.\u001b[39;49m\u001b[43mdrop\u001b[49m\u001b[43m(\u001b[49m\u001b[38;5;124;43m'\u001b[39;49m\u001b[38;5;124;43mC\u001b[39;49m\u001b[38;5;124;43m'\u001b[39;49m\u001b[43m,\u001b[49m\u001b[43m \u001b[49m\u001b[43maxis\u001b[49m\u001b[38;5;241;43m=\u001b[39;49m\u001b[38;5;241;43m0\u001b[39;49m\u001b[43m,\u001b[49m\u001b[43m \u001b[49m\u001b[43minplace\u001b[49m\u001b[38;5;241;43m=\u001b[39;49m\u001b[38;5;28;43;01mTrue\u001b[39;49;00m\u001b[43m)\u001b[49m\n\u001b[1;32m      8\u001b[0m \u001b[38;5;28mprint\u001b[39m(df)\n",
            "File \u001b[0;32m/lib/python3.12/site-packages/pandas/core/frame.py:5568\u001b[0m, in \u001b[0;36mDataFrame.drop\u001b[0;34m(self, labels, axis, index, columns, level, inplace, errors)\u001b[0m\n\u001b[1;32m   5420\u001b[0m \u001b[38;5;28;01mdef\u001b[39;00m \u001b[38;5;21mdrop\u001b[39m(\n\u001b[1;32m   5421\u001b[0m     \u001b[38;5;28mself\u001b[39m,\n\u001b[1;32m   5422\u001b[0m     labels: IndexLabel \u001b[38;5;241m|\u001b[39m \u001b[38;5;28;01mNone\u001b[39;00m \u001b[38;5;241m=\u001b[39m \u001b[38;5;28;01mNone\u001b[39;00m,\n\u001b[0;32m   (...)\u001b[0m\n\u001b[1;32m   5429\u001b[0m     errors: IgnoreRaise \u001b[38;5;241m=\u001b[39m \u001b[38;5;124m\"\u001b[39m\u001b[38;5;124mraise\u001b[39m\u001b[38;5;124m\"\u001b[39m,\n\u001b[1;32m   5430\u001b[0m ) \u001b[38;5;241m-\u001b[39m\u001b[38;5;241m>\u001b[39m DataFrame \u001b[38;5;241m|\u001b[39m \u001b[38;5;28;01mNone\u001b[39;00m:\n\u001b[1;32m   5431\u001b[0m \u001b[38;5;250m    \u001b[39m\u001b[38;5;124;03m\"\"\"\u001b[39;00m\n\u001b[1;32m   5432\u001b[0m \u001b[38;5;124;03m    Drop specified labels from rows or columns.\u001b[39;00m\n\u001b[1;32m   5433\u001b[0m \n\u001b[0;32m   (...)\u001b[0m\n\u001b[1;32m   5566\u001b[0m \u001b[38;5;124;03m            weight  1.0     0.8\u001b[39;00m\n\u001b[1;32m   5567\u001b[0m \u001b[38;5;124;03m    \"\"\"\u001b[39;00m\n\u001b[0;32m-> 5568\u001b[0m     \u001b[38;5;28;01mreturn\u001b[39;00m \u001b[38;5;28;43msuper\u001b[39;49m\u001b[43m(\u001b[49m\u001b[43m)\u001b[49m\u001b[38;5;241;43m.\u001b[39;49m\u001b[43mdrop\u001b[49m\u001b[43m(\u001b[49m\n\u001b[1;32m   5569\u001b[0m \u001b[43m        \u001b[49m\u001b[43mlabels\u001b[49m\u001b[38;5;241;43m=\u001b[39;49m\u001b[43mlabels\u001b[49m\u001b[43m,\u001b[49m\n\u001b[1;32m   5570\u001b[0m \u001b[43m        \u001b[49m\u001b[43maxis\u001b[49m\u001b[38;5;241;43m=\u001b[39;49m\u001b[43maxis\u001b[49m\u001b[43m,\u001b[49m\n\u001b[1;32m   5571\u001b[0m \u001b[43m        \u001b[49m\u001b[43mindex\u001b[49m\u001b[38;5;241;43m=\u001b[39;49m\u001b[43mindex\u001b[49m\u001b[43m,\u001b[49m\n\u001b[1;32m   5572\u001b[0m \u001b[43m        \u001b[49m\u001b[43mcolumns\u001b[49m\u001b[38;5;241;43m=\u001b[39;49m\u001b[43mcolumns\u001b[49m\u001b[43m,\u001b[49m\n\u001b[1;32m   5573\u001b[0m \u001b[43m        \u001b[49m\u001b[43mlevel\u001b[49m\u001b[38;5;241;43m=\u001b[39;49m\u001b[43mlevel\u001b[49m\u001b[43m,\u001b[49m\n\u001b[1;32m   5574\u001b[0m \u001b[43m        \u001b[49m\u001b[43minplace\u001b[49m\u001b[38;5;241;43m=\u001b[39;49m\u001b[43minplace\u001b[49m\u001b[43m,\u001b[49m\n\u001b[1;32m   5575\u001b[0m \u001b[43m        \u001b[49m\u001b[43merrors\u001b[49m\u001b[38;5;241;43m=\u001b[39;49m\u001b[43merrors\u001b[49m\u001b[43m,\u001b[49m\n\u001b[1;32m   5576\u001b[0m \u001b[43m    \u001b[49m\u001b[43m)\u001b[49m\n",
            "File \u001b[0;32m/lib/python3.12/site-packages/pandas/core/generic.py:4782\u001b[0m, in \u001b[0;36mNDFrame.drop\u001b[0;34m(self, labels, axis, index, columns, level, inplace, errors)\u001b[0m\n\u001b[1;32m   4780\u001b[0m \u001b[38;5;28;01mfor\u001b[39;00m axis, labels \u001b[38;5;129;01min\u001b[39;00m axes\u001b[38;5;241m.\u001b[39mitems():\n\u001b[1;32m   4781\u001b[0m     \u001b[38;5;28;01mif\u001b[39;00m labels \u001b[38;5;129;01mis\u001b[39;00m \u001b[38;5;129;01mnot\u001b[39;00m \u001b[38;5;28;01mNone\u001b[39;00m:\n\u001b[0;32m-> 4782\u001b[0m         obj \u001b[38;5;241m=\u001b[39m \u001b[43mobj\u001b[49m\u001b[38;5;241;43m.\u001b[39;49m\u001b[43m_drop_axis\u001b[49m\u001b[43m(\u001b[49m\u001b[43mlabels\u001b[49m\u001b[43m,\u001b[49m\u001b[43m \u001b[49m\u001b[43maxis\u001b[49m\u001b[43m,\u001b[49m\u001b[43m \u001b[49m\u001b[43mlevel\u001b[49m\u001b[38;5;241;43m=\u001b[39;49m\u001b[43mlevel\u001b[49m\u001b[43m,\u001b[49m\u001b[43m \u001b[49m\u001b[43merrors\u001b[49m\u001b[38;5;241;43m=\u001b[39;49m\u001b[43merrors\u001b[49m\u001b[43m)\u001b[49m\n\u001b[1;32m   4784\u001b[0m \u001b[38;5;28;01mif\u001b[39;00m inplace:\n\u001b[1;32m   4785\u001b[0m     \u001b[38;5;28mself\u001b[39m\u001b[38;5;241m.\u001b[39m_update_inplace(obj)\n",
            "File \u001b[0;32m/lib/python3.12/site-packages/pandas/core/generic.py:4824\u001b[0m, in \u001b[0;36mNDFrame._drop_axis\u001b[0;34m(self, labels, axis, level, errors, only_slice)\u001b[0m\n\u001b[1;32m   4822\u001b[0m         new_axis \u001b[38;5;241m=\u001b[39m axis\u001b[38;5;241m.\u001b[39mdrop(labels, level\u001b[38;5;241m=\u001b[39mlevel, errors\u001b[38;5;241m=\u001b[39merrors)\n\u001b[1;32m   4823\u001b[0m     \u001b[38;5;28;01melse\u001b[39;00m:\n\u001b[0;32m-> 4824\u001b[0m         new_axis \u001b[38;5;241m=\u001b[39m \u001b[43maxis\u001b[49m\u001b[38;5;241;43m.\u001b[39;49m\u001b[43mdrop\u001b[49m\u001b[43m(\u001b[49m\u001b[43mlabels\u001b[49m\u001b[43m,\u001b[49m\u001b[43m \u001b[49m\u001b[43merrors\u001b[49m\u001b[38;5;241;43m=\u001b[39;49m\u001b[43merrors\u001b[49m\u001b[43m)\u001b[49m\n\u001b[1;32m   4825\u001b[0m     indexer \u001b[38;5;241m=\u001b[39m axis\u001b[38;5;241m.\u001b[39mget_indexer(new_axis)\n\u001b[1;32m   4827\u001b[0m \u001b[38;5;66;03m# Case for non-unique axis\u001b[39;00m\n\u001b[1;32m   4828\u001b[0m \u001b[38;5;28;01melse\u001b[39;00m:\n",
            "File \u001b[0;32m/lib/python3.12/site-packages/pandas/core/indexes/base.py:7069\u001b[0m, in \u001b[0;36mIndex.drop\u001b[0;34m(self, labels, errors)\u001b[0m\n\u001b[1;32m   7067\u001b[0m \u001b[38;5;28;01mif\u001b[39;00m mask\u001b[38;5;241m.\u001b[39many():\n\u001b[1;32m   7068\u001b[0m     \u001b[38;5;28;01mif\u001b[39;00m errors \u001b[38;5;241m!=\u001b[39m \u001b[38;5;124m\"\u001b[39m\u001b[38;5;124mignore\u001b[39m\u001b[38;5;124m\"\u001b[39m:\n\u001b[0;32m-> 7069\u001b[0m         \u001b[38;5;28;01mraise\u001b[39;00m \u001b[38;5;167;01mKeyError\u001b[39;00m(\u001b[38;5;124mf\u001b[39m\u001b[38;5;124m\"\u001b[39m\u001b[38;5;132;01m{\u001b[39;00mlabels[mask]\u001b[38;5;241m.\u001b[39mtolist()\u001b[38;5;132;01m}\u001b[39;00m\u001b[38;5;124m not found in axis\u001b[39m\u001b[38;5;124m\"\u001b[39m)\n\u001b[1;32m   7070\u001b[0m     indexer \u001b[38;5;241m=\u001b[39m indexer[\u001b[38;5;241m~\u001b[39mmask]\n\u001b[1;32m   7071\u001b[0m \u001b[38;5;28;01mreturn\u001b[39;00m \u001b[38;5;28mself\u001b[39m\u001b[38;5;241m.\u001b[39mdelete(indexer)\n",
            "\u001b[0;31mKeyError\u001b[0m: \"['C'] not found in axis\""
          ],
          "output_type": "error"
        }
      ],
      "execution_count": 5
    },
    {
      "cell_type": "code",
      "source": "#df['Category']: This selects the 'Category' column in your DataFrame df.\n\n#.map(category_mapping): This method maps each value in the 'Category' column to a corresponding value in the category_mapping dictionary.\n\ndata = {'Category': ['A', 'B', 'A', 'C', 'B']}\ndf = pd.DataFrame(data)\n\ncategory_mapping = {'A': 1, 'B': 2, 'C': 3}\n\ndf['Category_Num'] = df['Category'].map(category_mapping)\ndf",
      "metadata": {
        "trusted": true
      },
      "outputs": [
        {
          "execution_count": 6,
          "output_type": "execute_result",
          "data": {
            "text/plain": "  Category  Category_Num\n0        A             1\n1        B             2\n2        A             1\n3        C             3\n4        B             2",
            "text/html": "<div>\n<style scoped>\n    .dataframe tbody tr th:only-of-type {\n        vertical-align: middle;\n    }\n\n    .dataframe tbody tr th {\n        vertical-align: top;\n    }\n\n    .dataframe thead th {\n        text-align: right;\n    }\n</style>\n<table border=\"1\" class=\"dataframe\">\n  <thead>\n    <tr style=\"text-align: right;\">\n      <th></th>\n      <th>Category</th>\n      <th>Category_Num</th>\n    </tr>\n  </thead>\n  <tbody>\n    <tr>\n      <th>0</th>\n      <td>A</td>\n      <td>1</td>\n    </tr>\n    <tr>\n      <th>1</th>\n      <td>B</td>\n      <td>2</td>\n    </tr>\n    <tr>\n      <th>2</th>\n      <td>A</td>\n      <td>1</td>\n    </tr>\n    <tr>\n      <th>3</th>\n      <td>C</td>\n      <td>3</td>\n    </tr>\n    <tr>\n      <th>4</th>\n      <td>B</td>\n      <td>2</td>\n    </tr>\n  </tbody>\n</table>\n</div>"
          },
          "metadata": {}
        }
      ],
      "execution_count": 6
    },
    {
      "cell_type": "code",
      "source": "#This method applies a function to every single element of the DataFrame\n\ndata = {'A': [1, 2, 3],\n        'B': [4, 5, 6]}\ndf = pd.DataFrame(data)\n\ndef square(x):\n    return x ** 2\n\ndf_squared = df.applymap(square)\nprint(df_squared)",
      "metadata": {
        "trusted": true
      },
      "outputs": [
        {
          "name": "stderr",
          "text": "<ipython-input-7-892b7902697b>:10: FutureWarning: DataFrame.applymap has been deprecated. Use DataFrame.map instead.\n  df_squared = df.applymap(square)\n",
          "output_type": "stream"
        },
        {
          "name": "stdout",
          "text": "   A   B\n0  1  16\n1  4  25\n2  9  36\n",
          "output_type": "stream"
        }
      ],
      "execution_count": 7
    },
    {
      "cell_type": "code",
      "source": "",
      "metadata": {
        "trusted": true
      },
      "outputs": [],
      "execution_count": null
    }
  ]
}