{
  "metadata": {
    "kernelspec": {
      "name": "python",
      "display_name": "Python (Pyodide)",
      "language": "python"
    },
    "language_info": {
      "codemirror_mode": {
        "name": "python",
        "version": 3
      },
      "file_extension": ".py",
      "mimetype": "text/x-python",
      "name": "python",
      "nbconvert_exporter": "python",
      "pygments_lexer": "ipython3",
      "version": "3.8"
    }
  },
  "nbformat_minor": 4,
  "nbformat": 4,
  "cells": [
    {
      "cell_type": "markdown",
      "source": "# PANDAS BASICS ",
      "metadata": {}
    },
    {
      "cell_type": "code",
      "source": "import pandas as pd",
      "metadata": {
        "trusted": true
      },
      "outputs": [
        {
          "name": "stderr",
          "text": "<ipython-input-1-7dd3504c366f>:1: DeprecationWarning: \nPyarrow will become a required dependency of pandas in the next major release of pandas (pandas 3.0),\n(to allow more performant data types, such as the Arrow string type, and better interoperability with other libraries)\nbut was not found to be installed on your system.\nIf this would cause problems for you,\nplease provide us feedback at https://github.com/pandas-dev/pandas/issues/54466\n        \n  import pandas as pd\n",
          "output_type": "stream"
        }
      ],
      "execution_count": 1
    },
    {
      "cell_type": "code",
      "source": "df = pd.read_csv(\"testfile2.csv\")",
      "metadata": {
        "trusted": true
      },
      "outputs": [],
      "execution_count": 2
    },
    {
      "cell_type": "code",
      "source": "df.head()",
      "metadata": {
        "trusted": true
      },
      "outputs": [
        {
          "execution_count": 3,
          "output_type": "execute_result",
          "data": {
            "text/plain": "   SupplierID SupplierName  ProductID         SupplierAddress    CarMaker  \\\n0           1   Bubbletube       8893       542 Dayton Center       Dodge   \n1           2      Tagopia       9444  0674 Springview Circle      Toyota   \n2           3      Zoomdog        253   70 Autumn Leaf Center         GMC   \n3           4         Oozz       1283         649 Corben Lane  Volkswagen   \n4           5         Kare       8905      94 Namekagon Point     Mercury   \n\n      CarModel   CarColor  CarModelYear   CarPrice CustomerID  \\\n0     Ram 2500  Goldenrod          2007  521963.45  60760-224   \n1       Tundra    Crimson          2010  672222.04  67457-594   \n2  Savana 1500    Crimson          2011  504465.72  58411-135   \n3    Cabriolet     Fuscia          1990  646077.11  0591-5307   \n4      Mariner       Teal          2009  699890.24  51655-189   \n\n        CustomerName  Gender      Sales  Quantity  \n0      Louie Hinsche    Male  744796.41         1  \n1  Alexandros Manuel    Male  794773.17         1  \n2     Alvie Weighell    Male  968244.90         1  \n3      Flint Gunston    Male  942213.82         2  \n4       Alyssa Filpi  Female  879519.57         1  ",
            "text/html": "<div>\n<style scoped>\n    .dataframe tbody tr th:only-of-type {\n        vertical-align: middle;\n    }\n\n    .dataframe tbody tr th {\n        vertical-align: top;\n    }\n\n    .dataframe thead th {\n        text-align: right;\n    }\n</style>\n<table border=\"1\" class=\"dataframe\">\n  <thead>\n    <tr style=\"text-align: right;\">\n      <th></th>\n      <th>SupplierID</th>\n      <th>SupplierName</th>\n      <th>ProductID</th>\n      <th>SupplierAddress</th>\n      <th>CarMaker</th>\n      <th>CarModel</th>\n      <th>CarColor</th>\n      <th>CarModelYear</th>\n      <th>CarPrice</th>\n      <th>CustomerID</th>\n      <th>CustomerName</th>\n      <th>Gender</th>\n      <th>Sales</th>\n      <th>Quantity</th>\n    </tr>\n  </thead>\n  <tbody>\n    <tr>\n      <th>0</th>\n      <td>1</td>\n      <td>Bubbletube</td>\n      <td>8893</td>\n      <td>542 Dayton Center</td>\n      <td>Dodge</td>\n      <td>Ram 2500</td>\n      <td>Goldenrod</td>\n      <td>2007</td>\n      <td>521963.45</td>\n      <td>60760-224</td>\n      <td>Louie Hinsche</td>\n      <td>Male</td>\n      <td>744796.41</td>\n      <td>1</td>\n    </tr>\n    <tr>\n      <th>1</th>\n      <td>2</td>\n      <td>Tagopia</td>\n      <td>9444</td>\n      <td>0674 Springview Circle</td>\n      <td>Toyota</td>\n      <td>Tundra</td>\n      <td>Crimson</td>\n      <td>2010</td>\n      <td>672222.04</td>\n      <td>67457-594</td>\n      <td>Alexandros Manuel</td>\n      <td>Male</td>\n      <td>794773.17</td>\n      <td>1</td>\n    </tr>\n    <tr>\n      <th>2</th>\n      <td>3</td>\n      <td>Zoomdog</td>\n      <td>253</td>\n      <td>70 Autumn Leaf Center</td>\n      <td>GMC</td>\n      <td>Savana 1500</td>\n      <td>Crimson</td>\n      <td>2011</td>\n      <td>504465.72</td>\n      <td>58411-135</td>\n      <td>Alvie Weighell</td>\n      <td>Male</td>\n      <td>968244.90</td>\n      <td>1</td>\n    </tr>\n    <tr>\n      <th>3</th>\n      <td>4</td>\n      <td>Oozz</td>\n      <td>1283</td>\n      <td>649 Corben Lane</td>\n      <td>Volkswagen</td>\n      <td>Cabriolet</td>\n      <td>Fuscia</td>\n      <td>1990</td>\n      <td>646077.11</td>\n      <td>0591-5307</td>\n      <td>Flint Gunston</td>\n      <td>Male</td>\n      <td>942213.82</td>\n      <td>2</td>\n    </tr>\n    <tr>\n      <th>4</th>\n      <td>5</td>\n      <td>Kare</td>\n      <td>8905</td>\n      <td>94 Namekagon Point</td>\n      <td>Mercury</td>\n      <td>Mariner</td>\n      <td>Teal</td>\n      <td>2009</td>\n      <td>699890.24</td>\n      <td>51655-189</td>\n      <td>Alyssa Filpi</td>\n      <td>Female</td>\n      <td>879519.57</td>\n      <td>1</td>\n    </tr>\n  </tbody>\n</table>\n</div>"
          },
          "metadata": {}
        }
      ],
      "execution_count": 3
    },
    {
      "cell_type": "code",
      "source": "df.describe()",
      "metadata": {
        "trusted": true
      },
      "outputs": [
        {
          "execution_count": 4,
          "output_type": "execute_result",
          "data": {
            "text/plain": "       SupplierID    ProductID  CarModelYear       CarPrice          Sales  \\\ncount  299.000000   299.000000    299.000000     299.000000     299.000000   \nmean   150.000000  5255.949833   2001.558528  653593.511940  853155.083712   \nstd     86.458082  3144.964873      8.040110   86827.623148   87189.938999   \nmin      1.000000    24.000000   1970.000000  500952.880000  700321.490000   \n25%     75.500000  2525.000000   1996.000000  575139.960000  768007.550000   \n50%    150.000000  5419.000000   2003.000000  662587.930000  858307.070000   \n75%    224.500000  8123.000000   2008.500000  724029.310000  931347.470000   \nmax    299.000000  9959.000000   2013.000000  799454.240000  998843.290000   \n\n         Quantity  \ncount  299.000000  \nmean     1.545151  \nstd      0.498792  \nmin      1.000000  \n25%      1.000000  \n50%      2.000000  \n75%      2.000000  \nmax      2.000000  ",
            "text/html": "<div>\n<style scoped>\n    .dataframe tbody tr th:only-of-type {\n        vertical-align: middle;\n    }\n\n    .dataframe tbody tr th {\n        vertical-align: top;\n    }\n\n    .dataframe thead th {\n        text-align: right;\n    }\n</style>\n<table border=\"1\" class=\"dataframe\">\n  <thead>\n    <tr style=\"text-align: right;\">\n      <th></th>\n      <th>SupplierID</th>\n      <th>ProductID</th>\n      <th>CarModelYear</th>\n      <th>CarPrice</th>\n      <th>Sales</th>\n      <th>Quantity</th>\n    </tr>\n  </thead>\n  <tbody>\n    <tr>\n      <th>count</th>\n      <td>299.000000</td>\n      <td>299.000000</td>\n      <td>299.000000</td>\n      <td>299.000000</td>\n      <td>299.000000</td>\n      <td>299.000000</td>\n    </tr>\n    <tr>\n      <th>mean</th>\n      <td>150.000000</td>\n      <td>5255.949833</td>\n      <td>2001.558528</td>\n      <td>653593.511940</td>\n      <td>853155.083712</td>\n      <td>1.545151</td>\n    </tr>\n    <tr>\n      <th>std</th>\n      <td>86.458082</td>\n      <td>3144.964873</td>\n      <td>8.040110</td>\n      <td>86827.623148</td>\n      <td>87189.938999</td>\n      <td>0.498792</td>\n    </tr>\n    <tr>\n      <th>min</th>\n      <td>1.000000</td>\n      <td>24.000000</td>\n      <td>1970.000000</td>\n      <td>500952.880000</td>\n      <td>700321.490000</td>\n      <td>1.000000</td>\n    </tr>\n    <tr>\n      <th>25%</th>\n      <td>75.500000</td>\n      <td>2525.000000</td>\n      <td>1996.000000</td>\n      <td>575139.960000</td>\n      <td>768007.550000</td>\n      <td>1.000000</td>\n    </tr>\n    <tr>\n      <th>50%</th>\n      <td>150.000000</td>\n      <td>5419.000000</td>\n      <td>2003.000000</td>\n      <td>662587.930000</td>\n      <td>858307.070000</td>\n      <td>2.000000</td>\n    </tr>\n    <tr>\n      <th>75%</th>\n      <td>224.500000</td>\n      <td>8123.000000</td>\n      <td>2008.500000</td>\n      <td>724029.310000</td>\n      <td>931347.470000</td>\n      <td>2.000000</td>\n    </tr>\n    <tr>\n      <th>max</th>\n      <td>299.000000</td>\n      <td>9959.000000</td>\n      <td>2013.000000</td>\n      <td>799454.240000</td>\n      <td>998843.290000</td>\n      <td>2.000000</td>\n    </tr>\n  </tbody>\n</table>\n</div>"
          },
          "metadata": {}
        }
      ],
      "execution_count": 4
    },
    {
      "cell_type": "code",
      "source": "df.info()",
      "metadata": {
        "trusted": true
      },
      "outputs": [
        {
          "name": "stdout",
          "text": "<class 'pandas.core.frame.DataFrame'>\nRangeIndex: 299 entries, 0 to 298\nData columns (total 14 columns):\n #   Column           Non-Null Count  Dtype  \n---  ------           --------------  -----  \n 0   SupplierID       299 non-null    int64  \n 1   SupplierName     299 non-null    object \n 2   ProductID        299 non-null    int64  \n 3   SupplierAddress  299 non-null    object \n 4   CarMaker         299 non-null    object \n 5   CarModel         299 non-null    object \n 6   CarColor         299 non-null    object \n 7   CarModelYear     299 non-null    int64  \n 8   CarPrice         299 non-null    float64\n 9   CustomerID       299 non-null    object \n 10  CustomerName     299 non-null    object \n 11  Gender           299 non-null    object \n 12  Sales            299 non-null    float64\n 13  Quantity         299 non-null    int64  \ndtypes: float64(2), int64(4), object(8)\nmemory usage: 23.4+ KB\n",
          "output_type": "stream"
        }
      ],
      "execution_count": 5
    },
    {
      "cell_type": "code",
      "source": "df.dtypes",
      "metadata": {
        "trusted": true
      },
      "outputs": [
        {
          "execution_count": 6,
          "output_type": "execute_result",
          "data": {
            "text/plain": "SupplierID           int64\nSupplierName        object\nProductID            int64\nSupplierAddress     object\nCarMaker            object\nCarModel            object\nCarColor            object\nCarModelYear         int64\nCarPrice           float64\nCustomerID          object\nCustomerName        object\nGender              object\nSales              float64\nQuantity             int64\ndtype: object"
          },
          "metadata": {}
        }
      ],
      "execution_count": 6
    },
    {
      "cell_type": "code",
      "source": "df['CarModel'].dtype",
      "metadata": {
        "trusted": true
      },
      "outputs": [
        {
          "execution_count": 7,
          "output_type": "execute_result",
          "data": {
            "text/plain": "dtype('O')"
          },
          "metadata": {}
        }
      ],
      "execution_count": 7
    },
    {
      "cell_type": "code",
      "source": "df.columns",
      "metadata": {
        "trusted": true
      },
      "outputs": [
        {
          "execution_count": 8,
          "output_type": "execute_result",
          "data": {
            "text/plain": "Index(['SupplierID', 'SupplierName', 'ProductID', 'SupplierAddress',\n       'CarMaker', 'CarModel', 'CarColor', 'CarModelYear', 'CarPrice',\n       'CustomerID', 'CustomerName', 'Gender', 'Sales', 'Quantity'],\n      dtype='object')"
          },
          "metadata": {}
        }
      ],
      "execution_count": 8
    },
    {
      "cell_type": "code",
      "source": "df.axes",
      "metadata": {
        "trusted": true
      },
      "outputs": [
        {
          "execution_count": 9,
          "output_type": "execute_result",
          "data": {
            "text/plain": "[RangeIndex(start=0, stop=299, step=1),\n Index(['SupplierID', 'SupplierName', 'ProductID', 'SupplierAddress',\n        'CarMaker', 'CarModel', 'CarColor', 'CarModelYear', 'CarPrice',\n        'CustomerID', 'CustomerName', 'Gender', 'Sales', 'Quantity'],\n       dtype='object')]"
          },
          "metadata": {}
        }
      ],
      "execution_count": 9
    },
    {
      "cell_type": "code",
      "source": "df.ndim",
      "metadata": {
        "trusted": true
      },
      "outputs": [
        {
          "execution_count": 10,
          "output_type": "execute_result",
          "data": {
            "text/plain": "2"
          },
          "metadata": {}
        }
      ],
      "execution_count": 10
    },
    {
      "cell_type": "code",
      "source": "df.size",
      "metadata": {
        "trusted": true
      },
      "outputs": [
        {
          "execution_count": 11,
          "output_type": "execute_result",
          "data": {
            "text/plain": "4186"
          },
          "metadata": {}
        }
      ],
      "execution_count": 11
    },
    {
      "cell_type": "code",
      "source": "df.shape",
      "metadata": {
        "trusted": true
      },
      "outputs": [
        {
          "execution_count": 12,
          "output_type": "execute_result",
          "data": {
            "text/plain": "(299, 14)"
          },
          "metadata": {}
        }
      ],
      "execution_count": 12
    },
    {
      "cell_type": "code",
      "source": "df.values",
      "metadata": {
        "trusted": true
      },
      "outputs": [
        {
          "execution_count": 13,
          "output_type": "execute_result",
          "data": {
            "text/plain": "array([[1, 'Bubbletube', 8893, ..., 'Male', 744796.41, 1],\n       [2, 'Tagopia', 9444, ..., 'Male', 794773.17, 1],\n       [3, 'Zoomdog', 253, ..., 'Male', 968244.9, 1],\n       ...,\n       [297, 'Ntag', 9542, ..., 'Female', 730755.76, 1],\n       [298, 'Demizz', 8052, ..., 'Female', 735854.69, 1],\n       [299, 'JumpXS', 8765, ..., 'Female', 908766.53, 2]], dtype=object)"
          },
          "metadata": {}
        }
      ],
      "execution_count": 13
    },
    {
      "cell_type": "code",
      "source": "len(df)",
      "metadata": {
        "trusted": true
      },
      "outputs": [
        {
          "execution_count": 14,
          "output_type": "execute_result",
          "data": {
            "text/plain": "299"
          },
          "metadata": {}
        }
      ],
      "execution_count": 14
    },
    {
      "cell_type": "code",
      "source": "df.size",
      "metadata": {
        "trusted": true
      },
      "outputs": [
        {
          "execution_count": 15,
          "output_type": "execute_result",
          "data": {
            "text/plain": "4186"
          },
          "metadata": {}
        }
      ],
      "execution_count": 15
    },
    {
      "cell_type": "code",
      "source": "df.columns",
      "metadata": {
        "trusted": true
      },
      "outputs": [
        {
          "execution_count": 17,
          "output_type": "execute_result",
          "data": {
            "text/plain": "Index(['SupplierID', 'SupplierName', 'ProductID', 'SupplierAddress',\n       'CarMaker', 'CarModel', 'CarColor', 'CarModelYear', 'CarPrice',\n       'CustomerID', 'CustomerName', 'Gender', 'Sales', 'Quantity'],\n      dtype='object')"
          },
          "metadata": {}
        }
      ],
      "execution_count": 17
    },
    {
      "cell_type": "code",
      "source": "df.dtypes",
      "metadata": {
        "trusted": true
      },
      "outputs": [
        {
          "execution_count": 18,
          "output_type": "execute_result",
          "data": {
            "text/plain": "SupplierID           int64\nSupplierName        object\nProductID            int64\nSupplierAddress     object\nCarMaker            object\nCarModel            object\nCarColor            object\nCarModelYear         int64\nCarPrice           float64\nCustomerID          object\nCustomerName        object\nGender              object\nSales              float64\nQuantity             int64\ndtype: object"
          },
          "metadata": {}
        }
      ],
      "execution_count": 18
    },
    {
      "cell_type": "code",
      "source": "df.min()",
      "metadata": {
        "trusted": true
      },
      "outputs": [
        {
          "execution_count": 19,
          "output_type": "execute_result",
          "data": {
            "text/plain": "SupplierID                         1\nSupplierName                   Abata\nProductID                         24\nSupplierAddress      0 Almo Crossing\nCarMaker                       Acura\nCarModel                      09-May\nCarColor                  Aquamarine\nCarModelYear                    1970\nCarPrice                   500952.88\nCustomerID                 0006-0951\nCustomerName       Abigael Smalridge\nGender                        Female\nSales                      700321.49\nQuantity                           1\ndtype: object"
          },
          "metadata": {}
        }
      ],
      "execution_count": 19
    },
    {
      "cell_type": "code",
      "source": "df.max()",
      "metadata": {
        "trusted": true
      },
      "outputs": [
        {
          "execution_count": 20,
          "output_type": "execute_result",
          "data": {
            "text/plain": "SupplierID                       299\nSupplierName                  Zoozzy\nProductID                       9959\nSupplierAddress    9973 Fuller Alley\nCarMaker                       Volvo\nCarModel               Yukon XL 2500\nCarColor                      Yellow\nCarModelYear                    2013\nCarPrice                   799454.24\nCustomerID                76519-1017\nCustomerName             Zora Kobpac\nGender                          Male\nSales                      998843.29\nQuantity                           2\ndtype: object"
          },
          "metadata": {}
        }
      ],
      "execution_count": 20
    },
    {
      "cell_type": "code",
      "source": "df[['SupplierID','ProductID','CarModelYear','CarPrice','Sales','Quantity']].mean()",
      "metadata": {
        "trusted": true
      },
      "outputs": [
        {
          "execution_count": 28,
          "output_type": "execute_result",
          "data": {
            "text/plain": "SupplierID         150.000000\nProductID         5255.949833\nCarModelYear      2001.558528\nCarPrice        653593.511940\nSales           853155.083712\nQuantity             1.545151\ndtype: float64"
          },
          "metadata": {}
        }
      ],
      "execution_count": 28
    },
    {
      "cell_type": "code",
      "source": "df[['SupplierID','ProductID','CarModelYear','CarPrice','Sales','Quantity']].median()",
      "metadata": {
        "trusted": true
      },
      "outputs": [
        {
          "execution_count": 31,
          "output_type": "execute_result",
          "data": {
            "text/plain": "SupplierID         150.00\nProductID         5419.00\nCarModelYear      2003.00\nCarPrice        662587.93\nSales           858307.07\nQuantity             2.00\ndtype: float64"
          },
          "metadata": {}
        }
      ],
      "execution_count": 31
    },
    {
      "cell_type": "code",
      "source": "df[['SupplierID','ProductID','CarModelYear','CarPrice','Sales','Quantity']].std()",
      "metadata": {
        "trusted": true
      },
      "outputs": [
        {
          "execution_count": 32,
          "output_type": "execute_result",
          "data": {
            "text/plain": "SupplierID         86.458082\nProductID        3144.964873\nCarModelYear        8.040110\nCarPrice        86827.623148\nSales           87189.938999\nQuantity            0.498792\ndtype: float64"
          },
          "metadata": {}
        }
      ],
      "execution_count": 32
    },
    {
      "cell_type": "code",
      "source": "df[['SupplierID','ProductID','CarModelYear','CarPrice','Sales','Quantity']].var()",
      "metadata": {
        "trusted": true
      },
      "outputs": [
        {
          "execution_count": 33,
          "output_type": "execute_result",
          "data": {
            "text/plain": "SupplierID      7.475000e+03\nProductID       9.890804e+06\nCarModelYear    6.464338e+01\nCarPrice        7.539036e+09\nSales           7.602085e+09\nQuantity        2.487935e-01\ndtype: float64"
          },
          "metadata": {}
        }
      ],
      "execution_count": 33
    },
    {
      "cell_type": "code",
      "source": "df[['SupplierID','ProductID','CarModelYear','CarPrice','Sales','Quantity']].sum()",
      "metadata": {
        "trusted": true
      },
      "outputs": [
        {
          "execution_count": 34,
          "output_type": "execute_result",
          "data": {
            "text/plain": "SupplierID      4.485000e+04\nProductID       1.571529e+06\nCarModelYear    5.984660e+05\nCarPrice        1.954245e+08\nSales           2.550934e+08\nQuantity        4.620000e+02\ndtype: float64"
          },
          "metadata": {}
        }
      ],
      "execution_count": 34
    },
    {
      "cell_type": "code",
      "source": "df[['SupplierID','ProductID','CarModelYear','CarPrice','Sales','Quantity']].quantile(0.25)",
      "metadata": {
        "trusted": true
      },
      "outputs": [
        {
          "execution_count": 35,
          "output_type": "execute_result",
          "data": {
            "text/plain": "SupplierID          75.50\nProductID         2525.00\nCarModelYear      1996.00\nCarPrice        575139.96\nSales           768007.55\nQuantity             1.00\nName: 0.25, dtype: float64"
          },
          "metadata": {}
        }
      ],
      "execution_count": 35
    },
    {
      "cell_type": "code",
      "source": "df[['SupplierID','ProductID','CarModelYear','CarPrice','Sales','Quantity']].quantile(0.50)",
      "metadata": {
        "trusted": true
      },
      "outputs": [
        {
          "execution_count": 36,
          "output_type": "execute_result",
          "data": {
            "text/plain": "SupplierID         150.00\nProductID         5419.00\nCarModelYear      2003.00\nCarPrice        662587.93\nSales           858307.07\nQuantity             2.00\nName: 0.5, dtype: float64"
          },
          "metadata": {}
        }
      ],
      "execution_count": 36
    },
    {
      "cell_type": "code",
      "source": "df.sum()              #sum gives sum of all columns respectively not only int\n",
      "metadata": {
        "trusted": true
      },
      "outputs": [
        {
          "execution_count": 37,
          "output_type": "execute_result",
          "data": {
            "text/plain": "SupplierID                                                     44850\nSupplierName       BubbletubeTagopiaZoomdogOozzKareRhynyxRoomboWo...\nProductID                                                    1571529\nSupplierAddress    542 Dayton Center0674 Springview Circle70 Autu...\nCarMaker           DodgeToyotaGMCVolkswagenMercuryToyotaSubaruBMW...\nCarModel           Ram 2500TundraSavana 1500CabrioletMarinerLand ...\nCarColor           GoldenrodCrimsonCrimsonFusciaTealCrimsonIndigo...\nCarModelYear                                                  598466\nCarPrice                                                195424460.07\nCustomerID         60760-22467457-59458411-1350591-530751655-1896...\nCustomerName       Louie HinscheAlexandros ManuelAlvie WeighellFl...\nGender             MaleMaleMaleMaleFemaleMaleMaleFemaleFemaleMale...\nSales                                                   255093370.03\nQuantity                                                         462\ndtype: object"
          },
          "metadata": {}
        }
      ],
      "execution_count": 37
    },
    {
      "cell_type": "code",
      "source": "df.sample(10)",
      "metadata": {
        "trusted": true
      },
      "outputs": [
        {
          "execution_count": 40,
          "output_type": "execute_result",
          "data": {
            "text/plain": "     SupplierID SupplierName  ProductID       SupplierAddress    CarMaker  \\\n206         207       Voonte       7841           5 Dapin Way    Plymouth   \n157         158       Skidoo       9232        54120 5th Lane      Suzuki   \n236         237      Trilith       4050       04740 6th Point  Mitsubishi   \n243         244       Yacero       1422        0 Barby Center       Volvo   \n158         159        Ainyx       2182  48 Michigan Crossing       Mazda   \n126         127        Mycat       1955    9785 Service Drive         GMC   \n3             4         Oozz       1283       649 Corben Lane  Volkswagen   \n36           37      Oyonder       5911       0 Almo Crossing   Chevrolet   \n45           46         Omba       2187       6 Artisan Court  Mitsubishi   \n222         223     Skipfire        101       5 Hoffman Place      Toyota   \n\n       CarModel   CarColor  CarModelYear   CarPrice  CustomerID  \\\n206     Voyager       Puce          1992  666907.63   51861-010   \n157    Sidekick       Blue          1992  541872.99   0121-0772   \n236     Starion     Yellow          1987  755397.16   52642-006   \n243         V40  Goldenrod          2004  655763.96   52686-274   \n158        MX-3     Purple          1994  614853.62  66497-0001   \n126      Canyon     Orange          2008  799454.24  60505-3780   \n3     Cabriolet     Fuscia          1990  646077.11   0591-5307   \n36     Corvette      Green          1998  579336.10   0603-1384   \n45     Endeavor     Orange          2009  604079.51   51523-018   \n222  Highlander     Yellow          2009  765726.97   49999-598   \n\n           CustomerName  Gender      Sales  Quantity  \n206  Tuesday Horsefield  Female  979097.48         1  \n157       Allissa Gwilt  Female  781324.74         1  \n236       Petra Joliffe  Female  877668.97         2  \n243         Victor Ivan    Male  815360.30         1  \n158     Maxim Aizlewood    Male  932723.37         1  \n126       Ade Mityashev    Male  781571.38         1  \n3         Flint Gunston    Male  942213.82         2  \n36       Orland Morpeth    Male  883232.92         2  \n45       Homere Denford    Male  847068.11         1  \n222      Richart Lebbon    Male  712970.25         1  ",
            "text/html": "<div>\n<style scoped>\n    .dataframe tbody tr th:only-of-type {\n        vertical-align: middle;\n    }\n\n    .dataframe tbody tr th {\n        vertical-align: top;\n    }\n\n    .dataframe thead th {\n        text-align: right;\n    }\n</style>\n<table border=\"1\" class=\"dataframe\">\n  <thead>\n    <tr style=\"text-align: right;\">\n      <th></th>\n      <th>SupplierID</th>\n      <th>SupplierName</th>\n      <th>ProductID</th>\n      <th>SupplierAddress</th>\n      <th>CarMaker</th>\n      <th>CarModel</th>\n      <th>CarColor</th>\n      <th>CarModelYear</th>\n      <th>CarPrice</th>\n      <th>CustomerID</th>\n      <th>CustomerName</th>\n      <th>Gender</th>\n      <th>Sales</th>\n      <th>Quantity</th>\n    </tr>\n  </thead>\n  <tbody>\n    <tr>\n      <th>206</th>\n      <td>207</td>\n      <td>Voonte</td>\n      <td>7841</td>\n      <td>5 Dapin Way</td>\n      <td>Plymouth</td>\n      <td>Voyager</td>\n      <td>Puce</td>\n      <td>1992</td>\n      <td>666907.63</td>\n      <td>51861-010</td>\n      <td>Tuesday Horsefield</td>\n      <td>Female</td>\n      <td>979097.48</td>\n      <td>1</td>\n    </tr>\n    <tr>\n      <th>157</th>\n      <td>158</td>\n      <td>Skidoo</td>\n      <td>9232</td>\n      <td>54120 5th Lane</td>\n      <td>Suzuki</td>\n      <td>Sidekick</td>\n      <td>Blue</td>\n      <td>1992</td>\n      <td>541872.99</td>\n      <td>0121-0772</td>\n      <td>Allissa Gwilt</td>\n      <td>Female</td>\n      <td>781324.74</td>\n      <td>1</td>\n    </tr>\n    <tr>\n      <th>236</th>\n      <td>237</td>\n      <td>Trilith</td>\n      <td>4050</td>\n      <td>04740 6th Point</td>\n      <td>Mitsubishi</td>\n      <td>Starion</td>\n      <td>Yellow</td>\n      <td>1987</td>\n      <td>755397.16</td>\n      <td>52642-006</td>\n      <td>Petra Joliffe</td>\n      <td>Female</td>\n      <td>877668.97</td>\n      <td>2</td>\n    </tr>\n    <tr>\n      <th>243</th>\n      <td>244</td>\n      <td>Yacero</td>\n      <td>1422</td>\n      <td>0 Barby Center</td>\n      <td>Volvo</td>\n      <td>V40</td>\n      <td>Goldenrod</td>\n      <td>2004</td>\n      <td>655763.96</td>\n      <td>52686-274</td>\n      <td>Victor Ivan</td>\n      <td>Male</td>\n      <td>815360.30</td>\n      <td>1</td>\n    </tr>\n    <tr>\n      <th>158</th>\n      <td>159</td>\n      <td>Ainyx</td>\n      <td>2182</td>\n      <td>48 Michigan Crossing</td>\n      <td>Mazda</td>\n      <td>MX-3</td>\n      <td>Purple</td>\n      <td>1994</td>\n      <td>614853.62</td>\n      <td>66497-0001</td>\n      <td>Maxim Aizlewood</td>\n      <td>Male</td>\n      <td>932723.37</td>\n      <td>1</td>\n    </tr>\n    <tr>\n      <th>126</th>\n      <td>127</td>\n      <td>Mycat</td>\n      <td>1955</td>\n      <td>9785 Service Drive</td>\n      <td>GMC</td>\n      <td>Canyon</td>\n      <td>Orange</td>\n      <td>2008</td>\n      <td>799454.24</td>\n      <td>60505-3780</td>\n      <td>Ade Mityashev</td>\n      <td>Male</td>\n      <td>781571.38</td>\n      <td>1</td>\n    </tr>\n    <tr>\n      <th>3</th>\n      <td>4</td>\n      <td>Oozz</td>\n      <td>1283</td>\n      <td>649 Corben Lane</td>\n      <td>Volkswagen</td>\n      <td>Cabriolet</td>\n      <td>Fuscia</td>\n      <td>1990</td>\n      <td>646077.11</td>\n      <td>0591-5307</td>\n      <td>Flint Gunston</td>\n      <td>Male</td>\n      <td>942213.82</td>\n      <td>2</td>\n    </tr>\n    <tr>\n      <th>36</th>\n      <td>37</td>\n      <td>Oyonder</td>\n      <td>5911</td>\n      <td>0 Almo Crossing</td>\n      <td>Chevrolet</td>\n      <td>Corvette</td>\n      <td>Green</td>\n      <td>1998</td>\n      <td>579336.10</td>\n      <td>0603-1384</td>\n      <td>Orland Morpeth</td>\n      <td>Male</td>\n      <td>883232.92</td>\n      <td>2</td>\n    </tr>\n    <tr>\n      <th>45</th>\n      <td>46</td>\n      <td>Omba</td>\n      <td>2187</td>\n      <td>6 Artisan Court</td>\n      <td>Mitsubishi</td>\n      <td>Endeavor</td>\n      <td>Orange</td>\n      <td>2009</td>\n      <td>604079.51</td>\n      <td>51523-018</td>\n      <td>Homere Denford</td>\n      <td>Male</td>\n      <td>847068.11</td>\n      <td>1</td>\n    </tr>\n    <tr>\n      <th>222</th>\n      <td>223</td>\n      <td>Skipfire</td>\n      <td>101</td>\n      <td>5 Hoffman Place</td>\n      <td>Toyota</td>\n      <td>Highlander</td>\n      <td>Yellow</td>\n      <td>2009</td>\n      <td>765726.97</td>\n      <td>49999-598</td>\n      <td>Richart Lebbon</td>\n      <td>Male</td>\n      <td>712970.25</td>\n      <td>1</td>\n    </tr>\n  </tbody>\n</table>\n</div>"
          },
          "metadata": {}
        }
      ],
      "execution_count": 40
    },
    {
      "cell_type": "code",
      "source": "df.dropna()",
      "metadata": {
        "trusted": true
      },
      "outputs": [
        {
          "execution_count": 41,
          "output_type": "execute_result",
          "data": {
            "text/plain": "     SupplierID SupplierName  ProductID         SupplierAddress  \\\n0             1   Bubbletube       8893       542 Dayton Center   \n1             2      Tagopia       9444  0674 Springview Circle   \n2             3      Zoomdog        253   70 Autumn Leaf Center   \n3             4         Oozz       1283         649 Corben Lane   \n4             5         Kare       8905      94 Namekagon Point   \n..          ...          ...        ...                     ...   \n294         295        Aivee       4041             13 Hauk Way   \n295         296  Twitterlist        146   566 Westerfield Point   \n296         297         Ntag       9542     4199 Bonner Terrace   \n297         298       Demizz       8052      0347 Morrow Avenue   \n298         299       JumpXS       8765         627 Havey Drive   \n\n          CarMaker     CarModel   CarColor  CarModelYear   CarPrice  \\\n0            Dodge     Ram 2500  Goldenrod          2007  521963.45   \n1           Toyota       Tundra    Crimson          2010  672222.04   \n2              GMC  Savana 1500    Crimson          2011  504465.72   \n3       Volkswagen    Cabriolet     Fuscia          1990  646077.11   \n4          Mercury      Mariner       Teal          2009  699890.24   \n..             ...          ...        ...           ...        ...   \n294        Pontiac     Grand Am     Fuscia          1988  511763.96   \n295        Lincoln          MKZ     Violet          2007  732421.30   \n296          Buick      Rainier     Indigo          2005  539855.21   \n297  Mercedes-Benz      E-Class      Khaki          2007  725040.78   \n298     Volkswagen       Passat       Mauv          2012  714281.60   \n\n     CustomerID       CustomerName  Gender      Sales  Quantity  \n0     60760-224      Louie Hinsche    Male  744796.41         1  \n1     67457-594  Alexandros Manuel    Male  794773.17         1  \n2     58411-135     Alvie Weighell    Male  968244.90         1  \n3     0591-5307      Flint Gunston    Male  942213.82         2  \n4     51655-189       Alyssa Filpi  Female  879519.57         1  \n..          ...                ...     ...        ...       ...  \n294   60429-369   Chandler Hawkett    Male  981485.26         2  \n295   30142-406  Matthieu Bonifant    Male  941955.73         1  \n296   45802-806    Brande Sebright  Female  730755.76         1  \n297   43269-612     Dorena Coatham  Female  735854.69         1  \n298  55154-1855  Elladine Rivaland  Female  908766.53         2  \n\n[299 rows x 14 columns]",
            "text/html": "<div>\n<style scoped>\n    .dataframe tbody tr th:only-of-type {\n        vertical-align: middle;\n    }\n\n    .dataframe tbody tr th {\n        vertical-align: top;\n    }\n\n    .dataframe thead th {\n        text-align: right;\n    }\n</style>\n<table border=\"1\" class=\"dataframe\">\n  <thead>\n    <tr style=\"text-align: right;\">\n      <th></th>\n      <th>SupplierID</th>\n      <th>SupplierName</th>\n      <th>ProductID</th>\n      <th>SupplierAddress</th>\n      <th>CarMaker</th>\n      <th>CarModel</th>\n      <th>CarColor</th>\n      <th>CarModelYear</th>\n      <th>CarPrice</th>\n      <th>CustomerID</th>\n      <th>CustomerName</th>\n      <th>Gender</th>\n      <th>Sales</th>\n      <th>Quantity</th>\n    </tr>\n  </thead>\n  <tbody>\n    <tr>\n      <th>0</th>\n      <td>1</td>\n      <td>Bubbletube</td>\n      <td>8893</td>\n      <td>542 Dayton Center</td>\n      <td>Dodge</td>\n      <td>Ram 2500</td>\n      <td>Goldenrod</td>\n      <td>2007</td>\n      <td>521963.45</td>\n      <td>60760-224</td>\n      <td>Louie Hinsche</td>\n      <td>Male</td>\n      <td>744796.41</td>\n      <td>1</td>\n    </tr>\n    <tr>\n      <th>1</th>\n      <td>2</td>\n      <td>Tagopia</td>\n      <td>9444</td>\n      <td>0674 Springview Circle</td>\n      <td>Toyota</td>\n      <td>Tundra</td>\n      <td>Crimson</td>\n      <td>2010</td>\n      <td>672222.04</td>\n      <td>67457-594</td>\n      <td>Alexandros Manuel</td>\n      <td>Male</td>\n      <td>794773.17</td>\n      <td>1</td>\n    </tr>\n    <tr>\n      <th>2</th>\n      <td>3</td>\n      <td>Zoomdog</td>\n      <td>253</td>\n      <td>70 Autumn Leaf Center</td>\n      <td>GMC</td>\n      <td>Savana 1500</td>\n      <td>Crimson</td>\n      <td>2011</td>\n      <td>504465.72</td>\n      <td>58411-135</td>\n      <td>Alvie Weighell</td>\n      <td>Male</td>\n      <td>968244.90</td>\n      <td>1</td>\n    </tr>\n    <tr>\n      <th>3</th>\n      <td>4</td>\n      <td>Oozz</td>\n      <td>1283</td>\n      <td>649 Corben Lane</td>\n      <td>Volkswagen</td>\n      <td>Cabriolet</td>\n      <td>Fuscia</td>\n      <td>1990</td>\n      <td>646077.11</td>\n      <td>0591-5307</td>\n      <td>Flint Gunston</td>\n      <td>Male</td>\n      <td>942213.82</td>\n      <td>2</td>\n    </tr>\n    <tr>\n      <th>4</th>\n      <td>5</td>\n      <td>Kare</td>\n      <td>8905</td>\n      <td>94 Namekagon Point</td>\n      <td>Mercury</td>\n      <td>Mariner</td>\n      <td>Teal</td>\n      <td>2009</td>\n      <td>699890.24</td>\n      <td>51655-189</td>\n      <td>Alyssa Filpi</td>\n      <td>Female</td>\n      <td>879519.57</td>\n      <td>1</td>\n    </tr>\n    <tr>\n      <th>...</th>\n      <td>...</td>\n      <td>...</td>\n      <td>...</td>\n      <td>...</td>\n      <td>...</td>\n      <td>...</td>\n      <td>...</td>\n      <td>...</td>\n      <td>...</td>\n      <td>...</td>\n      <td>...</td>\n      <td>...</td>\n      <td>...</td>\n      <td>...</td>\n    </tr>\n    <tr>\n      <th>294</th>\n      <td>295</td>\n      <td>Aivee</td>\n      <td>4041</td>\n      <td>13 Hauk Way</td>\n      <td>Pontiac</td>\n      <td>Grand Am</td>\n      <td>Fuscia</td>\n      <td>1988</td>\n      <td>511763.96</td>\n      <td>60429-369</td>\n      <td>Chandler Hawkett</td>\n      <td>Male</td>\n      <td>981485.26</td>\n      <td>2</td>\n    </tr>\n    <tr>\n      <th>295</th>\n      <td>296</td>\n      <td>Twitterlist</td>\n      <td>146</td>\n      <td>566 Westerfield Point</td>\n      <td>Lincoln</td>\n      <td>MKZ</td>\n      <td>Violet</td>\n      <td>2007</td>\n      <td>732421.30</td>\n      <td>30142-406</td>\n      <td>Matthieu Bonifant</td>\n      <td>Male</td>\n      <td>941955.73</td>\n      <td>1</td>\n    </tr>\n    <tr>\n      <th>296</th>\n      <td>297</td>\n      <td>Ntag</td>\n      <td>9542</td>\n      <td>4199 Bonner Terrace</td>\n      <td>Buick</td>\n      <td>Rainier</td>\n      <td>Indigo</td>\n      <td>2005</td>\n      <td>539855.21</td>\n      <td>45802-806</td>\n      <td>Brande Sebright</td>\n      <td>Female</td>\n      <td>730755.76</td>\n      <td>1</td>\n    </tr>\n    <tr>\n      <th>297</th>\n      <td>298</td>\n      <td>Demizz</td>\n      <td>8052</td>\n      <td>0347 Morrow Avenue</td>\n      <td>Mercedes-Benz</td>\n      <td>E-Class</td>\n      <td>Khaki</td>\n      <td>2007</td>\n      <td>725040.78</td>\n      <td>43269-612</td>\n      <td>Dorena Coatham</td>\n      <td>Female</td>\n      <td>735854.69</td>\n      <td>1</td>\n    </tr>\n    <tr>\n      <th>298</th>\n      <td>299</td>\n      <td>JumpXS</td>\n      <td>8765</td>\n      <td>627 Havey Drive</td>\n      <td>Volkswagen</td>\n      <td>Passat</td>\n      <td>Mauv</td>\n      <td>2012</td>\n      <td>714281.60</td>\n      <td>55154-1855</td>\n      <td>Elladine Rivaland</td>\n      <td>Female</td>\n      <td>908766.53</td>\n      <td>2</td>\n    </tr>\n  </tbody>\n</table>\n<p>299 rows × 14 columns</p>\n</div>"
          },
          "metadata": {}
        }
      ],
      "execution_count": 41
    },
    {
      "cell_type": "code",
      "source": "df.info()",
      "metadata": {
        "trusted": true
      },
      "outputs": [
        {
          "name": "stdout",
          "text": "<class 'pandas.core.frame.DataFrame'>\nRangeIndex: 299 entries, 0 to 298\nData columns (total 14 columns):\n #   Column           Non-Null Count  Dtype  \n---  ------           --------------  -----  \n 0   SupplierID       299 non-null    int64  \n 1   SupplierName     299 non-null    object \n 2   ProductID        299 non-null    int64  \n 3   SupplierAddress  299 non-null    object \n 4   CarMaker         299 non-null    object \n 5   CarModel         299 non-null    object \n 6   CarColor         299 non-null    object \n 7   CarModelYear     299 non-null    int64  \n 8   CarPrice         299 non-null    float64\n 9   CustomerID       299 non-null    object \n 10  CustomerName     299 non-null    object \n 11  Gender           299 non-null    object \n 12  Sales            299 non-null    float64\n 13  Quantity         299 non-null    int64  \ndtypes: float64(2), int64(4), object(8)\nmemory usage: 23.4+ KB\n",
          "output_type": "stream"
        }
      ],
      "execution_count": 42
    },
    {
      "cell_type": "code",
      "source": "df[['SupplierID','ProductID','CarModelYear','CarPrice','Sales','Quantity']].iloc[:50,].mean()",
      "metadata": {
        "trusted": true
      },
      "outputs": [
        {
          "execution_count": 44,
          "output_type": "execute_result",
          "data": {
            "text/plain": "SupplierID          25.5000\nProductID         5539.9000\nCarModelYear      2002.2000\nCarPrice        656656.4526\nSales           855485.1394\nQuantity             1.5400\ndtype: float64"
          },
          "metadata": {}
        }
      ],
      "execution_count": 44
    },
    {
      "cell_type": "code",
      "source": "df[['SupplierID','ProductID','CarModelYear','CarPrice','Sales','Quantity']].head(50).mean()",
      "metadata": {
        "trusted": true
      },
      "outputs": [
        {
          "execution_count": 45,
          "output_type": "execute_result",
          "data": {
            "text/plain": "SupplierID          25.5000\nProductID         5539.9000\nCarModelYear      2002.2000\nCarPrice        656656.4526\nSales           855485.1394\nQuantity             1.5400\ndtype: float64"
          },
          "metadata": {}
        }
      ],
      "execution_count": 45
    },
    {
      "cell_type": "code",
      "source": "df['CarModel'].count",
      "metadata": {
        "trusted": true
      },
      "outputs": [
        {
          "execution_count": 49,
          "output_type": "execute_result",
          "data": {
            "text/plain": "<bound method Series.count of 0         Ram 2500\n1           Tundra\n2      Savana 1500\n3        Cabriolet\n4          Mariner\n          ...     \n294       Grand Am\n295            MKZ\n296        Rainier\n297        E-Class\n298         Passat\nName: CarModel, Length: 299, dtype: object>"
          },
          "metadata": {}
        }
      ],
      "execution_count": 49
    },
    {
      "cell_type": "code",
      "source": "df['CarModel'].count()",
      "metadata": {
        "trusted": true
      },
      "outputs": [
        {
          "execution_count": 50,
          "output_type": "execute_result",
          "data": {
            "text/plain": "299"
          },
          "metadata": {}
        }
      ],
      "execution_count": 50
    },
    {
      "cell_type": "code",
      "source": "df['Sales'].mean()      #Avg",
      "metadata": {
        "trusted": true
      },
      "outputs": [
        {
          "execution_count": 51,
          "output_type": "execute_result",
          "data": {
            "text/plain": "853155.0837123747"
          },
          "metadata": {}
        }
      ],
      "execution_count": 51
    },
    {
      "cell_type": "code",
      "source": "df1 = df.groupby(['SupplierName'])\ndf1                            #if simply write df output pandas series object",
      "metadata": {
        "trusted": true
      },
      "outputs": [
        {
          "execution_count": 63,
          "output_type": "execute_result",
          "data": {
            "text/plain": "<pandas.core.groupby.generic.DataFrameGroupBy object at 0x86fb058>"
          },
          "metadata": {}
        }
      ],
      "execution_count": 63
    },
    {
      "cell_type": "code",
      "source": "df1 = df.groupby(['SupplierName'])\ndf1.max()                      # give dataframe when statistics applied",
      "metadata": {
        "trusted": true
      },
      "outputs": [
        {
          "execution_count": 77,
          "output_type": "execute_result",
          "data": {
            "text/plain": "              SupplierID  ProductID        SupplierAddress       CarMaker  \\\nSupplierName                                                                \nAbata                170       9602         68 Nevada Pass         Morgan   \nAbatz                235         53     344 Marquette Park          Mazda   \nAibox                151       5523          995 Kim Place     Mitsubishi   \nAinyx                212       9955          5 Onsgard Way     Mitsubishi   \nAivee                295       4041            13 Hauk Way        Pontiac   \n...                  ...        ...                    ...            ...   \nZoomdog              281       8772  70 Autumn Leaf Center            GMC   \nZoonder              211       8723      90 Chive Junction            GMC   \nZoovu                113       7713        34 Quincy Point       Cadillac   \nZooxo                 70       7841     2693 Lakewood Pass  Mercedes-Benz   \nZoozzy               110       8155       37 Monument Hill     Land Rover   \n\n                 CarModel   CarColor  CarModelYear   CarPrice  CustomerID  \\\nSupplierName                                                                \nAbata              Aero 8     Violet          2007  715190.72   30142-104   \nAbatz                 MPV       Puce          1992  750536.81  49215-0001   \nAibox                 GTO     Purple          1999  605573.45  69152-0006   \nAinyx                MX-3  Turquoise          2007  797965.14  66497-0001   \nAivee            Grand Am     Fuscia          1988  511763.96   60429-369   \n...                   ...        ...           ...        ...         ...   \nZoomdog       Savana 1500        Red          2011  771998.97   58411-135   \nZoonder             Jimmy     Orange          1999  576531.57   11673-165   \nZoovu             Seville      Khaki          1997  580966.08  36987-2014   \nZooxo            SL-Class       Blue          2000  693279.61   64980-183   \nZoozzy        Range Rover    Crimson          1986  569435.74   65862-599   \n\n                   CustomerName  Gender      Sales  Quantity  \nSupplierName                                                  \nAbata          Germayne Meryett    Male  929803.73         2  \nAbatz            Flory Martugin  Female  833339.07         2  \nAibox           Ermina Brambill  Female  743622.93         2  \nAinyx           Maxim Aizlewood    Male  932723.37         2  \nAivee          Chandler Hawkett    Male  981485.26         2  \n...                         ...     ...        ...       ...  \nZoomdog          Tiebout Pizzey    Male  968244.90         2  \nZoonder       Edouard Gulleford    Male  831547.06         2  \nZoovu           Freeman Firbank    Male  895368.03         2  \nZooxo               Winna Heber  Female  723633.61         2  \nZoozzy            Paton Clynman    Male  981365.77         1  \n\n[215 rows x 13 columns]",
            "text/html": "<div>\n<style scoped>\n    .dataframe tbody tr th:only-of-type {\n        vertical-align: middle;\n    }\n\n    .dataframe tbody tr th {\n        vertical-align: top;\n    }\n\n    .dataframe thead th {\n        text-align: right;\n    }\n</style>\n<table border=\"1\" class=\"dataframe\">\n  <thead>\n    <tr style=\"text-align: right;\">\n      <th></th>\n      <th>SupplierID</th>\n      <th>ProductID</th>\n      <th>SupplierAddress</th>\n      <th>CarMaker</th>\n      <th>CarModel</th>\n      <th>CarColor</th>\n      <th>CarModelYear</th>\n      <th>CarPrice</th>\n      <th>CustomerID</th>\n      <th>CustomerName</th>\n      <th>Gender</th>\n      <th>Sales</th>\n      <th>Quantity</th>\n    </tr>\n    <tr>\n      <th>SupplierName</th>\n      <th></th>\n      <th></th>\n      <th></th>\n      <th></th>\n      <th></th>\n      <th></th>\n      <th></th>\n      <th></th>\n      <th></th>\n      <th></th>\n      <th></th>\n      <th></th>\n      <th></th>\n    </tr>\n  </thead>\n  <tbody>\n    <tr>\n      <th>Abata</th>\n      <td>170</td>\n      <td>9602</td>\n      <td>68 Nevada Pass</td>\n      <td>Morgan</td>\n      <td>Aero 8</td>\n      <td>Violet</td>\n      <td>2007</td>\n      <td>715190.72</td>\n      <td>30142-104</td>\n      <td>Germayne Meryett</td>\n      <td>Male</td>\n      <td>929803.73</td>\n      <td>2</td>\n    </tr>\n    <tr>\n      <th>Abatz</th>\n      <td>235</td>\n      <td>53</td>\n      <td>344 Marquette Park</td>\n      <td>Mazda</td>\n      <td>MPV</td>\n      <td>Puce</td>\n      <td>1992</td>\n      <td>750536.81</td>\n      <td>49215-0001</td>\n      <td>Flory Martugin</td>\n      <td>Female</td>\n      <td>833339.07</td>\n      <td>2</td>\n    </tr>\n    <tr>\n      <th>Aibox</th>\n      <td>151</td>\n      <td>5523</td>\n      <td>995 Kim Place</td>\n      <td>Mitsubishi</td>\n      <td>GTO</td>\n      <td>Purple</td>\n      <td>1999</td>\n      <td>605573.45</td>\n      <td>69152-0006</td>\n      <td>Ermina Brambill</td>\n      <td>Female</td>\n      <td>743622.93</td>\n      <td>2</td>\n    </tr>\n    <tr>\n      <th>Ainyx</th>\n      <td>212</td>\n      <td>9955</td>\n      <td>5 Onsgard Way</td>\n      <td>Mitsubishi</td>\n      <td>MX-3</td>\n      <td>Turquoise</td>\n      <td>2007</td>\n      <td>797965.14</td>\n      <td>66497-0001</td>\n      <td>Maxim Aizlewood</td>\n      <td>Male</td>\n      <td>932723.37</td>\n      <td>2</td>\n    </tr>\n    <tr>\n      <th>Aivee</th>\n      <td>295</td>\n      <td>4041</td>\n      <td>13 Hauk Way</td>\n      <td>Pontiac</td>\n      <td>Grand Am</td>\n      <td>Fuscia</td>\n      <td>1988</td>\n      <td>511763.96</td>\n      <td>60429-369</td>\n      <td>Chandler Hawkett</td>\n      <td>Male</td>\n      <td>981485.26</td>\n      <td>2</td>\n    </tr>\n    <tr>\n      <th>...</th>\n      <td>...</td>\n      <td>...</td>\n      <td>...</td>\n      <td>...</td>\n      <td>...</td>\n      <td>...</td>\n      <td>...</td>\n      <td>...</td>\n      <td>...</td>\n      <td>...</td>\n      <td>...</td>\n      <td>...</td>\n      <td>...</td>\n    </tr>\n    <tr>\n      <th>Zoomdog</th>\n      <td>281</td>\n      <td>8772</td>\n      <td>70 Autumn Leaf Center</td>\n      <td>GMC</td>\n      <td>Savana 1500</td>\n      <td>Red</td>\n      <td>2011</td>\n      <td>771998.97</td>\n      <td>58411-135</td>\n      <td>Tiebout Pizzey</td>\n      <td>Male</td>\n      <td>968244.90</td>\n      <td>2</td>\n    </tr>\n    <tr>\n      <th>Zoonder</th>\n      <td>211</td>\n      <td>8723</td>\n      <td>90 Chive Junction</td>\n      <td>GMC</td>\n      <td>Jimmy</td>\n      <td>Orange</td>\n      <td>1999</td>\n      <td>576531.57</td>\n      <td>11673-165</td>\n      <td>Edouard Gulleford</td>\n      <td>Male</td>\n      <td>831547.06</td>\n      <td>2</td>\n    </tr>\n    <tr>\n      <th>Zoovu</th>\n      <td>113</td>\n      <td>7713</td>\n      <td>34 Quincy Point</td>\n      <td>Cadillac</td>\n      <td>Seville</td>\n      <td>Khaki</td>\n      <td>1997</td>\n      <td>580966.08</td>\n      <td>36987-2014</td>\n      <td>Freeman Firbank</td>\n      <td>Male</td>\n      <td>895368.03</td>\n      <td>2</td>\n    </tr>\n    <tr>\n      <th>Zooxo</th>\n      <td>70</td>\n      <td>7841</td>\n      <td>2693 Lakewood Pass</td>\n      <td>Mercedes-Benz</td>\n      <td>SL-Class</td>\n      <td>Blue</td>\n      <td>2000</td>\n      <td>693279.61</td>\n      <td>64980-183</td>\n      <td>Winna Heber</td>\n      <td>Female</td>\n      <td>723633.61</td>\n      <td>2</td>\n    </tr>\n    <tr>\n      <th>Zoozzy</th>\n      <td>110</td>\n      <td>8155</td>\n      <td>37 Monument Hill</td>\n      <td>Land Rover</td>\n      <td>Range Rover</td>\n      <td>Crimson</td>\n      <td>1986</td>\n      <td>569435.74</td>\n      <td>65862-599</td>\n      <td>Paton Clynman</td>\n      <td>Male</td>\n      <td>981365.77</td>\n      <td>1</td>\n    </tr>\n  </tbody>\n</table>\n<p>215 rows × 13 columns</p>\n</div>"
          },
          "metadata": {}
        }
      ],
      "execution_count": 77
    },
    {
      "cell_type": "code",
      "source": "df.groupby('CarModel')[['SupplierName']].min()",
      "metadata": {
        "trusted": true
      },
      "outputs": [
        {
          "execution_count": 70,
          "output_type": "execute_result",
          "data": {
            "text/plain": "                SupplierName\nCarModel                    \n09-May              Photobug\n100                    Quinu\n1500                   Mynte\n2500 Club Coupe        Abata\n300               Babbleblab\n...                      ...\nXK Series              Yozio\nXLR                     DabZ\nXT                    Avaveo\nYukon XL 1500           Lazz\nYukon XL 2500         Kayveo\n\n[227 rows x 1 columns]",
            "text/html": "<div>\n<style scoped>\n    .dataframe tbody tr th:only-of-type {\n        vertical-align: middle;\n    }\n\n    .dataframe tbody tr th {\n        vertical-align: top;\n    }\n\n    .dataframe thead th {\n        text-align: right;\n    }\n</style>\n<table border=\"1\" class=\"dataframe\">\n  <thead>\n    <tr style=\"text-align: right;\">\n      <th></th>\n      <th>SupplierName</th>\n    </tr>\n    <tr>\n      <th>CarModel</th>\n      <th></th>\n    </tr>\n  </thead>\n  <tbody>\n    <tr>\n      <th>09-May</th>\n      <td>Photobug</td>\n    </tr>\n    <tr>\n      <th>100</th>\n      <td>Quinu</td>\n    </tr>\n    <tr>\n      <th>1500</th>\n      <td>Mynte</td>\n    </tr>\n    <tr>\n      <th>2500 Club Coupe</th>\n      <td>Abata</td>\n    </tr>\n    <tr>\n      <th>300</th>\n      <td>Babbleblab</td>\n    </tr>\n    <tr>\n      <th>...</th>\n      <td>...</td>\n    </tr>\n    <tr>\n      <th>XK Series</th>\n      <td>Yozio</td>\n    </tr>\n    <tr>\n      <th>XLR</th>\n      <td>DabZ</td>\n    </tr>\n    <tr>\n      <th>XT</th>\n      <td>Avaveo</td>\n    </tr>\n    <tr>\n      <th>Yukon XL 1500</th>\n      <td>Lazz</td>\n    </tr>\n    <tr>\n      <th>Yukon XL 2500</th>\n      <td>Kayveo</td>\n    </tr>\n  </tbody>\n</table>\n<p>227 rows × 1 columns</p>\n</div>"
          },
          "metadata": {}
        }
      ],
      "execution_count": 70
    },
    {
      "cell_type": "code",
      "source": "df.groupby('CarModel')['Sales'].mean()              #single bracket gives pandas series ",
      "metadata": {
        "trusted": true
      },
      "outputs": [
        {
          "execution_count": 72,
          "output_type": "execute_result",
          "data": {
            "text/plain": "CarModel\n09-May             738823.53\n100                891387.37\n1500               819525.67\n2500 Club Coupe    929803.73\n300                761905.00\n                     ...    \nXK Series          881577.52\nXLR                752558.40\nXT                 847308.19\nYukon XL 1500      855212.03\nYukon XL 2500      754756.67\nName: Sales, Length: 227, dtype: float64"
          },
          "metadata": {}
        }
      ],
      "execution_count": 72
    },
    {
      "cell_type": "code",
      "source": "df.groupby('CarModel')[['Sales']].mean()            #double bracket gives dataframe",
      "metadata": {
        "trusted": true
      },
      "outputs": [
        {
          "execution_count": 78,
          "output_type": "execute_result",
          "data": {
            "text/plain": "                     Sales\nCarModel                  \n09-May           738823.53\n100              891387.37\n1500             819525.67\n2500 Club Coupe  929803.73\n300              761905.00\n...                    ...\nXK Series        881577.52\nXLR              752558.40\nXT               847308.19\nYukon XL 1500    855212.03\nYukon XL 2500    754756.67\n\n[227 rows x 1 columns]",
            "text/html": "<div>\n<style scoped>\n    .dataframe tbody tr th:only-of-type {\n        vertical-align: middle;\n    }\n\n    .dataframe tbody tr th {\n        vertical-align: top;\n    }\n\n    .dataframe thead th {\n        text-align: right;\n    }\n</style>\n<table border=\"1\" class=\"dataframe\">\n  <thead>\n    <tr style=\"text-align: right;\">\n      <th></th>\n      <th>Sales</th>\n    </tr>\n    <tr>\n      <th>CarModel</th>\n      <th></th>\n    </tr>\n  </thead>\n  <tbody>\n    <tr>\n      <th>09-May</th>\n      <td>738823.53</td>\n    </tr>\n    <tr>\n      <th>100</th>\n      <td>891387.37</td>\n    </tr>\n    <tr>\n      <th>1500</th>\n      <td>819525.67</td>\n    </tr>\n    <tr>\n      <th>2500 Club Coupe</th>\n      <td>929803.73</td>\n    </tr>\n    <tr>\n      <th>300</th>\n      <td>761905.00</td>\n    </tr>\n    <tr>\n      <th>...</th>\n      <td>...</td>\n    </tr>\n    <tr>\n      <th>XK Series</th>\n      <td>881577.52</td>\n    </tr>\n    <tr>\n      <th>XLR</th>\n      <td>752558.40</td>\n    </tr>\n    <tr>\n      <th>XT</th>\n      <td>847308.19</td>\n    </tr>\n    <tr>\n      <th>Yukon XL 1500</th>\n      <td>855212.03</td>\n    </tr>\n    <tr>\n      <th>Yukon XL 2500</th>\n      <td>754756.67</td>\n    </tr>\n  </tbody>\n</table>\n<p>227 rows × 1 columns</p>\n</div>"
          },
          "metadata": {}
        }
      ],
      "execution_count": 78
    },
    {
      "cell_type": "code",
      "source": "df.groupby(['CarModel'],sort=False)[['Sales']].mean()                #groupby usually in ascending order",
      "metadata": {
        "trusted": true
      },
      "outputs": [
        {
          "execution_count": 80,
          "output_type": "execute_result",
          "data": {
            "text/plain": "                         Sales\nCarModel                      \nRam 2500         836524.026667\nTundra           842568.073333\nSavana 1500      841705.885000\nCabriolet        853338.360000\nMariner          879519.570000\n...                        ...\nSunbird          747147.580000\nFirefly          933482.060000\n3500 Club Coupe  701880.610000\nMKZ              941955.730000\nPassat           908766.530000\n\n[227 rows x 1 columns]",
            "text/html": "<div>\n<style scoped>\n    .dataframe tbody tr th:only-of-type {\n        vertical-align: middle;\n    }\n\n    .dataframe tbody tr th {\n        vertical-align: top;\n    }\n\n    .dataframe thead th {\n        text-align: right;\n    }\n</style>\n<table border=\"1\" class=\"dataframe\">\n  <thead>\n    <tr style=\"text-align: right;\">\n      <th></th>\n      <th>Sales</th>\n    </tr>\n    <tr>\n      <th>CarModel</th>\n      <th></th>\n    </tr>\n  </thead>\n  <tbody>\n    <tr>\n      <th>Ram 2500</th>\n      <td>836524.026667</td>\n    </tr>\n    <tr>\n      <th>Tundra</th>\n      <td>842568.073333</td>\n    </tr>\n    <tr>\n      <th>Savana 1500</th>\n      <td>841705.885000</td>\n    </tr>\n    <tr>\n      <th>Cabriolet</th>\n      <td>853338.360000</td>\n    </tr>\n    <tr>\n      <th>Mariner</th>\n      <td>879519.570000</td>\n    </tr>\n    <tr>\n      <th>...</th>\n      <td>...</td>\n    </tr>\n    <tr>\n      <th>Sunbird</th>\n      <td>747147.580000</td>\n    </tr>\n    <tr>\n      <th>Firefly</th>\n      <td>933482.060000</td>\n    </tr>\n    <tr>\n      <th>3500 Club Coupe</th>\n      <td>701880.610000</td>\n    </tr>\n    <tr>\n      <th>MKZ</th>\n      <td>941955.730000</td>\n    </tr>\n    <tr>\n      <th>Passat</th>\n      <td>908766.530000</td>\n    </tr>\n  </tbody>\n</table>\n<p>227 rows × 1 columns</p>\n</div>"
          },
          "metadata": {}
        }
      ],
      "execution_count": 80
    },
    {
      "cell_type": "code",
      "source": "df1 = df[df['Sales']>900000]\ndf1",
      "metadata": {
        "trusted": true
      },
      "outputs": [
        {
          "execution_count": 83,
          "output_type": "execute_result",
          "data": {
            "text/plain": "     SupplierID SupplierName  ProductID            SupplierAddress  \\\n2             3      Zoomdog        253      70 Autumn Leaf Center   \n3             4         Oozz       1283            649 Corben Lane   \n5             6       Rhynyx       8877        46347 Dunning Drive   \n9            10     Feedfire        492           100 Anhalt Place   \n10           11         Layo       9212               7 Esch Trail   \n..          ...          ...        ...                        ...   \n288         289         Geba       6072  00085 Anniversary Parkway   \n291         292    Flashspan       5021            850 Gerald Park   \n294         295        Aivee       4041                13 Hauk Way   \n295         296  Twitterlist        146      566 Westerfield Point   \n298         299       JumpXS       8765            627 Havey Drive   \n\n          CarMaker      CarModel    CarColor  CarModelYear   CarPrice  \\\n2              GMC   Savana 1500     Crimson          2011  504465.72   \n3       Volkswagen     Cabriolet      Fuscia          1990  646077.11   \n5           Toyota  Land Cruiser     Crimson          2005  694373.94   \n9           Subaru         Justy     Crimson          1988  798573.59   \n10   Mercedes-Benz       M-Class        Mauv          2002  722114.57   \n..             ...           ...         ...           ...        ...   \n288            BMW      5 Series   Goldenrod          2012  531392.16   \n291        Pontiac       Firefly  Aquamarine          1995  719071.21   \n294        Pontiac      Grand Am      Fuscia          1988  511763.96   \n295        Lincoln           MKZ      Violet          2007  732421.30   \n298     Volkswagen        Passat        Mauv          2012  714281.60   \n\n     CustomerID         CustomerName  Gender      Sales  Quantity  \n2     58411-135       Alvie Weighell    Male  968244.90         1  \n3     0591-5307        Flint Gunston    Male  942213.82         2  \n5    65811-0001          Wiatt Piche    Male  947785.40         2  \n9    54868-5732  Archer Landsborough    Male  902866.47         1  \n10    0955-1015        Duff Dodgshun    Male  932957.69         1  \n..          ...                  ...     ...        ...       ...  \n288  55154-5089      Boonie Milkeham    Male  919142.33         1  \n291   51079-768       Shelby Morratt  Female  933482.06         1  \n294   60429-369     Chandler Hawkett    Male  981485.26         2  \n295   30142-406    Matthieu Bonifant    Male  941955.73         1  \n298  55154-1855    Elladine Rivaland  Female  908766.53         2  \n\n[116 rows x 14 columns]",
            "text/html": "<div>\n<style scoped>\n    .dataframe tbody tr th:only-of-type {\n        vertical-align: middle;\n    }\n\n    .dataframe tbody tr th {\n        vertical-align: top;\n    }\n\n    .dataframe thead th {\n        text-align: right;\n    }\n</style>\n<table border=\"1\" class=\"dataframe\">\n  <thead>\n    <tr style=\"text-align: right;\">\n      <th></th>\n      <th>SupplierID</th>\n      <th>SupplierName</th>\n      <th>ProductID</th>\n      <th>SupplierAddress</th>\n      <th>CarMaker</th>\n      <th>CarModel</th>\n      <th>CarColor</th>\n      <th>CarModelYear</th>\n      <th>CarPrice</th>\n      <th>CustomerID</th>\n      <th>CustomerName</th>\n      <th>Gender</th>\n      <th>Sales</th>\n      <th>Quantity</th>\n    </tr>\n  </thead>\n  <tbody>\n    <tr>\n      <th>2</th>\n      <td>3</td>\n      <td>Zoomdog</td>\n      <td>253</td>\n      <td>70 Autumn Leaf Center</td>\n      <td>GMC</td>\n      <td>Savana 1500</td>\n      <td>Crimson</td>\n      <td>2011</td>\n      <td>504465.72</td>\n      <td>58411-135</td>\n      <td>Alvie Weighell</td>\n      <td>Male</td>\n      <td>968244.90</td>\n      <td>1</td>\n    </tr>\n    <tr>\n      <th>3</th>\n      <td>4</td>\n      <td>Oozz</td>\n      <td>1283</td>\n      <td>649 Corben Lane</td>\n      <td>Volkswagen</td>\n      <td>Cabriolet</td>\n      <td>Fuscia</td>\n      <td>1990</td>\n      <td>646077.11</td>\n      <td>0591-5307</td>\n      <td>Flint Gunston</td>\n      <td>Male</td>\n      <td>942213.82</td>\n      <td>2</td>\n    </tr>\n    <tr>\n      <th>5</th>\n      <td>6</td>\n      <td>Rhynyx</td>\n      <td>8877</td>\n      <td>46347 Dunning Drive</td>\n      <td>Toyota</td>\n      <td>Land Cruiser</td>\n      <td>Crimson</td>\n      <td>2005</td>\n      <td>694373.94</td>\n      <td>65811-0001</td>\n      <td>Wiatt Piche</td>\n      <td>Male</td>\n      <td>947785.40</td>\n      <td>2</td>\n    </tr>\n    <tr>\n      <th>9</th>\n      <td>10</td>\n      <td>Feedfire</td>\n      <td>492</td>\n      <td>100 Anhalt Place</td>\n      <td>Subaru</td>\n      <td>Justy</td>\n      <td>Crimson</td>\n      <td>1988</td>\n      <td>798573.59</td>\n      <td>54868-5732</td>\n      <td>Archer Landsborough</td>\n      <td>Male</td>\n      <td>902866.47</td>\n      <td>1</td>\n    </tr>\n    <tr>\n      <th>10</th>\n      <td>11</td>\n      <td>Layo</td>\n      <td>9212</td>\n      <td>7 Esch Trail</td>\n      <td>Mercedes-Benz</td>\n      <td>M-Class</td>\n      <td>Mauv</td>\n      <td>2002</td>\n      <td>722114.57</td>\n      <td>0955-1015</td>\n      <td>Duff Dodgshun</td>\n      <td>Male</td>\n      <td>932957.69</td>\n      <td>1</td>\n    </tr>\n    <tr>\n      <th>...</th>\n      <td>...</td>\n      <td>...</td>\n      <td>...</td>\n      <td>...</td>\n      <td>...</td>\n      <td>...</td>\n      <td>...</td>\n      <td>...</td>\n      <td>...</td>\n      <td>...</td>\n      <td>...</td>\n      <td>...</td>\n      <td>...</td>\n      <td>...</td>\n    </tr>\n    <tr>\n      <th>288</th>\n      <td>289</td>\n      <td>Geba</td>\n      <td>6072</td>\n      <td>00085 Anniversary Parkway</td>\n      <td>BMW</td>\n      <td>5 Series</td>\n      <td>Goldenrod</td>\n      <td>2012</td>\n      <td>531392.16</td>\n      <td>55154-5089</td>\n      <td>Boonie Milkeham</td>\n      <td>Male</td>\n      <td>919142.33</td>\n      <td>1</td>\n    </tr>\n    <tr>\n      <th>291</th>\n      <td>292</td>\n      <td>Flashspan</td>\n      <td>5021</td>\n      <td>850 Gerald Park</td>\n      <td>Pontiac</td>\n      <td>Firefly</td>\n      <td>Aquamarine</td>\n      <td>1995</td>\n      <td>719071.21</td>\n      <td>51079-768</td>\n      <td>Shelby Morratt</td>\n      <td>Female</td>\n      <td>933482.06</td>\n      <td>1</td>\n    </tr>\n    <tr>\n      <th>294</th>\n      <td>295</td>\n      <td>Aivee</td>\n      <td>4041</td>\n      <td>13 Hauk Way</td>\n      <td>Pontiac</td>\n      <td>Grand Am</td>\n      <td>Fuscia</td>\n      <td>1988</td>\n      <td>511763.96</td>\n      <td>60429-369</td>\n      <td>Chandler Hawkett</td>\n      <td>Male</td>\n      <td>981485.26</td>\n      <td>2</td>\n    </tr>\n    <tr>\n      <th>295</th>\n      <td>296</td>\n      <td>Twitterlist</td>\n      <td>146</td>\n      <td>566 Westerfield Point</td>\n      <td>Lincoln</td>\n      <td>MKZ</td>\n      <td>Violet</td>\n      <td>2007</td>\n      <td>732421.30</td>\n      <td>30142-406</td>\n      <td>Matthieu Bonifant</td>\n      <td>Male</td>\n      <td>941955.73</td>\n      <td>1</td>\n    </tr>\n    <tr>\n      <th>298</th>\n      <td>299</td>\n      <td>JumpXS</td>\n      <td>8765</td>\n      <td>627 Havey Drive</td>\n      <td>Volkswagen</td>\n      <td>Passat</td>\n      <td>Mauv</td>\n      <td>2012</td>\n      <td>714281.60</td>\n      <td>55154-1855</td>\n      <td>Elladine Rivaland</td>\n      <td>Female</td>\n      <td>908766.53</td>\n      <td>2</td>\n    </tr>\n  </tbody>\n</table>\n<p>116 rows × 14 columns</p>\n</div>"
          },
          "metadata": {}
        }
      ],
      "execution_count": 83
    },
    {
      "cell_type": "code",
      "source": "df1 = df[df['CarModel']==\"M-Class\"]\ndf1",
      "metadata": {
        "trusted": true
      },
      "outputs": [
        {
          "execution_count": 84,
          "output_type": "execute_result",
          "data": {
            "text/plain": "    SupplierID SupplierName  ProductID SupplierAddress       CarMaker  \\\n10          11         Layo       9212    7 Esch Trail  Mercedes-Benz   \n\n   CarModel CarColor  CarModelYear   CarPrice CustomerID   CustomerName  \\\n10  M-Class     Mauv          2002  722114.57  0955-1015  Duff Dodgshun   \n\n   Gender      Sales  Quantity  \n10   Male  932957.69         1  ",
            "text/html": "<div>\n<style scoped>\n    .dataframe tbody tr th:only-of-type {\n        vertical-align: middle;\n    }\n\n    .dataframe tbody tr th {\n        vertical-align: top;\n    }\n\n    .dataframe thead th {\n        text-align: right;\n    }\n</style>\n<table border=\"1\" class=\"dataframe\">\n  <thead>\n    <tr style=\"text-align: right;\">\n      <th></th>\n      <th>SupplierID</th>\n      <th>SupplierName</th>\n      <th>ProductID</th>\n      <th>SupplierAddress</th>\n      <th>CarMaker</th>\n      <th>CarModel</th>\n      <th>CarColor</th>\n      <th>CarModelYear</th>\n      <th>CarPrice</th>\n      <th>CustomerID</th>\n      <th>CustomerName</th>\n      <th>Gender</th>\n      <th>Sales</th>\n      <th>Quantity</th>\n    </tr>\n  </thead>\n  <tbody>\n    <tr>\n      <th>10</th>\n      <td>11</td>\n      <td>Layo</td>\n      <td>9212</td>\n      <td>7 Esch Trail</td>\n      <td>Mercedes-Benz</td>\n      <td>M-Class</td>\n      <td>Mauv</td>\n      <td>2002</td>\n      <td>722114.57</td>\n      <td>0955-1015</td>\n      <td>Duff Dodgshun</td>\n      <td>Male</td>\n      <td>932957.69</td>\n      <td>1</td>\n    </tr>\n  </tbody>\n</table>\n</div>"
          },
          "metadata": {}
        }
      ],
      "execution_count": 84
    },
    {
      "cell_type": "code",
      "source": "df.SupplierName          #like this ",
      "metadata": {
        "trusted": true
      },
      "outputs": [
        {
          "execution_count": 87,
          "output_type": "execute_result",
          "data": {
            "text/plain": "0       Bubbletube\n1          Tagopia\n2          Zoomdog\n3             Oozz\n4             Kare\n          ...     \n294          Aivee\n295    Twitterlist\n296           Ntag\n297         Demizz\n298         JumpXS\nName: SupplierName, Length: 299, dtype: object"
          },
          "metadata": {}
        }
      ],
      "execution_count": 87
    },
    {
      "cell_type": "code",
      "source": "df['SupplierName']         #like this ",
      "metadata": {
        "trusted": true
      },
      "outputs": [
        {
          "execution_count": 89,
          "output_type": "execute_result",
          "data": {
            "text/plain": "0       Bubbletube\n1          Tagopia\n2          Zoomdog\n3             Oozz\n4             Kare\n          ...     \n294          Aivee\n295    Twitterlist\n296           Ntag\n297         Demizz\n298         JumpXS\nName: SupplierName, Length: 299, dtype: object"
          },
          "metadata": {}
        }
      ],
      "execution_count": 89
    },
    {
      "cell_type": "code",
      "source": "df[['CarMaker','CarModelYear']]",
      "metadata": {
        "trusted": true
      },
      "outputs": [
        {
          "execution_count": 86,
          "output_type": "execute_result",
          "data": {
            "text/plain": "          CarMaker  CarModelYear\n0            Dodge          2007\n1           Toyota          2010\n2              GMC          2011\n3       Volkswagen          1990\n4          Mercury          2009\n..             ...           ...\n294        Pontiac          1988\n295        Lincoln          2007\n296          Buick          2005\n297  Mercedes-Benz          2007\n298     Volkswagen          2012\n\n[299 rows x 2 columns]",
            "text/html": "<div>\n<style scoped>\n    .dataframe tbody tr th:only-of-type {\n        vertical-align: middle;\n    }\n\n    .dataframe tbody tr th {\n        vertical-align: top;\n    }\n\n    .dataframe thead th {\n        text-align: right;\n    }\n</style>\n<table border=\"1\" class=\"dataframe\">\n  <thead>\n    <tr style=\"text-align: right;\">\n      <th></th>\n      <th>CarMaker</th>\n      <th>CarModelYear</th>\n    </tr>\n  </thead>\n  <tbody>\n    <tr>\n      <th>0</th>\n      <td>Dodge</td>\n      <td>2007</td>\n    </tr>\n    <tr>\n      <th>1</th>\n      <td>Toyota</td>\n      <td>2010</td>\n    </tr>\n    <tr>\n      <th>2</th>\n      <td>GMC</td>\n      <td>2011</td>\n    </tr>\n    <tr>\n      <th>3</th>\n      <td>Volkswagen</td>\n      <td>1990</td>\n    </tr>\n    <tr>\n      <th>4</th>\n      <td>Mercury</td>\n      <td>2009</td>\n    </tr>\n    <tr>\n      <th>...</th>\n      <td>...</td>\n      <td>...</td>\n    </tr>\n    <tr>\n      <th>294</th>\n      <td>Pontiac</td>\n      <td>1988</td>\n    </tr>\n    <tr>\n      <th>295</th>\n      <td>Lincoln</td>\n      <td>2007</td>\n    </tr>\n    <tr>\n      <th>296</th>\n      <td>Buick</td>\n      <td>2005</td>\n    </tr>\n    <tr>\n      <th>297</th>\n      <td>Mercedes-Benz</td>\n      <td>2007</td>\n    </tr>\n    <tr>\n      <th>298</th>\n      <td>Volkswagen</td>\n      <td>2012</td>\n    </tr>\n  </tbody>\n</table>\n<p>299 rows × 2 columns</p>\n</div>"
          },
          "metadata": {}
        }
      ],
      "execution_count": 86
    },
    {
      "cell_type": "code",
      "source": "df[0:20]",
      "metadata": {
        "trusted": true
      },
      "outputs": [
        {
          "execution_count": 90,
          "output_type": "execute_result",
          "data": {
            "text/plain": "    SupplierID SupplierName  ProductID         SupplierAddress       CarMaker  \\\n0            1   Bubbletube       8893       542 Dayton Center          Dodge   \n1            2      Tagopia       9444  0674 Springview Circle         Toyota   \n2            3      Zoomdog        253   70 Autumn Leaf Center            GMC   \n3            4         Oozz       1283         649 Corben Lane     Volkswagen   \n4            5         Kare       8905      94 Namekagon Point        Mercury   \n5            6       Rhynyx       8877     46347 Dunning Drive         Toyota   \n6            7       Roombo        101      85 Coleman Parkway         Subaru   \n7            8      Wordify       8854  30230 Westerfield Pass            BMW   \n8            9        Skyvu       9043        4 Coleman Street     Mitsubishi   \n9           10     Feedfire        492        100 Anhalt Place         Subaru   \n10          11         Layo       9212            7 Esch Trail  Mercedes-Benz   \n11          12        Oyoyo       7891    6 Meadow Vale Center           Ford   \n12          13        Quatz       3334   0972 Pepper Wood Lane  Mercedes-Benz   \n13          14      Gabvine       8898       55262 Emmet Place          Dodge   \n14          15      Jaxspan       4531  330 Pennsylvania Plaza         Nissan   \n15          16       Mybuzz       3327  428 Meadow Ridge Alley            BMW   \n16          17      Gabcube       7975         26 Stuart Court  Mercedes-Benz   \n17          18         Lazz       7029        73 Beilfuss Road          Honda   \n18          19      Buzzdog       2373            9 Lukken Way         Toyota   \n19          20        Yodel       5839      411 Coleman Circle           Ford   \n\n        CarModel    CarColor  CarModelYear   CarPrice  CustomerID  \\\n0       Ram 2500   Goldenrod          2007  521963.45   60760-224   \n1         Tundra     Crimson          2010  672222.04   67457-594   \n2    Savana 1500     Crimson          2011  504465.72   58411-135   \n3      Cabriolet      Fuscia          1990  646077.11   0591-5307   \n4        Mariner        Teal          2009  699890.24   51655-189   \n5   Land Cruiser     Crimson          2005  694373.94  65811-0001   \n6        Impreza      Indigo          1999  546977.55   31722-328   \n7             X6      Purple          2013  528353.80   54162-018   \n8         Galant      Orange          2011  706964.35  44911-0060   \n9          Justy     Crimson          1988  798573.59  54868-5732   \n10       M-Class        Mauv          2002  722114.57   0955-1015   \n11      Taurus X     Crimson          2008  761182.85   54838-101   \n12      CL-Class         Red          2011  568015.89   49825-119   \n13       Avenger   Turquoise          2008  646591.02   54799-504   \n14    Pathfinder       Khaki          2002  670304.84  43742-0059   \n15            M3   Turquoise          2009  728986.85  68788-9728   \n16       R-Class        Puce          2009  665854.24   0228-2672   \n17   FCX Clarity      Yellow          2012  707705.42   21695-215   \n18       Corolla  Aquamarine          2004  563380.63   37000-352   \n19         Tempo   Turquoise          1988  686028.43  49288-0606   \n\n           CustomerName  Gender      Sales  Quantity  \n0         Louie Hinsche    Male  744796.41         1  \n1     Alexandros Manuel    Male  794773.17         1  \n2        Alvie Weighell    Male  968244.90         1  \n3         Flint Gunston    Male  942213.82         2  \n4          Alyssa Filpi  Female  879519.57         1  \n5           Wiatt Piche    Male  947785.40         2  \n6       Findlay Alberti    Male  883836.81         2  \n7       Ottilie Wittman  Female  779626.29         1  \n8        Kirsten Calvey  Female  818364.32         2  \n9   Archer Landsborough    Male  902866.47         1  \n10        Duff Dodgshun    Male  932957.69         1  \n11         Barry Delves  Female  743643.26         2  \n12        Libbey Divell  Female  856186.55         2  \n13  Demetria Hazelgrove  Female  703359.96         1  \n14       Creigh Wreakes    Male  832581.18         2  \n15         Erv Manville    Male  948098.46         2  \n16       Mychal Zanetti    Male  856069.09         2  \n17     Jermain Proudman    Male  749727.44         1  \n18         Liuka Dundin  Female  758563.82         2  \n19           Timmy Duck  Female  927054.81         2  ",
            "text/html": "<div>\n<style scoped>\n    .dataframe tbody tr th:only-of-type {\n        vertical-align: middle;\n    }\n\n    .dataframe tbody tr th {\n        vertical-align: top;\n    }\n\n    .dataframe thead th {\n        text-align: right;\n    }\n</style>\n<table border=\"1\" class=\"dataframe\">\n  <thead>\n    <tr style=\"text-align: right;\">\n      <th></th>\n      <th>SupplierID</th>\n      <th>SupplierName</th>\n      <th>ProductID</th>\n      <th>SupplierAddress</th>\n      <th>CarMaker</th>\n      <th>CarModel</th>\n      <th>CarColor</th>\n      <th>CarModelYear</th>\n      <th>CarPrice</th>\n      <th>CustomerID</th>\n      <th>CustomerName</th>\n      <th>Gender</th>\n      <th>Sales</th>\n      <th>Quantity</th>\n    </tr>\n  </thead>\n  <tbody>\n    <tr>\n      <th>0</th>\n      <td>1</td>\n      <td>Bubbletube</td>\n      <td>8893</td>\n      <td>542 Dayton Center</td>\n      <td>Dodge</td>\n      <td>Ram 2500</td>\n      <td>Goldenrod</td>\n      <td>2007</td>\n      <td>521963.45</td>\n      <td>60760-224</td>\n      <td>Louie Hinsche</td>\n      <td>Male</td>\n      <td>744796.41</td>\n      <td>1</td>\n    </tr>\n    <tr>\n      <th>1</th>\n      <td>2</td>\n      <td>Tagopia</td>\n      <td>9444</td>\n      <td>0674 Springview Circle</td>\n      <td>Toyota</td>\n      <td>Tundra</td>\n      <td>Crimson</td>\n      <td>2010</td>\n      <td>672222.04</td>\n      <td>67457-594</td>\n      <td>Alexandros Manuel</td>\n      <td>Male</td>\n      <td>794773.17</td>\n      <td>1</td>\n    </tr>\n    <tr>\n      <th>2</th>\n      <td>3</td>\n      <td>Zoomdog</td>\n      <td>253</td>\n      <td>70 Autumn Leaf Center</td>\n      <td>GMC</td>\n      <td>Savana 1500</td>\n      <td>Crimson</td>\n      <td>2011</td>\n      <td>504465.72</td>\n      <td>58411-135</td>\n      <td>Alvie Weighell</td>\n      <td>Male</td>\n      <td>968244.90</td>\n      <td>1</td>\n    </tr>\n    <tr>\n      <th>3</th>\n      <td>4</td>\n      <td>Oozz</td>\n      <td>1283</td>\n      <td>649 Corben Lane</td>\n      <td>Volkswagen</td>\n      <td>Cabriolet</td>\n      <td>Fuscia</td>\n      <td>1990</td>\n      <td>646077.11</td>\n      <td>0591-5307</td>\n      <td>Flint Gunston</td>\n      <td>Male</td>\n      <td>942213.82</td>\n      <td>2</td>\n    </tr>\n    <tr>\n      <th>4</th>\n      <td>5</td>\n      <td>Kare</td>\n      <td>8905</td>\n      <td>94 Namekagon Point</td>\n      <td>Mercury</td>\n      <td>Mariner</td>\n      <td>Teal</td>\n      <td>2009</td>\n      <td>699890.24</td>\n      <td>51655-189</td>\n      <td>Alyssa Filpi</td>\n      <td>Female</td>\n      <td>879519.57</td>\n      <td>1</td>\n    </tr>\n    <tr>\n      <th>5</th>\n      <td>6</td>\n      <td>Rhynyx</td>\n      <td>8877</td>\n      <td>46347 Dunning Drive</td>\n      <td>Toyota</td>\n      <td>Land Cruiser</td>\n      <td>Crimson</td>\n      <td>2005</td>\n      <td>694373.94</td>\n      <td>65811-0001</td>\n      <td>Wiatt Piche</td>\n      <td>Male</td>\n      <td>947785.40</td>\n      <td>2</td>\n    </tr>\n    <tr>\n      <th>6</th>\n      <td>7</td>\n      <td>Roombo</td>\n      <td>101</td>\n      <td>85 Coleman Parkway</td>\n      <td>Subaru</td>\n      <td>Impreza</td>\n      <td>Indigo</td>\n      <td>1999</td>\n      <td>546977.55</td>\n      <td>31722-328</td>\n      <td>Findlay Alberti</td>\n      <td>Male</td>\n      <td>883836.81</td>\n      <td>2</td>\n    </tr>\n    <tr>\n      <th>7</th>\n      <td>8</td>\n      <td>Wordify</td>\n      <td>8854</td>\n      <td>30230 Westerfield Pass</td>\n      <td>BMW</td>\n      <td>X6</td>\n      <td>Purple</td>\n      <td>2013</td>\n      <td>528353.80</td>\n      <td>54162-018</td>\n      <td>Ottilie Wittman</td>\n      <td>Female</td>\n      <td>779626.29</td>\n      <td>1</td>\n    </tr>\n    <tr>\n      <th>8</th>\n      <td>9</td>\n      <td>Skyvu</td>\n      <td>9043</td>\n      <td>4 Coleman Street</td>\n      <td>Mitsubishi</td>\n      <td>Galant</td>\n      <td>Orange</td>\n      <td>2011</td>\n      <td>706964.35</td>\n      <td>44911-0060</td>\n      <td>Kirsten Calvey</td>\n      <td>Female</td>\n      <td>818364.32</td>\n      <td>2</td>\n    </tr>\n    <tr>\n      <th>9</th>\n      <td>10</td>\n      <td>Feedfire</td>\n      <td>492</td>\n      <td>100 Anhalt Place</td>\n      <td>Subaru</td>\n      <td>Justy</td>\n      <td>Crimson</td>\n      <td>1988</td>\n      <td>798573.59</td>\n      <td>54868-5732</td>\n      <td>Archer Landsborough</td>\n      <td>Male</td>\n      <td>902866.47</td>\n      <td>1</td>\n    </tr>\n    <tr>\n      <th>10</th>\n      <td>11</td>\n      <td>Layo</td>\n      <td>9212</td>\n      <td>7 Esch Trail</td>\n      <td>Mercedes-Benz</td>\n      <td>M-Class</td>\n      <td>Mauv</td>\n      <td>2002</td>\n      <td>722114.57</td>\n      <td>0955-1015</td>\n      <td>Duff Dodgshun</td>\n      <td>Male</td>\n      <td>932957.69</td>\n      <td>1</td>\n    </tr>\n    <tr>\n      <th>11</th>\n      <td>12</td>\n      <td>Oyoyo</td>\n      <td>7891</td>\n      <td>6 Meadow Vale Center</td>\n      <td>Ford</td>\n      <td>Taurus X</td>\n      <td>Crimson</td>\n      <td>2008</td>\n      <td>761182.85</td>\n      <td>54838-101</td>\n      <td>Barry Delves</td>\n      <td>Female</td>\n      <td>743643.26</td>\n      <td>2</td>\n    </tr>\n    <tr>\n      <th>12</th>\n      <td>13</td>\n      <td>Quatz</td>\n      <td>3334</td>\n      <td>0972 Pepper Wood Lane</td>\n      <td>Mercedes-Benz</td>\n      <td>CL-Class</td>\n      <td>Red</td>\n      <td>2011</td>\n      <td>568015.89</td>\n      <td>49825-119</td>\n      <td>Libbey Divell</td>\n      <td>Female</td>\n      <td>856186.55</td>\n      <td>2</td>\n    </tr>\n    <tr>\n      <th>13</th>\n      <td>14</td>\n      <td>Gabvine</td>\n      <td>8898</td>\n      <td>55262 Emmet Place</td>\n      <td>Dodge</td>\n      <td>Avenger</td>\n      <td>Turquoise</td>\n      <td>2008</td>\n      <td>646591.02</td>\n      <td>54799-504</td>\n      <td>Demetria Hazelgrove</td>\n      <td>Female</td>\n      <td>703359.96</td>\n      <td>1</td>\n    </tr>\n    <tr>\n      <th>14</th>\n      <td>15</td>\n      <td>Jaxspan</td>\n      <td>4531</td>\n      <td>330 Pennsylvania Plaza</td>\n      <td>Nissan</td>\n      <td>Pathfinder</td>\n      <td>Khaki</td>\n      <td>2002</td>\n      <td>670304.84</td>\n      <td>43742-0059</td>\n      <td>Creigh Wreakes</td>\n      <td>Male</td>\n      <td>832581.18</td>\n      <td>2</td>\n    </tr>\n    <tr>\n      <th>15</th>\n      <td>16</td>\n      <td>Mybuzz</td>\n      <td>3327</td>\n      <td>428 Meadow Ridge Alley</td>\n      <td>BMW</td>\n      <td>M3</td>\n      <td>Turquoise</td>\n      <td>2009</td>\n      <td>728986.85</td>\n      <td>68788-9728</td>\n      <td>Erv Manville</td>\n      <td>Male</td>\n      <td>948098.46</td>\n      <td>2</td>\n    </tr>\n    <tr>\n      <th>16</th>\n      <td>17</td>\n      <td>Gabcube</td>\n      <td>7975</td>\n      <td>26 Stuart Court</td>\n      <td>Mercedes-Benz</td>\n      <td>R-Class</td>\n      <td>Puce</td>\n      <td>2009</td>\n      <td>665854.24</td>\n      <td>0228-2672</td>\n      <td>Mychal Zanetti</td>\n      <td>Male</td>\n      <td>856069.09</td>\n      <td>2</td>\n    </tr>\n    <tr>\n      <th>17</th>\n      <td>18</td>\n      <td>Lazz</td>\n      <td>7029</td>\n      <td>73 Beilfuss Road</td>\n      <td>Honda</td>\n      <td>FCX Clarity</td>\n      <td>Yellow</td>\n      <td>2012</td>\n      <td>707705.42</td>\n      <td>21695-215</td>\n      <td>Jermain Proudman</td>\n      <td>Male</td>\n      <td>749727.44</td>\n      <td>1</td>\n    </tr>\n    <tr>\n      <th>18</th>\n      <td>19</td>\n      <td>Buzzdog</td>\n      <td>2373</td>\n      <td>9 Lukken Way</td>\n      <td>Toyota</td>\n      <td>Corolla</td>\n      <td>Aquamarine</td>\n      <td>2004</td>\n      <td>563380.63</td>\n      <td>37000-352</td>\n      <td>Liuka Dundin</td>\n      <td>Female</td>\n      <td>758563.82</td>\n      <td>2</td>\n    </tr>\n    <tr>\n      <th>19</th>\n      <td>20</td>\n      <td>Yodel</td>\n      <td>5839</td>\n      <td>411 Coleman Circle</td>\n      <td>Ford</td>\n      <td>Tempo</td>\n      <td>Turquoise</td>\n      <td>1988</td>\n      <td>686028.43</td>\n      <td>49288-0606</td>\n      <td>Timmy Duck</td>\n      <td>Female</td>\n      <td>927054.81</td>\n      <td>2</td>\n    </tr>\n  </tbody>\n</table>\n</div>"
          },
          "metadata": {}
        }
      ],
      "execution_count": 90
    },
    {
      "cell_type": "code",
      "source": "df.loc[0:10,['SupplierName','CarMaker','CarModelYear']]       #loc - 0 to 10 (all from 0 to 10 ,no omittions)",
      "metadata": {
        "trusted": true
      },
      "outputs": [
        {
          "execution_count": 93,
          "output_type": "execute_result",
          "data": {
            "text/plain": "   SupplierName       CarMaker  CarModelYear\n0    Bubbletube          Dodge          2007\n1       Tagopia         Toyota          2010\n2       Zoomdog            GMC          2011\n3          Oozz     Volkswagen          1990\n4          Kare        Mercury          2009\n5        Rhynyx         Toyota          2005\n6        Roombo         Subaru          1999\n7       Wordify            BMW          2013\n8         Skyvu     Mitsubishi          2011\n9      Feedfire         Subaru          1988\n10         Layo  Mercedes-Benz          2002",
            "text/html": "<div>\n<style scoped>\n    .dataframe tbody tr th:only-of-type {\n        vertical-align: middle;\n    }\n\n    .dataframe tbody tr th {\n        vertical-align: top;\n    }\n\n    .dataframe thead th {\n        text-align: right;\n    }\n</style>\n<table border=\"1\" class=\"dataframe\">\n  <thead>\n    <tr style=\"text-align: right;\">\n      <th></th>\n      <th>SupplierName</th>\n      <th>CarMaker</th>\n      <th>CarModelYear</th>\n    </tr>\n  </thead>\n  <tbody>\n    <tr>\n      <th>0</th>\n      <td>Bubbletube</td>\n      <td>Dodge</td>\n      <td>2007</td>\n    </tr>\n    <tr>\n      <th>1</th>\n      <td>Tagopia</td>\n      <td>Toyota</td>\n      <td>2010</td>\n    </tr>\n    <tr>\n      <th>2</th>\n      <td>Zoomdog</td>\n      <td>GMC</td>\n      <td>2011</td>\n    </tr>\n    <tr>\n      <th>3</th>\n      <td>Oozz</td>\n      <td>Volkswagen</td>\n      <td>1990</td>\n    </tr>\n    <tr>\n      <th>4</th>\n      <td>Kare</td>\n      <td>Mercury</td>\n      <td>2009</td>\n    </tr>\n    <tr>\n      <th>5</th>\n      <td>Rhynyx</td>\n      <td>Toyota</td>\n      <td>2005</td>\n    </tr>\n    <tr>\n      <th>6</th>\n      <td>Roombo</td>\n      <td>Subaru</td>\n      <td>1999</td>\n    </tr>\n    <tr>\n      <th>7</th>\n      <td>Wordify</td>\n      <td>BMW</td>\n      <td>2013</td>\n    </tr>\n    <tr>\n      <th>8</th>\n      <td>Skyvu</td>\n      <td>Mitsubishi</td>\n      <td>2011</td>\n    </tr>\n    <tr>\n      <th>9</th>\n      <td>Feedfire</td>\n      <td>Subaru</td>\n      <td>1988</td>\n    </tr>\n    <tr>\n      <th>10</th>\n      <td>Layo</td>\n      <td>Mercedes-Benz</td>\n      <td>2002</td>\n    </tr>\n  </tbody>\n</table>\n</div>"
          },
          "metadata": {}
        }
      ],
      "execution_count": 93
    },
    {
      "cell_type": "code",
      "source": "df.iloc[0:10,[1,3,6,8]]                 #iloc - 0 to 10 (10 omitted)",
      "metadata": {
        "trusted": true
      },
      "outputs": [
        {
          "execution_count": 96,
          "output_type": "execute_result",
          "data": {
            "text/plain": "  SupplierName         SupplierAddress   CarColor   CarPrice\n0   Bubbletube       542 Dayton Center  Goldenrod  521963.45\n1      Tagopia  0674 Springview Circle    Crimson  672222.04\n2      Zoomdog   70 Autumn Leaf Center    Crimson  504465.72\n3         Oozz         649 Corben Lane     Fuscia  646077.11\n4         Kare      94 Namekagon Point       Teal  699890.24\n5       Rhynyx     46347 Dunning Drive    Crimson  694373.94\n6       Roombo      85 Coleman Parkway     Indigo  546977.55\n7      Wordify  30230 Westerfield Pass     Purple  528353.80\n8        Skyvu        4 Coleman Street     Orange  706964.35\n9     Feedfire        100 Anhalt Place    Crimson  798573.59",
            "text/html": "<div>\n<style scoped>\n    .dataframe tbody tr th:only-of-type {\n        vertical-align: middle;\n    }\n\n    .dataframe tbody tr th {\n        vertical-align: top;\n    }\n\n    .dataframe thead th {\n        text-align: right;\n    }\n</style>\n<table border=\"1\" class=\"dataframe\">\n  <thead>\n    <tr style=\"text-align: right;\">\n      <th></th>\n      <th>SupplierName</th>\n      <th>SupplierAddress</th>\n      <th>CarColor</th>\n      <th>CarPrice</th>\n    </tr>\n  </thead>\n  <tbody>\n    <tr>\n      <th>0</th>\n      <td>Bubbletube</td>\n      <td>542 Dayton Center</td>\n      <td>Goldenrod</td>\n      <td>521963.45</td>\n    </tr>\n    <tr>\n      <th>1</th>\n      <td>Tagopia</td>\n      <td>0674 Springview Circle</td>\n      <td>Crimson</td>\n      <td>672222.04</td>\n    </tr>\n    <tr>\n      <th>2</th>\n      <td>Zoomdog</td>\n      <td>70 Autumn Leaf Center</td>\n      <td>Crimson</td>\n      <td>504465.72</td>\n    </tr>\n    <tr>\n      <th>3</th>\n      <td>Oozz</td>\n      <td>649 Corben Lane</td>\n      <td>Fuscia</td>\n      <td>646077.11</td>\n    </tr>\n    <tr>\n      <th>4</th>\n      <td>Kare</td>\n      <td>94 Namekagon Point</td>\n      <td>Teal</td>\n      <td>699890.24</td>\n    </tr>\n    <tr>\n      <th>5</th>\n      <td>Rhynyx</td>\n      <td>46347 Dunning Drive</td>\n      <td>Crimson</td>\n      <td>694373.94</td>\n    </tr>\n    <tr>\n      <th>6</th>\n      <td>Roombo</td>\n      <td>85 Coleman Parkway</td>\n      <td>Indigo</td>\n      <td>546977.55</td>\n    </tr>\n    <tr>\n      <th>7</th>\n      <td>Wordify</td>\n      <td>30230 Westerfield Pass</td>\n      <td>Purple</td>\n      <td>528353.80</td>\n    </tr>\n    <tr>\n      <th>8</th>\n      <td>Skyvu</td>\n      <td>4 Coleman Street</td>\n      <td>Orange</td>\n      <td>706964.35</td>\n    </tr>\n    <tr>\n      <th>9</th>\n      <td>Feedfire</td>\n      <td>100 Anhalt Place</td>\n      <td>Crimson</td>\n      <td>798573.59</td>\n    </tr>\n  </tbody>\n</table>\n</div>"
          },
          "metadata": {}
        }
      ],
      "execution_count": 96
    },
    {
      "cell_type": "code",
      "source": "df.iloc[0]             #first row ",
      "metadata": {
        "trusted": true
      },
      "outputs": [
        {
          "execution_count": 100,
          "output_type": "execute_result",
          "data": {
            "text/plain": "SupplierID                         1\nSupplierName              Bubbletube\nProductID                       8893\nSupplierAddress    542 Dayton Center\nCarMaker                       Dodge\nCarModel                    Ram 2500\nCarColor                   Goldenrod\nCarModelYear                    2007\nCarPrice                   521963.45\nCustomerID                 60760-224\nCustomerName           Louie Hinsche\nGender                          Male\nSales                      744796.41\nQuantity                           1\nName: 0, dtype: object"
          },
          "metadata": {}
        }
      ],
      "execution_count": 100
    },
    {
      "cell_type": "code",
      "source": "df.iloc[:0,:]         #0 omitted",
      "metadata": {
        "trusted": true
      },
      "outputs": [
        {
          "execution_count": 101,
          "output_type": "execute_result",
          "data": {
            "text/plain": "Empty DataFrame\nColumns: [SupplierID, SupplierName, ProductID, SupplierAddress, CarMaker, CarModel, CarColor, CarModelYear, CarPrice, CustomerID, CustomerName, Gender, Sales, Quantity]\nIndex: []",
            "text/html": "<div>\n<style scoped>\n    .dataframe tbody tr th:only-of-type {\n        vertical-align: middle;\n    }\n\n    .dataframe tbody tr th {\n        vertical-align: top;\n    }\n\n    .dataframe thead th {\n        text-align: right;\n    }\n</style>\n<table border=\"1\" class=\"dataframe\">\n  <thead>\n    <tr style=\"text-align: right;\">\n      <th></th>\n      <th>SupplierID</th>\n      <th>SupplierName</th>\n      <th>ProductID</th>\n      <th>SupplierAddress</th>\n      <th>CarMaker</th>\n      <th>CarModel</th>\n      <th>CarColor</th>\n      <th>CarModelYear</th>\n      <th>CarPrice</th>\n      <th>CustomerID</th>\n      <th>CustomerName</th>\n      <th>Gender</th>\n      <th>Sales</th>\n      <th>Quantity</th>\n    </tr>\n  </thead>\n  <tbody>\n  </tbody>\n</table>\n</div>"
          },
          "metadata": {}
        }
      ],
      "execution_count": 101
    },
    {
      "cell_type": "code",
      "source": "df.iloc[:1,:]        #0 to 1 (1 omitted)",
      "metadata": {
        "trusted": true
      },
      "outputs": [
        {
          "execution_count": 102,
          "output_type": "execute_result",
          "data": {
            "text/plain": "   SupplierID SupplierName  ProductID    SupplierAddress CarMaker  CarModel  \\\n0           1   Bubbletube       8893  542 Dayton Center    Dodge  Ram 2500   \n\n    CarColor  CarModelYear   CarPrice CustomerID   CustomerName Gender  \\\n0  Goldenrod          2007  521963.45  60760-224  Louie Hinsche   Male   \n\n       Sales  Quantity  \n0  744796.41         1  ",
            "text/html": "<div>\n<style scoped>\n    .dataframe tbody tr th:only-of-type {\n        vertical-align: middle;\n    }\n\n    .dataframe tbody tr th {\n        vertical-align: top;\n    }\n\n    .dataframe thead th {\n        text-align: right;\n    }\n</style>\n<table border=\"1\" class=\"dataframe\">\n  <thead>\n    <tr style=\"text-align: right;\">\n      <th></th>\n      <th>SupplierID</th>\n      <th>SupplierName</th>\n      <th>ProductID</th>\n      <th>SupplierAddress</th>\n      <th>CarMaker</th>\n      <th>CarModel</th>\n      <th>CarColor</th>\n      <th>CarModelYear</th>\n      <th>CarPrice</th>\n      <th>CustomerID</th>\n      <th>CustomerName</th>\n      <th>Gender</th>\n      <th>Sales</th>\n      <th>Quantity</th>\n    </tr>\n  </thead>\n  <tbody>\n    <tr>\n      <th>0</th>\n      <td>1</td>\n      <td>Bubbletube</td>\n      <td>8893</td>\n      <td>542 Dayton Center</td>\n      <td>Dodge</td>\n      <td>Ram 2500</td>\n      <td>Goldenrod</td>\n      <td>2007</td>\n      <td>521963.45</td>\n      <td>60760-224</td>\n      <td>Louie Hinsche</td>\n      <td>Male</td>\n      <td>744796.41</td>\n      <td>1</td>\n    </tr>\n  </tbody>\n</table>\n</div>"
          },
          "metadata": {}
        }
      ],
      "execution_count": 102
    },
    {
      "cell_type": "code",
      "source": "df.iloc[5]         #sixth row          #i+1th row",
      "metadata": {
        "trusted": true
      },
      "outputs": [
        {
          "execution_count": 103,
          "output_type": "execute_result",
          "data": {
            "text/plain": "SupplierID                           6\nSupplierName                    Rhynyx\nProductID                         8877\nSupplierAddress    46347 Dunning Drive\nCarMaker                        Toyota\nCarModel                  Land Cruiser\nCarColor                       Crimson\nCarModelYear                      2005\nCarPrice                     694373.94\nCustomerID                  65811-0001\nCustomerName               Wiatt Piche\nGender                            Male\nSales                         947785.4\nQuantity                             2\nName: 5, dtype: object"
          },
          "metadata": {}
        }
      ],
      "execution_count": 103
    },
    {
      "cell_type": "code",
      "source": "df.iloc[-1]          #last row",
      "metadata": {
        "trusted": true
      },
      "outputs": [
        {
          "execution_count": 104,
          "output_type": "execute_result",
          "data": {
            "text/plain": "SupplierID                       299\nSupplierName                  JumpXS\nProductID                       8765\nSupplierAddress      627 Havey Drive\nCarMaker                  Volkswagen\nCarModel                      Passat\nCarColor                        Mauv\nCarModelYear                    2012\nCarPrice                    714281.6\nCustomerID                55154-1855\nCustomerName       Elladine Rivaland\nGender                        Female\nSales                      908766.53\nQuantity                           2\nName: 298, dtype: object"
          },
          "metadata": {}
        }
      ],
      "execution_count": 104
    },
    {
      "cell_type": "code",
      "source": "df.iloc[-2]         #second last row",
      "metadata": {
        "trusted": true
      },
      "outputs": [
        {
          "execution_count": 105,
          "output_type": "execute_result",
          "data": {
            "text/plain": "SupplierID                        298\nSupplierName                   Demizz\nProductID                        8052\nSupplierAddress    0347 Morrow Avenue\nCarMaker                Mercedes-Benz\nCarModel                      E-Class\nCarColor                        Khaki\nCarModelYear                     2007\nCarPrice                    725040.78\nCustomerID                  43269-612\nCustomerName           Dorena Coatham\nGender                         Female\nSales                       735854.69\nQuantity                            1\nName: 297, dtype: object"
          },
          "metadata": {}
        }
      ],
      "execution_count": 105
    },
    {
      "cell_type": "code",
      "source": "df.iloc[:,0]               #first column only",
      "metadata": {
        "trusted": true
      },
      "outputs": [
        {
          "execution_count": 106,
          "output_type": "execute_result",
          "data": {
            "text/plain": "0        1\n1        2\n2        3\n3        4\n4        5\n      ... \n294    295\n295    296\n296    297\n297    298\n298    299\nName: SupplierID, Length: 299, dtype: int64"
          },
          "metadata": {}
        }
      ],
      "execution_count": 106
    },
    {
      "cell_type": "code",
      "source": "df.iloc[:0,0]",
      "metadata": {
        "trusted": true
      },
      "outputs": [
        {
          "execution_count": 109,
          "output_type": "execute_result",
          "data": {
            "text/plain": "Series([], Name: SupplierID, dtype: int64)"
          },
          "metadata": {}
        }
      ],
      "execution_count": 109
    },
    {
      "cell_type": "code",
      "source": "df.iloc[:1,0]",
      "metadata": {
        "trusted": true
      },
      "outputs": [
        {
          "execution_count": 110,
          "output_type": "execute_result",
          "data": {
            "text/plain": "0    1\nName: SupplierID, dtype: int64"
          },
          "metadata": {}
        }
      ],
      "execution_count": 110
    },
    {
      "cell_type": "code",
      "source": "df.iloc[:2,2:7]",
      "metadata": {
        "trusted": true
      },
      "outputs": [
        {
          "execution_count": 112,
          "output_type": "execute_result",
          "data": {
            "text/plain": "   ProductID         SupplierAddress CarMaker  CarModel   CarColor\n0       8893       542 Dayton Center    Dodge  Ram 2500  Goldenrod\n1       9444  0674 Springview Circle   Toyota    Tundra    Crimson",
            "text/html": "<div>\n<style scoped>\n    .dataframe tbody tr th:only-of-type {\n        vertical-align: middle;\n    }\n\n    .dataframe tbody tr th {\n        vertical-align: top;\n    }\n\n    .dataframe thead th {\n        text-align: right;\n    }\n</style>\n<table border=\"1\" class=\"dataframe\">\n  <thead>\n    <tr style=\"text-align: right;\">\n      <th></th>\n      <th>ProductID</th>\n      <th>SupplierAddress</th>\n      <th>CarMaker</th>\n      <th>CarModel</th>\n      <th>CarColor</th>\n    </tr>\n  </thead>\n  <tbody>\n    <tr>\n      <th>0</th>\n      <td>8893</td>\n      <td>542 Dayton Center</td>\n      <td>Dodge</td>\n      <td>Ram 2500</td>\n      <td>Goldenrod</td>\n    </tr>\n    <tr>\n      <th>1</th>\n      <td>9444</td>\n      <td>0674 Springview Circle</td>\n      <td>Toyota</td>\n      <td>Tundra</td>\n      <td>Crimson</td>\n    </tr>\n  </tbody>\n</table>\n</div>"
          },
          "metadata": {}
        }
      ],
      "execution_count": 112
    },
    {
      "cell_type": "code",
      "source": "df.iloc[-1:0,5]",
      "metadata": {
        "trusted": true
      },
      "outputs": [
        {
          "execution_count": 113,
          "output_type": "execute_result",
          "data": {
            "text/plain": "Series([], Name: CarModel, dtype: object)"
          },
          "metadata": {}
        }
      ],
      "execution_count": 113
    },
    {
      "cell_type": "code",
      "source": "df.iloc[-1:0,0:1]",
      "metadata": {
        "trusted": true
      },
      "outputs": [
        {
          "execution_count": 4,
          "output_type": "execute_result",
          "data": {
            "text/plain": "Empty DataFrame\nColumns: [SupplierID]\nIndex: []",
            "text/html": "<div>\n<style scoped>\n    .dataframe tbody tr th:only-of-type {\n        vertical-align: middle;\n    }\n\n    .dataframe tbody tr th {\n        vertical-align: top;\n    }\n\n    .dataframe thead th {\n        text-align: right;\n    }\n</style>\n<table border=\"1\" class=\"dataframe\">\n  <thead>\n    <tr style=\"text-align: right;\">\n      <th></th>\n      <th>SupplierID</th>\n    </tr>\n  </thead>\n  <tbody>\n  </tbody>\n</table>\n</div>"
          },
          "metadata": {}
        }
      ],
      "execution_count": 4
    },
    {
      "cell_type": "code",
      "source": "df.iloc[-1:0,0:2]",
      "metadata": {
        "trusted": true
      },
      "outputs": [
        {
          "execution_count": 5,
          "output_type": "execute_result",
          "data": {
            "text/plain": "Empty DataFrame\nColumns: [SupplierID, SupplierName]\nIndex: []",
            "text/html": "<div>\n<style scoped>\n    .dataframe tbody tr th:only-of-type {\n        vertical-align: middle;\n    }\n\n    .dataframe tbody tr th {\n        vertical-align: top;\n    }\n\n    .dataframe thead th {\n        text-align: right;\n    }\n</style>\n<table border=\"1\" class=\"dataframe\">\n  <thead>\n    <tr style=\"text-align: right;\">\n      <th></th>\n      <th>SupplierID</th>\n      <th>SupplierName</th>\n    </tr>\n  </thead>\n  <tbody>\n  </tbody>\n</table>\n</div>"
          },
          "metadata": {}
        }
      ],
      "execution_count": 5
    },
    {
      "cell_type": "code",
      "source": "df.iloc[:,-1]           #all the rows last column",
      "metadata": {
        "trusted": true
      },
      "outputs": [
        {
          "execution_count": 117,
          "output_type": "execute_result",
          "data": {
            "text/plain": "0      1\n1      1\n2      1\n3      2\n4      1\n      ..\n294    2\n295    1\n296    1\n297    1\n298    2\nName: Quantity, Length: 299, dtype: int64"
          },
          "metadata": {}
        }
      ],
      "execution_count": 117
    },
    {
      "cell_type": "code",
      "source": "df.iloc[:,-1:-2]",
      "metadata": {
        "trusted": true
      },
      "outputs": [
        {
          "execution_count": 118,
          "output_type": "execute_result",
          "data": {
            "text/plain": "Empty DataFrame\nColumns: []\nIndex: [0, 1, 2, 3, 4, 5, 6, 7, 8, 9, 10, 11, 12, 13, 14, 15, 16, 17, 18, 19, 20, 21, 22, 23, 24, 25, 26, 27, 28, 29, 30, 31, 32, 33, 34, 35, 36, 37, 38, 39, 40, 41, 42, 43, 44, 45, 46, 47, 48, 49, 50, 51, 52, 53, 54, 55, 56, 57, 58, 59, 60, 61, 62, 63, 64, 65, 66, 67, 68, 69, 70, 71, 72, 73, 74, 75, 76, 77, 78, 79, 80, 81, 82, 83, 84, 85, 86, 87, 88, 89, 90, 91, 92, 93, 94, 95, 96, 97, 98, 99, ...]\n\n[299 rows x 0 columns]",
            "text/html": "<div>\n<style scoped>\n    .dataframe tbody tr th:only-of-type {\n        vertical-align: middle;\n    }\n\n    .dataframe tbody tr th {\n        vertical-align: top;\n    }\n\n    .dataframe thead th {\n        text-align: right;\n    }\n</style>\n<table border=\"1\" class=\"dataframe\">\n  <thead>\n    <tr style=\"text-align: right;\">\n      <th></th>\n    </tr>\n  </thead>\n  <tbody>\n    <tr>\n      <th>0</th>\n    </tr>\n    <tr>\n      <th>1</th>\n    </tr>\n    <tr>\n      <th>2</th>\n    </tr>\n    <tr>\n      <th>3</th>\n    </tr>\n    <tr>\n      <th>4</th>\n    </tr>\n    <tr>\n      <th>...</th>\n    </tr>\n    <tr>\n      <th>294</th>\n    </tr>\n    <tr>\n      <th>295</th>\n    </tr>\n    <tr>\n      <th>296</th>\n    </tr>\n    <tr>\n      <th>297</th>\n    </tr>\n    <tr>\n      <th>298</th>\n    </tr>\n  </tbody>\n</table>\n<p>299 rows × 0 columns</p>\n</div>"
          },
          "metadata": {}
        }
      ],
      "execution_count": 118
    },
    {
      "cell_type": "code",
      "source": "df.iloc[:,-2:-1]",
      "metadata": {
        "trusted": true
      },
      "outputs": [
        {
          "execution_count": 119,
          "output_type": "execute_result",
          "data": {
            "text/plain": "         Sales\n0    744796.41\n1    794773.17\n2    968244.90\n3    942213.82\n4    879519.57\n..         ...\n294  981485.26\n295  941955.73\n296  730755.76\n297  735854.69\n298  908766.53\n\n[299 rows x 1 columns]",
            "text/html": "<div>\n<style scoped>\n    .dataframe tbody tr th:only-of-type {\n        vertical-align: middle;\n    }\n\n    .dataframe tbody tr th {\n        vertical-align: top;\n    }\n\n    .dataframe thead th {\n        text-align: right;\n    }\n</style>\n<table border=\"1\" class=\"dataframe\">\n  <thead>\n    <tr style=\"text-align: right;\">\n      <th></th>\n      <th>Sales</th>\n    </tr>\n  </thead>\n  <tbody>\n    <tr>\n      <th>0</th>\n      <td>744796.41</td>\n    </tr>\n    <tr>\n      <th>1</th>\n      <td>794773.17</td>\n    </tr>\n    <tr>\n      <th>2</th>\n      <td>968244.90</td>\n    </tr>\n    <tr>\n      <th>3</th>\n      <td>942213.82</td>\n    </tr>\n    <tr>\n      <th>4</th>\n      <td>879519.57</td>\n    </tr>\n    <tr>\n      <th>...</th>\n      <td>...</td>\n    </tr>\n    <tr>\n      <th>294</th>\n      <td>981485.26</td>\n    </tr>\n    <tr>\n      <th>295</th>\n      <td>941955.73</td>\n    </tr>\n    <tr>\n      <th>296</th>\n      <td>730755.76</td>\n    </tr>\n    <tr>\n      <th>297</th>\n      <td>735854.69</td>\n    </tr>\n    <tr>\n      <th>298</th>\n      <td>908766.53</td>\n    </tr>\n  </tbody>\n</table>\n<p>299 rows × 1 columns</p>\n</div>"
          },
          "metadata": {}
        }
      ],
      "execution_count": 119
    },
    {
      "cell_type": "code",
      "source": "df.iloc[0:1,-1:0]",
      "metadata": {
        "trusted": true
      },
      "outputs": [
        {
          "execution_count": 121,
          "output_type": "execute_result",
          "data": {
            "text/plain": "Empty DataFrame\nColumns: []\nIndex: [0]",
            "text/html": "<div>\n<style scoped>\n    .dataframe tbody tr th:only-of-type {\n        vertical-align: middle;\n    }\n\n    .dataframe tbody tr th {\n        vertical-align: top;\n    }\n\n    .dataframe thead th {\n        text-align: right;\n    }\n</style>\n<table border=\"1\" class=\"dataframe\">\n  <thead>\n    <tr style=\"text-align: right;\">\n      <th></th>\n    </tr>\n  </thead>\n  <tbody>\n    <tr>\n      <th>0</th>\n    </tr>\n  </tbody>\n</table>\n</div>"
          },
          "metadata": {}
        }
      ],
      "execution_count": 121
    },
    {
      "cell_type": "code",
      "source": "df.iloc[0:1,0:-1]",
      "metadata": {
        "trusted": true
      },
      "outputs": [
        {
          "execution_count": 122,
          "output_type": "execute_result",
          "data": {
            "text/plain": "   SupplierID SupplierName  ProductID    SupplierAddress CarMaker  CarModel  \\\n0           1   Bubbletube       8893  542 Dayton Center    Dodge  Ram 2500   \n\n    CarColor  CarModelYear   CarPrice CustomerID   CustomerName Gender  \\\n0  Goldenrod          2007  521963.45  60760-224  Louie Hinsche   Male   \n\n       Sales  \n0  744796.41  ",
            "text/html": "<div>\n<style scoped>\n    .dataframe tbody tr th:only-of-type {\n        vertical-align: middle;\n    }\n\n    .dataframe tbody tr th {\n        vertical-align: top;\n    }\n\n    .dataframe thead th {\n        text-align: right;\n    }\n</style>\n<table border=\"1\" class=\"dataframe\">\n  <thead>\n    <tr style=\"text-align: right;\">\n      <th></th>\n      <th>SupplierID</th>\n      <th>SupplierName</th>\n      <th>ProductID</th>\n      <th>SupplierAddress</th>\n      <th>CarMaker</th>\n      <th>CarModel</th>\n      <th>CarColor</th>\n      <th>CarModelYear</th>\n      <th>CarPrice</th>\n      <th>CustomerID</th>\n      <th>CustomerName</th>\n      <th>Gender</th>\n      <th>Sales</th>\n    </tr>\n  </thead>\n  <tbody>\n    <tr>\n      <th>0</th>\n      <td>1</td>\n      <td>Bubbletube</td>\n      <td>8893</td>\n      <td>542 Dayton Center</td>\n      <td>Dodge</td>\n      <td>Ram 2500</td>\n      <td>Goldenrod</td>\n      <td>2007</td>\n      <td>521963.45</td>\n      <td>60760-224</td>\n      <td>Louie Hinsche</td>\n      <td>Male</td>\n      <td>744796.41</td>\n    </tr>\n  </tbody>\n</table>\n</div>"
          },
          "metadata": {}
        }
      ],
      "execution_count": 122
    },
    {
      "cell_type": "code",
      "source": "df.iloc[1:4,2:5]",
      "metadata": {
        "trusted": true
      },
      "outputs": [
        {
          "execution_count": 125,
          "output_type": "execute_result",
          "data": {
            "text/plain": "   ProductID         SupplierAddress    CarMaker\n1       9444  0674 Springview Circle      Toyota\n2        253   70 Autumn Leaf Center         GMC\n3       1283         649 Corben Lane  Volkswagen",
            "text/html": "<div>\n<style scoped>\n    .dataframe tbody tr th:only-of-type {\n        vertical-align: middle;\n    }\n\n    .dataframe tbody tr th {\n        vertical-align: top;\n    }\n\n    .dataframe thead th {\n        text-align: right;\n    }\n</style>\n<table border=\"1\" class=\"dataframe\">\n  <thead>\n    <tr style=\"text-align: right;\">\n      <th></th>\n      <th>ProductID</th>\n      <th>SupplierAddress</th>\n      <th>CarMaker</th>\n    </tr>\n  </thead>\n  <tbody>\n    <tr>\n      <th>1</th>\n      <td>9444</td>\n      <td>0674 Springview Circle</td>\n      <td>Toyota</td>\n    </tr>\n    <tr>\n      <th>2</th>\n      <td>253</td>\n      <td>70 Autumn Leaf Center</td>\n      <td>GMC</td>\n    </tr>\n    <tr>\n      <th>3</th>\n      <td>1283</td>\n      <td>649 Corben Lane</td>\n      <td>Volkswagen</td>\n    </tr>\n  </tbody>\n</table>\n</div>"
          },
          "metadata": {}
        }
      ],
      "execution_count": 125
    },
    {
      "cell_type": "code",
      "source": "df.iloc[0:4,2:5]",
      "metadata": {
        "trusted": true
      },
      "outputs": [
        {
          "execution_count": 126,
          "output_type": "execute_result",
          "data": {
            "text/plain": "   ProductID         SupplierAddress    CarMaker\n0       8893       542 Dayton Center       Dodge\n1       9444  0674 Springview Circle      Toyota\n2        253   70 Autumn Leaf Center         GMC\n3       1283         649 Corben Lane  Volkswagen",
            "text/html": "<div>\n<style scoped>\n    .dataframe tbody tr th:only-of-type {\n        vertical-align: middle;\n    }\n\n    .dataframe tbody tr th {\n        vertical-align: top;\n    }\n\n    .dataframe thead th {\n        text-align: right;\n    }\n</style>\n<table border=\"1\" class=\"dataframe\">\n  <thead>\n    <tr style=\"text-align: right;\">\n      <th></th>\n      <th>ProductID</th>\n      <th>SupplierAddress</th>\n      <th>CarMaker</th>\n    </tr>\n  </thead>\n  <tbody>\n    <tr>\n      <th>0</th>\n      <td>8893</td>\n      <td>542 Dayton Center</td>\n      <td>Dodge</td>\n    </tr>\n    <tr>\n      <th>1</th>\n      <td>9444</td>\n      <td>0674 Springview Circle</td>\n      <td>Toyota</td>\n    </tr>\n    <tr>\n      <th>2</th>\n      <td>253</td>\n      <td>70 Autumn Leaf Center</td>\n      <td>GMC</td>\n    </tr>\n    <tr>\n      <th>3</th>\n      <td>1283</td>\n      <td>649 Corben Lane</td>\n      <td>Volkswagen</td>\n    </tr>\n  </tbody>\n</table>\n</div>"
          },
          "metadata": {}
        }
      ],
      "execution_count": 126
    },
    {
      "cell_type": "code",
      "source": "df.iloc[[1,2],[1,2]]",
      "metadata": {
        "trusted": true
      },
      "outputs": [
        {
          "execution_count": 127,
          "output_type": "execute_result",
          "data": {
            "text/plain": "  SupplierName  ProductID\n1      Tagopia       9444\n2      Zoomdog        253",
            "text/html": "<div>\n<style scoped>\n    .dataframe tbody tr th:only-of-type {\n        vertical-align: middle;\n    }\n\n    .dataframe tbody tr th {\n        vertical-align: top;\n    }\n\n    .dataframe thead th {\n        text-align: right;\n    }\n</style>\n<table border=\"1\" class=\"dataframe\">\n  <thead>\n    <tr style=\"text-align: right;\">\n      <th></th>\n      <th>SupplierName</th>\n      <th>ProductID</th>\n    </tr>\n  </thead>\n  <tbody>\n    <tr>\n      <th>1</th>\n      <td>Tagopia</td>\n      <td>9444</td>\n    </tr>\n    <tr>\n      <th>2</th>\n      <td>Zoomdog</td>\n      <td>253</td>\n    </tr>\n  </tbody>\n</table>\n</div>"
          },
          "metadata": {}
        }
      ],
      "execution_count": 127
    },
    {
      "cell_type": "code",
      "source": "df.iloc[[2,5],0:5]",
      "metadata": {
        "trusted": true
      },
      "outputs": [
        {
          "execution_count": 128,
          "output_type": "execute_result",
          "data": {
            "text/plain": "   SupplierID SupplierName  ProductID        SupplierAddress CarMaker\n2           3      Zoomdog        253  70 Autumn Leaf Center      GMC\n5           6       Rhynyx       8877    46347 Dunning Drive   Toyota",
            "text/html": "<div>\n<style scoped>\n    .dataframe tbody tr th:only-of-type {\n        vertical-align: middle;\n    }\n\n    .dataframe tbody tr th {\n        vertical-align: top;\n    }\n\n    .dataframe thead th {\n        text-align: right;\n    }\n</style>\n<table border=\"1\" class=\"dataframe\">\n  <thead>\n    <tr style=\"text-align: right;\">\n      <th></th>\n      <th>SupplierID</th>\n      <th>SupplierName</th>\n      <th>ProductID</th>\n      <th>SupplierAddress</th>\n      <th>CarMaker</th>\n    </tr>\n  </thead>\n  <tbody>\n    <tr>\n      <th>2</th>\n      <td>3</td>\n      <td>Zoomdog</td>\n      <td>253</td>\n      <td>70 Autumn Leaf Center</td>\n      <td>GMC</td>\n    </tr>\n    <tr>\n      <th>5</th>\n      <td>6</td>\n      <td>Rhynyx</td>\n      <td>8877</td>\n      <td>46347 Dunning Drive</td>\n      <td>Toyota</td>\n    </tr>\n  </tbody>\n</table>\n</div>"
          },
          "metadata": {}
        }
      ],
      "execution_count": 128
    },
    {
      "cell_type": "code",
      "source": "df.iloc[0:5,[2,3]]",
      "metadata": {
        "trusted": true
      },
      "outputs": [
        {
          "execution_count": 129,
          "output_type": "execute_result",
          "data": {
            "text/plain": "   ProductID         SupplierAddress\n0       8893       542 Dayton Center\n1       9444  0674 Springview Circle\n2        253   70 Autumn Leaf Center\n3       1283         649 Corben Lane\n4       8905      94 Namekagon Point",
            "text/html": "<div>\n<style scoped>\n    .dataframe tbody tr th:only-of-type {\n        vertical-align: middle;\n    }\n\n    .dataframe tbody tr th {\n        vertical-align: top;\n    }\n\n    .dataframe thead th {\n        text-align: right;\n    }\n</style>\n<table border=\"1\" class=\"dataframe\">\n  <thead>\n    <tr style=\"text-align: right;\">\n      <th></th>\n      <th>ProductID</th>\n      <th>SupplierAddress</th>\n    </tr>\n  </thead>\n  <tbody>\n    <tr>\n      <th>0</th>\n      <td>8893</td>\n      <td>542 Dayton Center</td>\n    </tr>\n    <tr>\n      <th>1</th>\n      <td>9444</td>\n      <td>0674 Springview Circle</td>\n    </tr>\n    <tr>\n      <th>2</th>\n      <td>253</td>\n      <td>70 Autumn Leaf Center</td>\n    </tr>\n    <tr>\n      <th>3</th>\n      <td>1283</td>\n      <td>649 Corben Lane</td>\n    </tr>\n    <tr>\n      <th>4</th>\n      <td>8905</td>\n      <td>94 Namekagon Point</td>\n    </tr>\n  </tbody>\n</table>\n</div>"
          },
          "metadata": {}
        }
      ],
      "execution_count": 129
    },
    {
      "cell_type": "code",
      "source": "df.loc[[2,3],['CarModel']]",
      "metadata": {
        "trusted": true
      },
      "outputs": [
        {
          "execution_count": 130,
          "output_type": "execute_result",
          "data": {
            "text/plain": "      CarModel\n2  Savana 1500\n3    Cabriolet",
            "text/html": "<div>\n<style scoped>\n    .dataframe tbody tr th:only-of-type {\n        vertical-align: middle;\n    }\n\n    .dataframe tbody tr th {\n        vertical-align: top;\n    }\n\n    .dataframe thead th {\n        text-align: right;\n    }\n</style>\n<table border=\"1\" class=\"dataframe\">\n  <thead>\n    <tr style=\"text-align: right;\">\n      <th></th>\n      <th>CarModel</th>\n    </tr>\n  </thead>\n  <tbody>\n    <tr>\n      <th>2</th>\n      <td>Savana 1500</td>\n    </tr>\n    <tr>\n      <th>3</th>\n      <td>Cabriolet</td>\n    </tr>\n  </tbody>\n</table>\n</div>"
          },
          "metadata": {}
        }
      ],
      "execution_count": 130
    },
    {
      "cell_type": "code",
      "source": "df.loc[0:5,['Sales']]",
      "metadata": {
        "trusted": true
      },
      "outputs": [
        {
          "execution_count": 134,
          "output_type": "execute_result",
          "data": {
            "text/plain": "       Sales\n0  744796.41\n1  794773.17\n2  968244.90\n3  942213.82\n4  879519.57\n5  947785.40",
            "text/html": "<div>\n<style scoped>\n    .dataframe tbody tr th:only-of-type {\n        vertical-align: middle;\n    }\n\n    .dataframe tbody tr th {\n        vertical-align: top;\n    }\n\n    .dataframe thead th {\n        text-align: right;\n    }\n</style>\n<table border=\"1\" class=\"dataframe\">\n  <thead>\n    <tr style=\"text-align: right;\">\n      <th></th>\n      <th>Sales</th>\n    </tr>\n  </thead>\n  <tbody>\n    <tr>\n      <th>0</th>\n      <td>744796.41</td>\n    </tr>\n    <tr>\n      <th>1</th>\n      <td>794773.17</td>\n    </tr>\n    <tr>\n      <th>2</th>\n      <td>968244.90</td>\n    </tr>\n    <tr>\n      <th>3</th>\n      <td>942213.82</td>\n    </tr>\n    <tr>\n      <th>4</th>\n      <td>879519.57</td>\n    </tr>\n    <tr>\n      <th>5</th>\n      <td>947785.40</td>\n    </tr>\n  </tbody>\n</table>\n</div>"
          },
          "metadata": {}
        }
      ],
      "execution_count": 134
    },
    {
      "cell_type": "code",
      "source": "#sorting \n\ndf1 = df.sort_values(by = 'Sales')\ndf1.head()",
      "metadata": {
        "trusted": true
      },
      "outputs": [
        {
          "execution_count": 135,
          "output_type": "execute_result",
          "data": {
            "text/plain": "     SupplierID   SupplierName  ProductID         SupplierAddress    CarMaker  \\\n177         178       Kanoodle       5599  666 Riverside Crossing  Oldsmobile   \n104         105  Chatterbridge       4571        79 Tennyson Road    Cadillac   \n227         228          Yodoo       4349   6684 Pierstorff Trail         Geo   \n292         293        Jaxbean       5719       34 Fieldstone Way         GMC   \n13           14        Gabvine       8898       55262 Emmet Place       Dodge   \n\n            CarModel    CarColor  CarModelYear   CarPrice  CustomerID  \\\n177          Regency        Puce          1997  512516.00   49349-272   \n104         Escalade         Red          2007  514525.98  11584-1060   \n227          Tracker  Aquamarine          1992  793703.68   0591-3602   \n292  3500 Club Coupe        Puce          1996  747040.10  48951-6040   \n13           Avenger   Turquoise          2008  646591.02   54799-504   \n\n            CustomerName  Gender      Sales  Quantity  \n177       Willard France    Male  700321.49         2  \n104        Gerek Timmins    Male  700375.26         2  \n227         Vanny Culham  Female  701839.30         1  \n292   Cristabel Killshaw  Female  701880.61         2  \n13   Demetria Hazelgrove  Female  703359.96         1  ",
            "text/html": "<div>\n<style scoped>\n    .dataframe tbody tr th:only-of-type {\n        vertical-align: middle;\n    }\n\n    .dataframe tbody tr th {\n        vertical-align: top;\n    }\n\n    .dataframe thead th {\n        text-align: right;\n    }\n</style>\n<table border=\"1\" class=\"dataframe\">\n  <thead>\n    <tr style=\"text-align: right;\">\n      <th></th>\n      <th>SupplierID</th>\n      <th>SupplierName</th>\n      <th>ProductID</th>\n      <th>SupplierAddress</th>\n      <th>CarMaker</th>\n      <th>CarModel</th>\n      <th>CarColor</th>\n      <th>CarModelYear</th>\n      <th>CarPrice</th>\n      <th>CustomerID</th>\n      <th>CustomerName</th>\n      <th>Gender</th>\n      <th>Sales</th>\n      <th>Quantity</th>\n    </tr>\n  </thead>\n  <tbody>\n    <tr>\n      <th>177</th>\n      <td>178</td>\n      <td>Kanoodle</td>\n      <td>5599</td>\n      <td>666 Riverside Crossing</td>\n      <td>Oldsmobile</td>\n      <td>Regency</td>\n      <td>Puce</td>\n      <td>1997</td>\n      <td>512516.00</td>\n      <td>49349-272</td>\n      <td>Willard France</td>\n      <td>Male</td>\n      <td>700321.49</td>\n      <td>2</td>\n    </tr>\n    <tr>\n      <th>104</th>\n      <td>105</td>\n      <td>Chatterbridge</td>\n      <td>4571</td>\n      <td>79 Tennyson Road</td>\n      <td>Cadillac</td>\n      <td>Escalade</td>\n      <td>Red</td>\n      <td>2007</td>\n      <td>514525.98</td>\n      <td>11584-1060</td>\n      <td>Gerek Timmins</td>\n      <td>Male</td>\n      <td>700375.26</td>\n      <td>2</td>\n    </tr>\n    <tr>\n      <th>227</th>\n      <td>228</td>\n      <td>Yodoo</td>\n      <td>4349</td>\n      <td>6684 Pierstorff Trail</td>\n      <td>Geo</td>\n      <td>Tracker</td>\n      <td>Aquamarine</td>\n      <td>1992</td>\n      <td>793703.68</td>\n      <td>0591-3602</td>\n      <td>Vanny Culham</td>\n      <td>Female</td>\n      <td>701839.30</td>\n      <td>1</td>\n    </tr>\n    <tr>\n      <th>292</th>\n      <td>293</td>\n      <td>Jaxbean</td>\n      <td>5719</td>\n      <td>34 Fieldstone Way</td>\n      <td>GMC</td>\n      <td>3500 Club Coupe</td>\n      <td>Puce</td>\n      <td>1996</td>\n      <td>747040.10</td>\n      <td>48951-6040</td>\n      <td>Cristabel Killshaw</td>\n      <td>Female</td>\n      <td>701880.61</td>\n      <td>2</td>\n    </tr>\n    <tr>\n      <th>13</th>\n      <td>14</td>\n      <td>Gabvine</td>\n      <td>8898</td>\n      <td>55262 Emmet Place</td>\n      <td>Dodge</td>\n      <td>Avenger</td>\n      <td>Turquoise</td>\n      <td>2008</td>\n      <td>646591.02</td>\n      <td>54799-504</td>\n      <td>Demetria Hazelgrove</td>\n      <td>Female</td>\n      <td>703359.96</td>\n      <td>1</td>\n    </tr>\n  </tbody>\n</table>\n</div>"
          },
          "metadata": {}
        }
      ],
      "execution_count": 135
    },
    {
      "cell_type": "code",
      "source": "df1 = df.sort_values(['ProductID','CarColor'],ascending =[True,False])\ndf1.head()",
      "metadata": {
        "trusted": true
      },
      "outputs": [
        {
          "execution_count": 137,
          "output_type": "execute_result",
          "data": {
            "text/plain": "     SupplierID SupplierName  ProductID         SupplierAddress  CarMaker  \\\n276         277        Avamm         24  53549 Reindahl Terrace     Honda   \n234         235        Abatz         53      344 Marquette Park     Mazda   \n247         248        Eamia         54   76827 Old Gate Avenue  Infiniti   \n222         223     Skipfire        101         5 Hoffman Place    Toyota   \n6             7       Roombo        101      85 Coleman Parkway    Subaru   \n\n       CarModel CarColor  CarModelYear   CarPrice  CustomerID  \\\n276       Civic  Crimson          2003  641468.71  69152-0078   \n234         MPV     Puce          1992  750536.81  49215-0001   \n247         G37   Yellow          2011  753206.05   43269-780   \n222  Highlander   Yellow          2009  765726.97   49999-598   \n6       Impreza   Indigo          1999  546977.55   31722-328   \n\n        CustomerName  Gender      Sales  Quantity  \n276      Peria Bovis  Female  821835.59         1  \n234   Flory Martugin  Female  833339.07         2  \n247    Fidela Gepson  Female  915779.62         2  \n222   Richart Lebbon    Male  712970.25         1  \n6    Findlay Alberti    Male  883836.81         2  ",
            "text/html": "<div>\n<style scoped>\n    .dataframe tbody tr th:only-of-type {\n        vertical-align: middle;\n    }\n\n    .dataframe tbody tr th {\n        vertical-align: top;\n    }\n\n    .dataframe thead th {\n        text-align: right;\n    }\n</style>\n<table border=\"1\" class=\"dataframe\">\n  <thead>\n    <tr style=\"text-align: right;\">\n      <th></th>\n      <th>SupplierID</th>\n      <th>SupplierName</th>\n      <th>ProductID</th>\n      <th>SupplierAddress</th>\n      <th>CarMaker</th>\n      <th>CarModel</th>\n      <th>CarColor</th>\n      <th>CarModelYear</th>\n      <th>CarPrice</th>\n      <th>CustomerID</th>\n      <th>CustomerName</th>\n      <th>Gender</th>\n      <th>Sales</th>\n      <th>Quantity</th>\n    </tr>\n  </thead>\n  <tbody>\n    <tr>\n      <th>276</th>\n      <td>277</td>\n      <td>Avamm</td>\n      <td>24</td>\n      <td>53549 Reindahl Terrace</td>\n      <td>Honda</td>\n      <td>Civic</td>\n      <td>Crimson</td>\n      <td>2003</td>\n      <td>641468.71</td>\n      <td>69152-0078</td>\n      <td>Peria Bovis</td>\n      <td>Female</td>\n      <td>821835.59</td>\n      <td>1</td>\n    </tr>\n    <tr>\n      <th>234</th>\n      <td>235</td>\n      <td>Abatz</td>\n      <td>53</td>\n      <td>344 Marquette Park</td>\n      <td>Mazda</td>\n      <td>MPV</td>\n      <td>Puce</td>\n      <td>1992</td>\n      <td>750536.81</td>\n      <td>49215-0001</td>\n      <td>Flory Martugin</td>\n      <td>Female</td>\n      <td>833339.07</td>\n      <td>2</td>\n    </tr>\n    <tr>\n      <th>247</th>\n      <td>248</td>\n      <td>Eamia</td>\n      <td>54</td>\n      <td>76827 Old Gate Avenue</td>\n      <td>Infiniti</td>\n      <td>G37</td>\n      <td>Yellow</td>\n      <td>2011</td>\n      <td>753206.05</td>\n      <td>43269-780</td>\n      <td>Fidela Gepson</td>\n      <td>Female</td>\n      <td>915779.62</td>\n      <td>2</td>\n    </tr>\n    <tr>\n      <th>222</th>\n      <td>223</td>\n      <td>Skipfire</td>\n      <td>101</td>\n      <td>5 Hoffman Place</td>\n      <td>Toyota</td>\n      <td>Highlander</td>\n      <td>Yellow</td>\n      <td>2009</td>\n      <td>765726.97</td>\n      <td>49999-598</td>\n      <td>Richart Lebbon</td>\n      <td>Male</td>\n      <td>712970.25</td>\n      <td>1</td>\n    </tr>\n    <tr>\n      <th>6</th>\n      <td>7</td>\n      <td>Roombo</td>\n      <td>101</td>\n      <td>85 Coleman Parkway</td>\n      <td>Subaru</td>\n      <td>Impreza</td>\n      <td>Indigo</td>\n      <td>1999</td>\n      <td>546977.55</td>\n      <td>31722-328</td>\n      <td>Findlay Alberti</td>\n      <td>Male</td>\n      <td>883836.81</td>\n      <td>2</td>\n    </tr>\n  </tbody>\n</table>\n</div>"
          },
          "metadata": {}
        }
      ],
      "execution_count": 137
    },
    {
      "cell_type": "code",
      "source": "df1 = df.sort_values(['CarModel'])\ndf1",
      "metadata": {
        "trusted": true
      },
      "outputs": [
        {
          "execution_count": 140,
          "output_type": "execute_result",
          "data": {
            "text/plain": "     SupplierID SupplierName  ProductID            SupplierAddress  CarMaker  \\\n203         204     Photobug       3029          00932 Upham Place      Saab   \n39           40        Quinu       9901        25003 Arizona Court      Audi   \n269         270        Mynte       9045        403 Bayside Parkway       GMC   \n207         208    Photobean       2491       51 Twin Pines Circle       GMC   \n169         170        Abata        522            026 Manley Lane       GMC   \n..          ...          ...        ...                        ...       ...   \n72           73         DabZ       2631  52 Lakewood Gardens Plaza  Cadillac   \n248         249       Avaveo       1739         4 Monterey Terrace    Subaru   \n133         134        Rooxo       6552         6414 Moulton Point       GMC   \n284         285         Lazz       1033           4 Graedel Street       GMC   \n161         162       Kayveo       5751       89 Brentwood Terrace       GMC   \n\n            CarModel   CarColor  CarModelYear   CarPrice  CustomerID  \\\n203           09-May     Yellow          2006  694876.95  59062-1227   \n39               100  Goldenrod          1992  518104.02   49938-102   \n269             1500     Yellow          1997  561693.79   59011-444   \n207             1500     Yellow          1996  621950.59   0121-4675   \n169  2500 Club Coupe       Puce          1993  715190.72   0699-7051   \n..               ...        ...           ...        ...         ...   \n72               XLR        Red          2008  545080.04   24987-562   \n248               XT       Teal          1985  686586.66   16590-244   \n133    Yukon XL 1500    Crimson          2010  698915.25  51141-5000   \n284    Yukon XL 1500       Pink          2002  643916.65   54340-779   \n161    Yukon XL 2500    Crimson          2003  589447.20   59262-259   \n\n           CustomerName  Gender      Sales  Quantity  \n203    Karalee Lackmann  Female  738823.53         1  \n39        Lishe Healeas  Female  891387.37         2  \n269      Jordan Heatlie    Male  924763.35         2  \n207   Jourdain Kingzeth    Male  714287.99         2  \n169    Francois Tankard    Male  929803.73         1  \n..                  ...     ...        ...       ...  \n72       Morie Mowsdell    Male  752558.40         1  \n248  Enriqueta Blissett  Female  847308.19         2  \n133        Sabine Maude  Female  759267.76         1  \n284      Madelon Ambroz  Female  951156.30         2  \n161     Josey Pargetter  Female  754756.67         1  \n\n[299 rows x 14 columns]",
            "text/html": "<div>\n<style scoped>\n    .dataframe tbody tr th:only-of-type {\n        vertical-align: middle;\n    }\n\n    .dataframe tbody tr th {\n        vertical-align: top;\n    }\n\n    .dataframe thead th {\n        text-align: right;\n    }\n</style>\n<table border=\"1\" class=\"dataframe\">\n  <thead>\n    <tr style=\"text-align: right;\">\n      <th></th>\n      <th>SupplierID</th>\n      <th>SupplierName</th>\n      <th>ProductID</th>\n      <th>SupplierAddress</th>\n      <th>CarMaker</th>\n      <th>CarModel</th>\n      <th>CarColor</th>\n      <th>CarModelYear</th>\n      <th>CarPrice</th>\n      <th>CustomerID</th>\n      <th>CustomerName</th>\n      <th>Gender</th>\n      <th>Sales</th>\n      <th>Quantity</th>\n    </tr>\n  </thead>\n  <tbody>\n    <tr>\n      <th>203</th>\n      <td>204</td>\n      <td>Photobug</td>\n      <td>3029</td>\n      <td>00932 Upham Place</td>\n      <td>Saab</td>\n      <td>09-May</td>\n      <td>Yellow</td>\n      <td>2006</td>\n      <td>694876.95</td>\n      <td>59062-1227</td>\n      <td>Karalee Lackmann</td>\n      <td>Female</td>\n      <td>738823.53</td>\n      <td>1</td>\n    </tr>\n    <tr>\n      <th>39</th>\n      <td>40</td>\n      <td>Quinu</td>\n      <td>9901</td>\n      <td>25003 Arizona Court</td>\n      <td>Audi</td>\n      <td>100</td>\n      <td>Goldenrod</td>\n      <td>1992</td>\n      <td>518104.02</td>\n      <td>49938-102</td>\n      <td>Lishe Healeas</td>\n      <td>Female</td>\n      <td>891387.37</td>\n      <td>2</td>\n    </tr>\n    <tr>\n      <th>269</th>\n      <td>270</td>\n      <td>Mynte</td>\n      <td>9045</td>\n      <td>403 Bayside Parkway</td>\n      <td>GMC</td>\n      <td>1500</td>\n      <td>Yellow</td>\n      <td>1997</td>\n      <td>561693.79</td>\n      <td>59011-444</td>\n      <td>Jordan Heatlie</td>\n      <td>Male</td>\n      <td>924763.35</td>\n      <td>2</td>\n    </tr>\n    <tr>\n      <th>207</th>\n      <td>208</td>\n      <td>Photobean</td>\n      <td>2491</td>\n      <td>51 Twin Pines Circle</td>\n      <td>GMC</td>\n      <td>1500</td>\n      <td>Yellow</td>\n      <td>1996</td>\n      <td>621950.59</td>\n      <td>0121-4675</td>\n      <td>Jourdain Kingzeth</td>\n      <td>Male</td>\n      <td>714287.99</td>\n      <td>2</td>\n    </tr>\n    <tr>\n      <th>169</th>\n      <td>170</td>\n      <td>Abata</td>\n      <td>522</td>\n      <td>026 Manley Lane</td>\n      <td>GMC</td>\n      <td>2500 Club Coupe</td>\n      <td>Puce</td>\n      <td>1993</td>\n      <td>715190.72</td>\n      <td>0699-7051</td>\n      <td>Francois Tankard</td>\n      <td>Male</td>\n      <td>929803.73</td>\n      <td>1</td>\n    </tr>\n    <tr>\n      <th>...</th>\n      <td>...</td>\n      <td>...</td>\n      <td>...</td>\n      <td>...</td>\n      <td>...</td>\n      <td>...</td>\n      <td>...</td>\n      <td>...</td>\n      <td>...</td>\n      <td>...</td>\n      <td>...</td>\n      <td>...</td>\n      <td>...</td>\n      <td>...</td>\n    </tr>\n    <tr>\n      <th>72</th>\n      <td>73</td>\n      <td>DabZ</td>\n      <td>2631</td>\n      <td>52 Lakewood Gardens Plaza</td>\n      <td>Cadillac</td>\n      <td>XLR</td>\n      <td>Red</td>\n      <td>2008</td>\n      <td>545080.04</td>\n      <td>24987-562</td>\n      <td>Morie Mowsdell</td>\n      <td>Male</td>\n      <td>752558.40</td>\n      <td>1</td>\n    </tr>\n    <tr>\n      <th>248</th>\n      <td>249</td>\n      <td>Avaveo</td>\n      <td>1739</td>\n      <td>4 Monterey Terrace</td>\n      <td>Subaru</td>\n      <td>XT</td>\n      <td>Teal</td>\n      <td>1985</td>\n      <td>686586.66</td>\n      <td>16590-244</td>\n      <td>Enriqueta Blissett</td>\n      <td>Female</td>\n      <td>847308.19</td>\n      <td>2</td>\n    </tr>\n    <tr>\n      <th>133</th>\n      <td>134</td>\n      <td>Rooxo</td>\n      <td>6552</td>\n      <td>6414 Moulton Point</td>\n      <td>GMC</td>\n      <td>Yukon XL 1500</td>\n      <td>Crimson</td>\n      <td>2010</td>\n      <td>698915.25</td>\n      <td>51141-5000</td>\n      <td>Sabine Maude</td>\n      <td>Female</td>\n      <td>759267.76</td>\n      <td>1</td>\n    </tr>\n    <tr>\n      <th>284</th>\n      <td>285</td>\n      <td>Lazz</td>\n      <td>1033</td>\n      <td>4 Graedel Street</td>\n      <td>GMC</td>\n      <td>Yukon XL 1500</td>\n      <td>Pink</td>\n      <td>2002</td>\n      <td>643916.65</td>\n      <td>54340-779</td>\n      <td>Madelon Ambroz</td>\n      <td>Female</td>\n      <td>951156.30</td>\n      <td>2</td>\n    </tr>\n    <tr>\n      <th>161</th>\n      <td>162</td>\n      <td>Kayveo</td>\n      <td>5751</td>\n      <td>89 Brentwood Terrace</td>\n      <td>GMC</td>\n      <td>Yukon XL 2500</td>\n      <td>Crimson</td>\n      <td>2003</td>\n      <td>589447.20</td>\n      <td>59262-259</td>\n      <td>Josey Pargetter</td>\n      <td>Female</td>\n      <td>754756.67</td>\n      <td>1</td>\n    </tr>\n  </tbody>\n</table>\n<p>299 rows × 14 columns</p>\n</div>"
          },
          "metadata": {}
        }
      ],
      "execution_count": 140
    },
    {
      "cell_type": "code",
      "source": "df1 = df.sort_values(['ProductID','CarColor'],ascending = [True,True])\ndf1",
      "metadata": {
        "trusted": true
      },
      "outputs": [
        {
          "execution_count": 142,
          "output_type": "execute_result",
          "data": {
            "text/plain": "     SupplierID SupplierName  ProductID           SupplierAddress    CarMaker  \\\n276         277        Avamm         24    53549 Reindahl Terrace       Honda   \n234         235        Abatz         53        344 Marquette Park       Mazda   \n247         248        Eamia         54     76827 Old Gate Avenue    Infiniti   \n6             7       Roombo        101        85 Coleman Parkway      Subaru   \n222         223     Skipfire        101           5 Hoffman Place      Toyota   \n..          ...          ...        ...                       ...         ...   \n41           42       Skyndu       9905  39 Brickson Park Parkway   Chevrolet   \n170         171      Feedbug       9927         6616 Warbler Hill       Isuzu   \n79           80        Eadel       9933       24 Loeprich Terrace       Buick   \n139         140        Ainyx       9955             5 Onsgard Way  Mitsubishi   \n187         188   Jabbercube       9959            0 Harbort Lane    Cadillac   \n\n          CarModel    CarColor  CarModelYear   CarPrice  CustomerID  \\\n276          Civic     Crimson          2003  641468.71  69152-0078   \n234            MPV        Puce          1992  750536.81  49215-0001   \n247            G37      Yellow          2011  753206.05   43269-780   \n6          Impreza      Indigo          1999  546977.55   31722-328   \n222     Highlander      Yellow          2009  765726.97   49999-598   \n..             ...         ...           ...        ...         ...   \n41   Suburban 2500  Aquamarine          2009  794485.02   11697-373   \n170   Hombre Space      Maroon          2000  688506.62  68788-9141   \n79           Regal      Purple          1989  667039.78   45963-538   \n139       Diamante   Turquoise          2000  797965.14   47682-903   \n187        Seville      Fuscia          2001  774642.61  55154-5676   \n\n           CustomerName  Gender      Sales  Quantity  \n276         Peria Bovis  Female  821835.59         1  \n234      Flory Martugin  Female  833339.07         2  \n247       Fidela Gepson  Female  915779.62         2  \n6       Findlay Alberti    Male  883836.81         2  \n222      Richart Lebbon    Male  712970.25         1  \n..                  ...     ...        ...       ...  \n41   Friedrich Roswarne    Male  722987.23         1  \n170         Aile Rodell  Female  896394.92         2  \n79           Ozzie Oade    Male  830149.53         2  \n139        Lane Boreham    Male  767372.51         2  \n187      Derick Blaasch    Male  946737.19         1  \n\n[299 rows x 14 columns]",
            "text/html": "<div>\n<style scoped>\n    .dataframe tbody tr th:only-of-type {\n        vertical-align: middle;\n    }\n\n    .dataframe tbody tr th {\n        vertical-align: top;\n    }\n\n    .dataframe thead th {\n        text-align: right;\n    }\n</style>\n<table border=\"1\" class=\"dataframe\">\n  <thead>\n    <tr style=\"text-align: right;\">\n      <th></th>\n      <th>SupplierID</th>\n      <th>SupplierName</th>\n      <th>ProductID</th>\n      <th>SupplierAddress</th>\n      <th>CarMaker</th>\n      <th>CarModel</th>\n      <th>CarColor</th>\n      <th>CarModelYear</th>\n      <th>CarPrice</th>\n      <th>CustomerID</th>\n      <th>CustomerName</th>\n      <th>Gender</th>\n      <th>Sales</th>\n      <th>Quantity</th>\n    </tr>\n  </thead>\n  <tbody>\n    <tr>\n      <th>276</th>\n      <td>277</td>\n      <td>Avamm</td>\n      <td>24</td>\n      <td>53549 Reindahl Terrace</td>\n      <td>Honda</td>\n      <td>Civic</td>\n      <td>Crimson</td>\n      <td>2003</td>\n      <td>641468.71</td>\n      <td>69152-0078</td>\n      <td>Peria Bovis</td>\n      <td>Female</td>\n      <td>821835.59</td>\n      <td>1</td>\n    </tr>\n    <tr>\n      <th>234</th>\n      <td>235</td>\n      <td>Abatz</td>\n      <td>53</td>\n      <td>344 Marquette Park</td>\n      <td>Mazda</td>\n      <td>MPV</td>\n      <td>Puce</td>\n      <td>1992</td>\n      <td>750536.81</td>\n      <td>49215-0001</td>\n      <td>Flory Martugin</td>\n      <td>Female</td>\n      <td>833339.07</td>\n      <td>2</td>\n    </tr>\n    <tr>\n      <th>247</th>\n      <td>248</td>\n      <td>Eamia</td>\n      <td>54</td>\n      <td>76827 Old Gate Avenue</td>\n      <td>Infiniti</td>\n      <td>G37</td>\n      <td>Yellow</td>\n      <td>2011</td>\n      <td>753206.05</td>\n      <td>43269-780</td>\n      <td>Fidela Gepson</td>\n      <td>Female</td>\n      <td>915779.62</td>\n      <td>2</td>\n    </tr>\n    <tr>\n      <th>6</th>\n      <td>7</td>\n      <td>Roombo</td>\n      <td>101</td>\n      <td>85 Coleman Parkway</td>\n      <td>Subaru</td>\n      <td>Impreza</td>\n      <td>Indigo</td>\n      <td>1999</td>\n      <td>546977.55</td>\n      <td>31722-328</td>\n      <td>Findlay Alberti</td>\n      <td>Male</td>\n      <td>883836.81</td>\n      <td>2</td>\n    </tr>\n    <tr>\n      <th>222</th>\n      <td>223</td>\n      <td>Skipfire</td>\n      <td>101</td>\n      <td>5 Hoffman Place</td>\n      <td>Toyota</td>\n      <td>Highlander</td>\n      <td>Yellow</td>\n      <td>2009</td>\n      <td>765726.97</td>\n      <td>49999-598</td>\n      <td>Richart Lebbon</td>\n      <td>Male</td>\n      <td>712970.25</td>\n      <td>1</td>\n    </tr>\n    <tr>\n      <th>...</th>\n      <td>...</td>\n      <td>...</td>\n      <td>...</td>\n      <td>...</td>\n      <td>...</td>\n      <td>...</td>\n      <td>...</td>\n      <td>...</td>\n      <td>...</td>\n      <td>...</td>\n      <td>...</td>\n      <td>...</td>\n      <td>...</td>\n      <td>...</td>\n    </tr>\n    <tr>\n      <th>41</th>\n      <td>42</td>\n      <td>Skyndu</td>\n      <td>9905</td>\n      <td>39 Brickson Park Parkway</td>\n      <td>Chevrolet</td>\n      <td>Suburban 2500</td>\n      <td>Aquamarine</td>\n      <td>2009</td>\n      <td>794485.02</td>\n      <td>11697-373</td>\n      <td>Friedrich Roswarne</td>\n      <td>Male</td>\n      <td>722987.23</td>\n      <td>1</td>\n    </tr>\n    <tr>\n      <th>170</th>\n      <td>171</td>\n      <td>Feedbug</td>\n      <td>9927</td>\n      <td>6616 Warbler Hill</td>\n      <td>Isuzu</td>\n      <td>Hombre Space</td>\n      <td>Maroon</td>\n      <td>2000</td>\n      <td>688506.62</td>\n      <td>68788-9141</td>\n      <td>Aile Rodell</td>\n      <td>Female</td>\n      <td>896394.92</td>\n      <td>2</td>\n    </tr>\n    <tr>\n      <th>79</th>\n      <td>80</td>\n      <td>Eadel</td>\n      <td>9933</td>\n      <td>24 Loeprich Terrace</td>\n      <td>Buick</td>\n      <td>Regal</td>\n      <td>Purple</td>\n      <td>1989</td>\n      <td>667039.78</td>\n      <td>45963-538</td>\n      <td>Ozzie Oade</td>\n      <td>Male</td>\n      <td>830149.53</td>\n      <td>2</td>\n    </tr>\n    <tr>\n      <th>139</th>\n      <td>140</td>\n      <td>Ainyx</td>\n      <td>9955</td>\n      <td>5 Onsgard Way</td>\n      <td>Mitsubishi</td>\n      <td>Diamante</td>\n      <td>Turquoise</td>\n      <td>2000</td>\n      <td>797965.14</td>\n      <td>47682-903</td>\n      <td>Lane Boreham</td>\n      <td>Male</td>\n      <td>767372.51</td>\n      <td>2</td>\n    </tr>\n    <tr>\n      <th>187</th>\n      <td>188</td>\n      <td>Jabbercube</td>\n      <td>9959</td>\n      <td>0 Harbort Lane</td>\n      <td>Cadillac</td>\n      <td>Seville</td>\n      <td>Fuscia</td>\n      <td>2001</td>\n      <td>774642.61</td>\n      <td>55154-5676</td>\n      <td>Derick Blaasch</td>\n      <td>Male</td>\n      <td>946737.19</td>\n      <td>1</td>\n    </tr>\n  </tbody>\n</table>\n<p>299 rows × 14 columns</p>\n</div>"
          },
          "metadata": {}
        }
      ],
      "execution_count": 142
    },
    {
      "cell_type": "code",
      "source": "df1 = df.sort_values(['CarColor','ProductID'],ascending = [True,True])       # the column first will be arranged in ascending order \ndf1",
      "metadata": {
        "trusted": true
      },
      "outputs": [
        {
          "execution_count": 144,
          "output_type": "execute_result",
          "data": {
            "text/plain": "     SupplierID SupplierName  ProductID      SupplierAddress       CarMaker  \\\n162         163         Layo        600   255 Hoepker Center     Mitsubishi   \n18           19      Buzzdog       2373         9 Lukken Way         Toyota   \n184         185   Babbleblab       3504     9 Alpine Terrace  Mercedes-Benz   \n43           44       Avavee       3792  0473 Sunbrook Point          Honda   \n256         257      Dynabox       3830  7114 Pierstorff Way        Pontiac   \n..          ...          ...        ...                  ...            ...   \n219         220     Skiptube       8554        30 West Court         Toyota   \n153         154        Fadeo       8739     745 Veith Circle          Buick   \n67           68    Gigashots       8854   0759 Swallow Drive         Nissan   \n266         267   Linkbridge       9001   440 Arizona Center         Toyota   \n269         270        Mynte       9045  403 Bayside Parkway            GMC   \n\n       CarModel    CarColor  CarModelYear   CarPrice  CustomerID  \\\n162    Endeavor  Aquamarine          2006  753865.45   11564-003   \n18      Corolla  Aquamarine          2004  563380.63   37000-352   \n184     E-Class  Aquamarine          2005  763055.59   36800-010   \n43       Accord  Aquamarine          2007  649862.04   62499-395   \n256  Grand Prix  Aquamarine          1992  760929.24  11822-0900   \n..          ...         ...           ...        ...         ...   \n219     Sequoia      Yellow          2006  774830.01   44717-536   \n153       Regal      Yellow          2002  524700.33   43353-754   \n67       Sentra      Yellow          2006  567121.20   0517-0033   \n266      Tundra      Yellow          2008  609769.87   49349-866   \n269        1500      Yellow          1997  561693.79   59011-444   \n\n            CustomerName  Gender      Sales  Quantity  \n162      Kendra Pearmine  Female  777555.76         1  \n18          Liuka Dundin  Female  758563.82         2  \n184      Lula MacIllrick  Female  931107.08         1  \n43       Barrett Eminson    Male  902974.39         1  \n256          Will Lumley    Male  948947.68         1  \n..                   ...     ...        ...       ...  \n219        Merrill Ryves    Male  818806.17         2  \n153   Geoffrey Ackermann    Male  961575.66         1  \n67   Ethelred Thorington    Male  849446.97         1  \n266            Van Ayree    Male  885462.32         1  \n269       Jordan Heatlie    Male  924763.35         2  \n\n[299 rows x 14 columns]",
            "text/html": "<div>\n<style scoped>\n    .dataframe tbody tr th:only-of-type {\n        vertical-align: middle;\n    }\n\n    .dataframe tbody tr th {\n        vertical-align: top;\n    }\n\n    .dataframe thead th {\n        text-align: right;\n    }\n</style>\n<table border=\"1\" class=\"dataframe\">\n  <thead>\n    <tr style=\"text-align: right;\">\n      <th></th>\n      <th>SupplierID</th>\n      <th>SupplierName</th>\n      <th>ProductID</th>\n      <th>SupplierAddress</th>\n      <th>CarMaker</th>\n      <th>CarModel</th>\n      <th>CarColor</th>\n      <th>CarModelYear</th>\n      <th>CarPrice</th>\n      <th>CustomerID</th>\n      <th>CustomerName</th>\n      <th>Gender</th>\n      <th>Sales</th>\n      <th>Quantity</th>\n    </tr>\n  </thead>\n  <tbody>\n    <tr>\n      <th>162</th>\n      <td>163</td>\n      <td>Layo</td>\n      <td>600</td>\n      <td>255 Hoepker Center</td>\n      <td>Mitsubishi</td>\n      <td>Endeavor</td>\n      <td>Aquamarine</td>\n      <td>2006</td>\n      <td>753865.45</td>\n      <td>11564-003</td>\n      <td>Kendra Pearmine</td>\n      <td>Female</td>\n      <td>777555.76</td>\n      <td>1</td>\n    </tr>\n    <tr>\n      <th>18</th>\n      <td>19</td>\n      <td>Buzzdog</td>\n      <td>2373</td>\n      <td>9 Lukken Way</td>\n      <td>Toyota</td>\n      <td>Corolla</td>\n      <td>Aquamarine</td>\n      <td>2004</td>\n      <td>563380.63</td>\n      <td>37000-352</td>\n      <td>Liuka Dundin</td>\n      <td>Female</td>\n      <td>758563.82</td>\n      <td>2</td>\n    </tr>\n    <tr>\n      <th>184</th>\n      <td>185</td>\n      <td>Babbleblab</td>\n      <td>3504</td>\n      <td>9 Alpine Terrace</td>\n      <td>Mercedes-Benz</td>\n      <td>E-Class</td>\n      <td>Aquamarine</td>\n      <td>2005</td>\n      <td>763055.59</td>\n      <td>36800-010</td>\n      <td>Lula MacIllrick</td>\n      <td>Female</td>\n      <td>931107.08</td>\n      <td>1</td>\n    </tr>\n    <tr>\n      <th>43</th>\n      <td>44</td>\n      <td>Avavee</td>\n      <td>3792</td>\n      <td>0473 Sunbrook Point</td>\n      <td>Honda</td>\n      <td>Accord</td>\n      <td>Aquamarine</td>\n      <td>2007</td>\n      <td>649862.04</td>\n      <td>62499-395</td>\n      <td>Barrett Eminson</td>\n      <td>Male</td>\n      <td>902974.39</td>\n      <td>1</td>\n    </tr>\n    <tr>\n      <th>256</th>\n      <td>257</td>\n      <td>Dynabox</td>\n      <td>3830</td>\n      <td>7114 Pierstorff Way</td>\n      <td>Pontiac</td>\n      <td>Grand Prix</td>\n      <td>Aquamarine</td>\n      <td>1992</td>\n      <td>760929.24</td>\n      <td>11822-0900</td>\n      <td>Will Lumley</td>\n      <td>Male</td>\n      <td>948947.68</td>\n      <td>1</td>\n    </tr>\n    <tr>\n      <th>...</th>\n      <td>...</td>\n      <td>...</td>\n      <td>...</td>\n      <td>...</td>\n      <td>...</td>\n      <td>...</td>\n      <td>...</td>\n      <td>...</td>\n      <td>...</td>\n      <td>...</td>\n      <td>...</td>\n      <td>...</td>\n      <td>...</td>\n      <td>...</td>\n    </tr>\n    <tr>\n      <th>219</th>\n      <td>220</td>\n      <td>Skiptube</td>\n      <td>8554</td>\n      <td>30 West Court</td>\n      <td>Toyota</td>\n      <td>Sequoia</td>\n      <td>Yellow</td>\n      <td>2006</td>\n      <td>774830.01</td>\n      <td>44717-536</td>\n      <td>Merrill Ryves</td>\n      <td>Male</td>\n      <td>818806.17</td>\n      <td>2</td>\n    </tr>\n    <tr>\n      <th>153</th>\n      <td>154</td>\n      <td>Fadeo</td>\n      <td>8739</td>\n      <td>745 Veith Circle</td>\n      <td>Buick</td>\n      <td>Regal</td>\n      <td>Yellow</td>\n      <td>2002</td>\n      <td>524700.33</td>\n      <td>43353-754</td>\n      <td>Geoffrey Ackermann</td>\n      <td>Male</td>\n      <td>961575.66</td>\n      <td>1</td>\n    </tr>\n    <tr>\n      <th>67</th>\n      <td>68</td>\n      <td>Gigashots</td>\n      <td>8854</td>\n      <td>0759 Swallow Drive</td>\n      <td>Nissan</td>\n      <td>Sentra</td>\n      <td>Yellow</td>\n      <td>2006</td>\n      <td>567121.20</td>\n      <td>0517-0033</td>\n      <td>Ethelred Thorington</td>\n      <td>Male</td>\n      <td>849446.97</td>\n      <td>1</td>\n    </tr>\n    <tr>\n      <th>266</th>\n      <td>267</td>\n      <td>Linkbridge</td>\n      <td>9001</td>\n      <td>440 Arizona Center</td>\n      <td>Toyota</td>\n      <td>Tundra</td>\n      <td>Yellow</td>\n      <td>2008</td>\n      <td>609769.87</td>\n      <td>49349-866</td>\n      <td>Van Ayree</td>\n      <td>Male</td>\n      <td>885462.32</td>\n      <td>1</td>\n    </tr>\n    <tr>\n      <th>269</th>\n      <td>270</td>\n      <td>Mynte</td>\n      <td>9045</td>\n      <td>403 Bayside Parkway</td>\n      <td>GMC</td>\n      <td>1500</td>\n      <td>Yellow</td>\n      <td>1997</td>\n      <td>561693.79</td>\n      <td>59011-444</td>\n      <td>Jordan Heatlie</td>\n      <td>Male</td>\n      <td>924763.35</td>\n      <td>2</td>\n    </tr>\n  </tbody>\n</table>\n<p>299 rows × 14 columns</p>\n</div>"
          },
          "metadata": {}
        }
      ],
      "execution_count": 144
    },
    {
      "cell_type": "code",
      "source": "df1 = df.sort_values(['CarColor','ProductID'],ascending = [True,False])       # the column first will be arranged in ascending order \ndf1",
      "metadata": {
        "trusted": true
      },
      "outputs": [
        {
          "execution_count": 145,
          "output_type": "execute_result",
          "data": {
            "text/plain": "     SupplierID  SupplierName  ProductID           SupplierAddress  \\\n41           42        Skyndu       9905  39 Brickson Park Parkway   \n21           22        Skidoo       8464           196 Darwin Park   \n282         283       Gigabox       8460     74909 Ludington Trail   \n216         217      Feedfire       8233         18059 Toban Court   \n77           78         Fadeo       7833       479 Shoshone Center   \n..          ...           ...        ...                       ...   \n218         219       Dabfeed        672         6692 Village Lane   \n262         263       Blogtag        529            8 Dapin Center   \n175         176  Twitterworks        292              8 Esker Pass   \n222         223      Skipfire        101           5 Hoffman Place   \n247         248         Eamia         54     76827 Old Gate Avenue   \n\n          CarMaker       CarModel    CarColor  CarModelYear   CarPrice  \\\n41       Chevrolet  Suburban 2500  Aquamarine          2009  794485.02   \n21       Chevrolet    Monte Carlo  Aquamarine          1996  569743.98   \n282     Mitsubishi           L300  Aquamarine          1990  691843.34   \n216          Buick        Century  Aquamarine          1989  591275.55   \n77      Mitsubishi         Precis  Aquamarine          1994  766396.94   \n..             ...            ...         ...           ...        ...   \n218            BMW     M Roadster      Yellow          2008  622688.00   \n262       Cadillac       Eldorado      Yellow          1999  662587.93   \n175  Mercedes-Benz       SL-Class      Yellow          2011  749804.88   \n222         Toyota     Highlander      Yellow          2009  765726.97   \n247       Infiniti            G37      Yellow          2011  753206.05   \n\n     CustomerID        CustomerName  Gender      Sales  Quantity  \n41    11697-373  Friedrich Roswarne    Male  722987.23         1  \n21    23155-141     Aimee O'Canavan  Female  718907.78         1  \n282  68258-3024   Stearne Fullerton    Male  978185.90         2  \n216  60681-2105           Meir Poff    Male  705535.68         2  \n77    0944-4351         Joan Beddon  Female  899946.21         1  \n..          ...                 ...     ...        ...       ...  \n218   65862-536         Keen Galego    Male  830384.88         1  \n262   51060-045    Dione McPartling  Female  948713.24         1  \n175  53603-1006     Gonzales Shoard    Male  914755.73         1  \n222   49999-598      Richart Lebbon    Male  712970.25         1  \n247   43269-780       Fidela Gepson  Female  915779.62         2  \n\n[299 rows x 14 columns]",
            "text/html": "<div>\n<style scoped>\n    .dataframe tbody tr th:only-of-type {\n        vertical-align: middle;\n    }\n\n    .dataframe tbody tr th {\n        vertical-align: top;\n    }\n\n    .dataframe thead th {\n        text-align: right;\n    }\n</style>\n<table border=\"1\" class=\"dataframe\">\n  <thead>\n    <tr style=\"text-align: right;\">\n      <th></th>\n      <th>SupplierID</th>\n      <th>SupplierName</th>\n      <th>ProductID</th>\n      <th>SupplierAddress</th>\n      <th>CarMaker</th>\n      <th>CarModel</th>\n      <th>CarColor</th>\n      <th>CarModelYear</th>\n      <th>CarPrice</th>\n      <th>CustomerID</th>\n      <th>CustomerName</th>\n      <th>Gender</th>\n      <th>Sales</th>\n      <th>Quantity</th>\n    </tr>\n  </thead>\n  <tbody>\n    <tr>\n      <th>41</th>\n      <td>42</td>\n      <td>Skyndu</td>\n      <td>9905</td>\n      <td>39 Brickson Park Parkway</td>\n      <td>Chevrolet</td>\n      <td>Suburban 2500</td>\n      <td>Aquamarine</td>\n      <td>2009</td>\n      <td>794485.02</td>\n      <td>11697-373</td>\n      <td>Friedrich Roswarne</td>\n      <td>Male</td>\n      <td>722987.23</td>\n      <td>1</td>\n    </tr>\n    <tr>\n      <th>21</th>\n      <td>22</td>\n      <td>Skidoo</td>\n      <td>8464</td>\n      <td>196 Darwin Park</td>\n      <td>Chevrolet</td>\n      <td>Monte Carlo</td>\n      <td>Aquamarine</td>\n      <td>1996</td>\n      <td>569743.98</td>\n      <td>23155-141</td>\n      <td>Aimee O'Canavan</td>\n      <td>Female</td>\n      <td>718907.78</td>\n      <td>1</td>\n    </tr>\n    <tr>\n      <th>282</th>\n      <td>283</td>\n      <td>Gigabox</td>\n      <td>8460</td>\n      <td>74909 Ludington Trail</td>\n      <td>Mitsubishi</td>\n      <td>L300</td>\n      <td>Aquamarine</td>\n      <td>1990</td>\n      <td>691843.34</td>\n      <td>68258-3024</td>\n      <td>Stearne Fullerton</td>\n      <td>Male</td>\n      <td>978185.90</td>\n      <td>2</td>\n    </tr>\n    <tr>\n      <th>216</th>\n      <td>217</td>\n      <td>Feedfire</td>\n      <td>8233</td>\n      <td>18059 Toban Court</td>\n      <td>Buick</td>\n      <td>Century</td>\n      <td>Aquamarine</td>\n      <td>1989</td>\n      <td>591275.55</td>\n      <td>60681-2105</td>\n      <td>Meir Poff</td>\n      <td>Male</td>\n      <td>705535.68</td>\n      <td>2</td>\n    </tr>\n    <tr>\n      <th>77</th>\n      <td>78</td>\n      <td>Fadeo</td>\n      <td>7833</td>\n      <td>479 Shoshone Center</td>\n      <td>Mitsubishi</td>\n      <td>Precis</td>\n      <td>Aquamarine</td>\n      <td>1994</td>\n      <td>766396.94</td>\n      <td>0944-4351</td>\n      <td>Joan Beddon</td>\n      <td>Female</td>\n      <td>899946.21</td>\n      <td>1</td>\n    </tr>\n    <tr>\n      <th>...</th>\n      <td>...</td>\n      <td>...</td>\n      <td>...</td>\n      <td>...</td>\n      <td>...</td>\n      <td>...</td>\n      <td>...</td>\n      <td>...</td>\n      <td>...</td>\n      <td>...</td>\n      <td>...</td>\n      <td>...</td>\n      <td>...</td>\n      <td>...</td>\n    </tr>\n    <tr>\n      <th>218</th>\n      <td>219</td>\n      <td>Dabfeed</td>\n      <td>672</td>\n      <td>6692 Village Lane</td>\n      <td>BMW</td>\n      <td>M Roadster</td>\n      <td>Yellow</td>\n      <td>2008</td>\n      <td>622688.00</td>\n      <td>65862-536</td>\n      <td>Keen Galego</td>\n      <td>Male</td>\n      <td>830384.88</td>\n      <td>1</td>\n    </tr>\n    <tr>\n      <th>262</th>\n      <td>263</td>\n      <td>Blogtag</td>\n      <td>529</td>\n      <td>8 Dapin Center</td>\n      <td>Cadillac</td>\n      <td>Eldorado</td>\n      <td>Yellow</td>\n      <td>1999</td>\n      <td>662587.93</td>\n      <td>51060-045</td>\n      <td>Dione McPartling</td>\n      <td>Female</td>\n      <td>948713.24</td>\n      <td>1</td>\n    </tr>\n    <tr>\n      <th>175</th>\n      <td>176</td>\n      <td>Twitterworks</td>\n      <td>292</td>\n      <td>8 Esker Pass</td>\n      <td>Mercedes-Benz</td>\n      <td>SL-Class</td>\n      <td>Yellow</td>\n      <td>2011</td>\n      <td>749804.88</td>\n      <td>53603-1006</td>\n      <td>Gonzales Shoard</td>\n      <td>Male</td>\n      <td>914755.73</td>\n      <td>1</td>\n    </tr>\n    <tr>\n      <th>222</th>\n      <td>223</td>\n      <td>Skipfire</td>\n      <td>101</td>\n      <td>5 Hoffman Place</td>\n      <td>Toyota</td>\n      <td>Highlander</td>\n      <td>Yellow</td>\n      <td>2009</td>\n      <td>765726.97</td>\n      <td>49999-598</td>\n      <td>Richart Lebbon</td>\n      <td>Male</td>\n      <td>712970.25</td>\n      <td>1</td>\n    </tr>\n    <tr>\n      <th>247</th>\n      <td>248</td>\n      <td>Eamia</td>\n      <td>54</td>\n      <td>76827 Old Gate Avenue</td>\n      <td>Infiniti</td>\n      <td>G37</td>\n      <td>Yellow</td>\n      <td>2011</td>\n      <td>753206.05</td>\n      <td>43269-780</td>\n      <td>Fidela Gepson</td>\n      <td>Female</td>\n      <td>915779.62</td>\n      <td>2</td>\n    </tr>\n  </tbody>\n</table>\n<p>299 rows × 14 columns</p>\n</div>"
          },
          "metadata": {}
        }
      ],
      "execution_count": 145
    },
    {
      "cell_type": "code",
      "source": "df[df.isnull().any(axis=1)].head()",
      "metadata": {
        "trusted": true
      },
      "outputs": [
        {
          "execution_count": 146,
          "output_type": "execute_result",
          "data": {
            "text/plain": "Empty DataFrame\nColumns: [SupplierID, SupplierName, ProductID, SupplierAddress, CarMaker, CarModel, CarColor, CarModelYear, CarPrice, CustomerID, CustomerName, Gender, Sales, Quantity]\nIndex: []",
            "text/html": "<div>\n<style scoped>\n    .dataframe tbody tr th:only-of-type {\n        vertical-align: middle;\n    }\n\n    .dataframe tbody tr th {\n        vertical-align: top;\n    }\n\n    .dataframe thead th {\n        text-align: right;\n    }\n</style>\n<table border=\"1\" class=\"dataframe\">\n  <thead>\n    <tr style=\"text-align: right;\">\n      <th></th>\n      <th>SupplierID</th>\n      <th>SupplierName</th>\n      <th>ProductID</th>\n      <th>SupplierAddress</th>\n      <th>CarMaker</th>\n      <th>CarModel</th>\n      <th>CarColor</th>\n      <th>CarModelYear</th>\n      <th>CarPrice</th>\n      <th>CustomerID</th>\n      <th>CustomerName</th>\n      <th>Gender</th>\n      <th>Sales</th>\n      <th>Quantity</th>\n    </tr>\n  </thead>\n  <tbody>\n  </tbody>\n</table>\n</div>"
          },
          "metadata": {}
        }
      ],
      "execution_count": 146
    },
    {
      "cell_type": "code",
      "source": "df[df.isnull().any(axis=0)].head()",
      "metadata": {
        "trusted": true
      },
      "outputs": [
        {
          "name": "stderr",
          "text": "<ipython-input-147-31d0acfeab6a>:1: UserWarning: Boolean Series key will be reindexed to match DataFrame index.\n  df[df.isnull().any(axis=0)].head()\n",
          "output_type": "stream"
        },
        {
          "ename": "<class 'pandas.errors.IndexingError'>",
          "evalue": "Unalignable boolean Series provided as indexer (index of the boolean Series and of the indexed object do not match).",
          "traceback": [
            "\u001b[0;31m---------------------------------------------------------------------------\u001b[0m",
            "\u001b[0;31mIndexingError\u001b[0m                             Traceback (most recent call last)",
            "Cell \u001b[0;32mIn[147], line 1\u001b[0m\n\u001b[0;32m----> 1\u001b[0m \u001b[43mdf\u001b[49m\u001b[43m[\u001b[49m\u001b[43mdf\u001b[49m\u001b[38;5;241;43m.\u001b[39;49m\u001b[43misnull\u001b[49m\u001b[43m(\u001b[49m\u001b[43m)\u001b[49m\u001b[38;5;241;43m.\u001b[39;49m\u001b[43many\u001b[49m\u001b[43m(\u001b[49m\u001b[43maxis\u001b[49m\u001b[38;5;241;43m=\u001b[39;49m\u001b[38;5;241;43m0\u001b[39;49m\u001b[43m)\u001b[49m\u001b[43m]\u001b[49m\u001b[38;5;241m.\u001b[39mhead()\n",
            "File \u001b[0;32m/lib/python3.12/site-packages/pandas/core/frame.py:4081\u001b[0m, in \u001b[0;36mDataFrame.__getitem__\u001b[0;34m(self, key)\u001b[0m\n\u001b[1;32m   4079\u001b[0m \u001b[38;5;66;03m# Do we have a (boolean) 1d indexer?\u001b[39;00m\n\u001b[1;32m   4080\u001b[0m \u001b[38;5;28;01mif\u001b[39;00m com\u001b[38;5;241m.\u001b[39mis_bool_indexer(key):\n\u001b[0;32m-> 4081\u001b[0m     \u001b[38;5;28;01mreturn\u001b[39;00m \u001b[38;5;28;43mself\u001b[39;49m\u001b[38;5;241;43m.\u001b[39;49m\u001b[43m_getitem_bool_array\u001b[49m\u001b[43m(\u001b[49m\u001b[43mkey\u001b[49m\u001b[43m)\u001b[49m\n\u001b[1;32m   4083\u001b[0m \u001b[38;5;66;03m# We are left with two options: a single key, and a collection of keys,\u001b[39;00m\n\u001b[1;32m   4084\u001b[0m \u001b[38;5;66;03m# We interpret tuples as collections only for non-MultiIndex\u001b[39;00m\n\u001b[1;32m   4085\u001b[0m is_single_key \u001b[38;5;241m=\u001b[39m \u001b[38;5;28misinstance\u001b[39m(key, \u001b[38;5;28mtuple\u001b[39m) \u001b[38;5;129;01mor\u001b[39;00m \u001b[38;5;129;01mnot\u001b[39;00m is_list_like(key)\n",
            "File \u001b[0;32m/lib/python3.12/site-packages/pandas/core/frame.py:4137\u001b[0m, in \u001b[0;36mDataFrame._getitem_bool_array\u001b[0;34m(self, key)\u001b[0m\n\u001b[1;32m   4131\u001b[0m     \u001b[38;5;28;01mraise\u001b[39;00m \u001b[38;5;167;01mValueError\u001b[39;00m(\n\u001b[1;32m   4132\u001b[0m         \u001b[38;5;124mf\u001b[39m\u001b[38;5;124m\"\u001b[39m\u001b[38;5;124mItem wrong length \u001b[39m\u001b[38;5;132;01m{\u001b[39;00m\u001b[38;5;28mlen\u001b[39m(key)\u001b[38;5;132;01m}\u001b[39;00m\u001b[38;5;124m instead of \u001b[39m\u001b[38;5;132;01m{\u001b[39;00m\u001b[38;5;28mlen\u001b[39m(\u001b[38;5;28mself\u001b[39m\u001b[38;5;241m.\u001b[39mindex)\u001b[38;5;132;01m}\u001b[39;00m\u001b[38;5;124m.\u001b[39m\u001b[38;5;124m\"\u001b[39m\n\u001b[1;32m   4133\u001b[0m     )\n\u001b[1;32m   4135\u001b[0m \u001b[38;5;66;03m# check_bool_indexer will throw exception if Series key cannot\u001b[39;00m\n\u001b[1;32m   4136\u001b[0m \u001b[38;5;66;03m# be reindexed to match DataFrame rows\u001b[39;00m\n\u001b[0;32m-> 4137\u001b[0m key \u001b[38;5;241m=\u001b[39m \u001b[43mcheck_bool_indexer\u001b[49m\u001b[43m(\u001b[49m\u001b[38;5;28;43mself\u001b[39;49m\u001b[38;5;241;43m.\u001b[39;49m\u001b[43mindex\u001b[49m\u001b[43m,\u001b[49m\u001b[43m \u001b[49m\u001b[43mkey\u001b[49m\u001b[43m)\u001b[49m\n\u001b[1;32m   4139\u001b[0m \u001b[38;5;28;01mif\u001b[39;00m key\u001b[38;5;241m.\u001b[39mall():\n\u001b[1;32m   4140\u001b[0m     \u001b[38;5;28;01mreturn\u001b[39;00m \u001b[38;5;28mself\u001b[39m\u001b[38;5;241m.\u001b[39mcopy(deep\u001b[38;5;241m=\u001b[39m\u001b[38;5;28;01mNone\u001b[39;00m)\n",
            "File \u001b[0;32m/lib/python3.12/site-packages/pandas/core/indexing.py:2655\u001b[0m, in \u001b[0;36mcheck_bool_indexer\u001b[0;34m(index, key)\u001b[0m\n\u001b[1;32m   2653\u001b[0m indexer \u001b[38;5;241m=\u001b[39m result\u001b[38;5;241m.\u001b[39mindex\u001b[38;5;241m.\u001b[39mget_indexer_for(index)\n\u001b[1;32m   2654\u001b[0m \u001b[38;5;28;01mif\u001b[39;00m \u001b[38;5;241m-\u001b[39m\u001b[38;5;241m1\u001b[39m \u001b[38;5;129;01min\u001b[39;00m indexer:\n\u001b[0;32m-> 2655\u001b[0m     \u001b[38;5;28;01mraise\u001b[39;00m IndexingError(\n\u001b[1;32m   2656\u001b[0m         \u001b[38;5;124m\"\u001b[39m\u001b[38;5;124mUnalignable boolean Series provided as \u001b[39m\u001b[38;5;124m\"\u001b[39m\n\u001b[1;32m   2657\u001b[0m         \u001b[38;5;124m\"\u001b[39m\u001b[38;5;124mindexer (index of the boolean Series and of \u001b[39m\u001b[38;5;124m\"\u001b[39m\n\u001b[1;32m   2658\u001b[0m         \u001b[38;5;124m\"\u001b[39m\u001b[38;5;124mthe indexed object do not match).\u001b[39m\u001b[38;5;124m\"\u001b[39m\n\u001b[1;32m   2659\u001b[0m     )\n\u001b[1;32m   2661\u001b[0m result \u001b[38;5;241m=\u001b[39m result\u001b[38;5;241m.\u001b[39mtake(indexer)\n\u001b[1;32m   2663\u001b[0m \u001b[38;5;66;03m# fall through for boolean\u001b[39;00m\n",
            "\u001b[0;31mIndexingError\u001b[0m: Unalignable boolean Series provided as indexer (index of the boolean Series and of the indexed object do not match)."
          ],
          "output_type": "error"
        }
      ],
      "execution_count": 147
    },
    {
      "cell_type": "code",
      "source": "# Aggregate Functions\n\ndf[['Sales','Quantity']].agg(['min','max','mean'])",
      "metadata": {
        "trusted": true
      },
      "outputs": [
        {
          "execution_count": 153,
          "output_type": "execute_result",
          "data": {
            "text/plain": "              Sales  Quantity\nmin   700321.490000  1.000000\nmax   998843.290000  2.000000\nmean  853155.083712  1.545151",
            "text/html": "<div>\n<style scoped>\n    .dataframe tbody tr th:only-of-type {\n        vertical-align: middle;\n    }\n\n    .dataframe tbody tr th {\n        vertical-align: top;\n    }\n\n    .dataframe thead th {\n        text-align: right;\n    }\n</style>\n<table border=\"1\" class=\"dataframe\">\n  <thead>\n    <tr style=\"text-align: right;\">\n      <th></th>\n      <th>Sales</th>\n      <th>Quantity</th>\n    </tr>\n  </thead>\n  <tbody>\n    <tr>\n      <th>min</th>\n      <td>700321.490000</td>\n      <td>1.000000</td>\n    </tr>\n    <tr>\n      <th>max</th>\n      <td>998843.290000</td>\n      <td>2.000000</td>\n    </tr>\n    <tr>\n      <th>mean</th>\n      <td>853155.083712</td>\n      <td>1.545151</td>\n    </tr>\n  </tbody>\n</table>\n</div>"
          },
          "metadata": {}
        }
      ],
      "execution_count": 153
    },
    {
      "cell_type": "code",
      "source": "df[['Sales','Quantity']].mode()",
      "metadata": {
        "trusted": true
      },
      "outputs": [
        {
          "execution_count": 155,
          "output_type": "execute_result",
          "data": {
            "text/plain": "         Sales  Quantity\n0    700321.49       2.0\n1    700375.26       NaN\n2    701839.30       NaN\n3    701880.61       NaN\n4    703359.96       NaN\n..         ...       ...\n294  992886.70       NaN\n295  993717.13       NaN\n296  993775.95       NaN\n297  997480.97       NaN\n298  998843.29       NaN\n\n[299 rows x 2 columns]",
            "text/html": "<div>\n<style scoped>\n    .dataframe tbody tr th:only-of-type {\n        vertical-align: middle;\n    }\n\n    .dataframe tbody tr th {\n        vertical-align: top;\n    }\n\n    .dataframe thead th {\n        text-align: right;\n    }\n</style>\n<table border=\"1\" class=\"dataframe\">\n  <thead>\n    <tr style=\"text-align: right;\">\n      <th></th>\n      <th>Sales</th>\n      <th>Quantity</th>\n    </tr>\n  </thead>\n  <tbody>\n    <tr>\n      <th>0</th>\n      <td>700321.49</td>\n      <td>2.0</td>\n    </tr>\n    <tr>\n      <th>1</th>\n      <td>700375.26</td>\n      <td>NaN</td>\n    </tr>\n    <tr>\n      <th>2</th>\n      <td>701839.30</td>\n      <td>NaN</td>\n    </tr>\n    <tr>\n      <th>3</th>\n      <td>701880.61</td>\n      <td>NaN</td>\n    </tr>\n    <tr>\n      <th>4</th>\n      <td>703359.96</td>\n      <td>NaN</td>\n    </tr>\n    <tr>\n      <th>...</th>\n      <td>...</td>\n      <td>...</td>\n    </tr>\n    <tr>\n      <th>294</th>\n      <td>992886.70</td>\n      <td>NaN</td>\n    </tr>\n    <tr>\n      <th>295</th>\n      <td>993717.13</td>\n      <td>NaN</td>\n    </tr>\n    <tr>\n      <th>296</th>\n      <td>993775.95</td>\n      <td>NaN</td>\n    </tr>\n    <tr>\n      <th>297</th>\n      <td>997480.97</td>\n      <td>NaN</td>\n    </tr>\n    <tr>\n      <th>298</th>\n      <td>998843.29</td>\n      <td>NaN</td>\n    </tr>\n  </tbody>\n</table>\n<p>299 rows × 2 columns</p>\n</div>"
          },
          "metadata": {}
        }
      ],
      "execution_count": 155
    },
    {
      "cell_type": "code",
      "source": "df['Sales'].skew()",
      "metadata": {
        "trusted": true
      },
      "outputs": [
        {
          "execution_count": 156,
          "output_type": "execute_result",
          "data": {
            "text/plain": "-0.1531041913282873"
          },
          "metadata": {}
        }
      ],
      "execution_count": 156
    },
    {
      "cell_type": "code",
      "source": "df['Sales'].kurt()",
      "metadata": {
        "trusted": true
      },
      "outputs": [
        {
          "execution_count": 158,
          "output_type": "execute_result",
          "data": {
            "text/plain": "-1.2716844486432157"
          },
          "metadata": {}
        }
      ],
      "execution_count": 158
    },
    {
      "cell_type": "code",
      "source": "",
      "metadata": {
        "trusted": true
      },
      "outputs": [],
      "execution_count": null
    }
  ]
}