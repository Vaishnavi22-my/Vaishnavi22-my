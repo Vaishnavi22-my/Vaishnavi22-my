{
  "metadata": {
    "kernelspec": {
      "name": "python",
      "display_name": "Python (Pyodide)",
      "language": "python"
    },
    "language_info": {
      "codemirror_mode": {
        "name": "python",
        "version": 3
      },
      "file_extension": ".py",
      "mimetype": "text/x-python",
      "name": "python",
      "nbconvert_exporter": "python",
      "pygments_lexer": "ipython3",
      "version": "3.8"
    }
  },
  "nbformat_minor": 4,
  "nbformat": 4,
  "cells": [
    {
      "cell_type": "markdown",
      "source": "# MACHINE LEARNING BASICS (Started)\n",
      "metadata": {}
    },
    {
      "cell_type": "code",
      "source": "import numpy as np\nimport scipy as sp\nimport pandas as pd\nimport matplotlib as mpl\n",
      "metadata": {
        "trusted": true
      },
      "outputs": [],
      "execution_count": null
    },
    {
      "cell_type": "code",
      "source": "df = pd.read_csv(\"testfile.csv\")",
      "metadata": {
        "trusted": true
      },
      "outputs": [],
      "execution_count": 4
    },
    {
      "cell_type": "code",
      "source": "df.head()",
      "metadata": {
        "trusted": true
      },
      "outputs": [
        {
          "execution_count": 5,
          "output_type": "execute_result",
          "data": {
            "text/plain": "   Rank                             Name     Industry        Revenue  \\\n0     1                          Walmart       Retail  $ 6,11,289.00   \n1     2                     Saudi Aramco  Oil and gas  $ 6,03,651.00   \n2     3                           Amazon       Retail  $ 5,74,785.00   \n3     4  State Grid Corporation of China  Electricity  $ 5,30,009.00   \n4     5                            Vitol  Commodities  $ 5,05,000.00   \n\n          Profit  Employees   Headquarters Revenue per worker  \n0     $11,680.00  21,00,000  United States      $ 2,91,090.00  \n1  $ 1,59,069.00     70,496   Saudi Arabia     $ 85,62,911.37  \n2     $30,425.00  15,25,000  United States      $ 3,76,908.00  \n3      $8,192.00   8,70,287          China      $ 6,09,004.85  \n4     $15,000.00      1,560    Switzerland  $ 32,37,17,948.72  ",
            "text/html": "<div>\n<style scoped>\n    .dataframe tbody tr th:only-of-type {\n        vertical-align: middle;\n    }\n\n    .dataframe tbody tr th {\n        vertical-align: top;\n    }\n\n    .dataframe thead th {\n        text-align: right;\n    }\n</style>\n<table border=\"1\" class=\"dataframe\">\n  <thead>\n    <tr style=\"text-align: right;\">\n      <th></th>\n      <th>Rank</th>\n      <th>Name</th>\n      <th>Industry</th>\n      <th>Revenue</th>\n      <th>Profit</th>\n      <th>Employees</th>\n      <th>Headquarters</th>\n      <th>Revenue per worker</th>\n    </tr>\n  </thead>\n  <tbody>\n    <tr>\n      <th>0</th>\n      <td>1</td>\n      <td>Walmart</td>\n      <td>Retail</td>\n      <td>$ 6,11,289.00</td>\n      <td>$11,680.00</td>\n      <td>21,00,000</td>\n      <td>United States</td>\n      <td>$ 2,91,090.00</td>\n    </tr>\n    <tr>\n      <th>1</th>\n      <td>2</td>\n      <td>Saudi Aramco</td>\n      <td>Oil and gas</td>\n      <td>$ 6,03,651.00</td>\n      <td>$ 1,59,069.00</td>\n      <td>70,496</td>\n      <td>Saudi Arabia</td>\n      <td>$ 85,62,911.37</td>\n    </tr>\n    <tr>\n      <th>2</th>\n      <td>3</td>\n      <td>Amazon</td>\n      <td>Retail</td>\n      <td>$ 5,74,785.00</td>\n      <td>$30,425.00</td>\n      <td>15,25,000</td>\n      <td>United States</td>\n      <td>$ 3,76,908.00</td>\n    </tr>\n    <tr>\n      <th>3</th>\n      <td>4</td>\n      <td>State Grid Corporation of China</td>\n      <td>Electricity</td>\n      <td>$ 5,30,009.00</td>\n      <td>$8,192.00</td>\n      <td>8,70,287</td>\n      <td>China</td>\n      <td>$ 6,09,004.85</td>\n    </tr>\n    <tr>\n      <th>4</th>\n      <td>5</td>\n      <td>Vitol</td>\n      <td>Commodities</td>\n      <td>$ 5,05,000.00</td>\n      <td>$15,000.00</td>\n      <td>1,560</td>\n      <td>Switzerland</td>\n      <td>$ 32,37,17,948.72</td>\n    </tr>\n  </tbody>\n</table>\n</div>"
          },
          "metadata": {}
        }
      ],
      "execution_count": 5
    },
    {
      "cell_type": "code",
      "source": "df.head(10)",
      "metadata": {
        "trusted": true
      },
      "outputs": [
        {
          "execution_count": 6,
          "output_type": "execute_result",
          "data": {
            "text/plain": "   Rank                                  Name     Industry        Revenue  \\\n0     1                               Walmart       Retail  $ 6,11,289.00   \n1     2                          Saudi Aramco  Oil and gas  $ 6,03,651.00   \n2     3                                Amazon       Retail  $ 5,74,785.00   \n3     4       State Grid Corporation of China  Electricity  $ 5,30,009.00   \n4     5                                 Vitol  Commodities  $ 5,05,000.00   \n5     6  China National Petroleum Corporation  Oil and gas  $ 4,83,019.00   \n6     7       China Petrochemical Corporation  Oil and gas  $ 4,71,154.00   \n7     8                            ExxonMobil  Oil and gas  $ 4,13,680.00   \n8     9                                 Apple  Electronics  $ 3,94,328.00   \n9    10                                 Shell  Oil and gas  $ 3,86,201.00   \n\n          Profit  Employees    Headquarters Revenue per worker  \n0     $11,680.00  21,00,000   United States      $ 2,91,090.00  \n1  $ 1,59,069.00     70,496    Saudi Arabia     $ 85,62,911.37  \n2     $30,425.00  15,25,000   United States      $ 3,76,908.00  \n3      $8,192.00   8,70,287           China      $ 6,09,004.85  \n4     $15,000.00      1,560     Switzerland  $ 32,37,17,948.72  \n5     $21,080.00  10,87,049           China      $ 4,44,339.68  \n6      $9,657.00   5,27,487           China      $ 8,93,204.95  \n7     $55,740.00     63,000   United States     $ 65,66,349.21  \n8     $99,803.00   1,64,000   United States     $ 24,04,439.02  \n9     $20,120.00     93,000  United Kingdom     $ 41,52,698.92  ",
            "text/html": "<div>\n<style scoped>\n    .dataframe tbody tr th:only-of-type {\n        vertical-align: middle;\n    }\n\n    .dataframe tbody tr th {\n        vertical-align: top;\n    }\n\n    .dataframe thead th {\n        text-align: right;\n    }\n</style>\n<table border=\"1\" class=\"dataframe\">\n  <thead>\n    <tr style=\"text-align: right;\">\n      <th></th>\n      <th>Rank</th>\n      <th>Name</th>\n      <th>Industry</th>\n      <th>Revenue</th>\n      <th>Profit</th>\n      <th>Employees</th>\n      <th>Headquarters</th>\n      <th>Revenue per worker</th>\n    </tr>\n  </thead>\n  <tbody>\n    <tr>\n      <th>0</th>\n      <td>1</td>\n      <td>Walmart</td>\n      <td>Retail</td>\n      <td>$ 6,11,289.00</td>\n      <td>$11,680.00</td>\n      <td>21,00,000</td>\n      <td>United States</td>\n      <td>$ 2,91,090.00</td>\n    </tr>\n    <tr>\n      <th>1</th>\n      <td>2</td>\n      <td>Saudi Aramco</td>\n      <td>Oil and gas</td>\n      <td>$ 6,03,651.00</td>\n      <td>$ 1,59,069.00</td>\n      <td>70,496</td>\n      <td>Saudi Arabia</td>\n      <td>$ 85,62,911.37</td>\n    </tr>\n    <tr>\n      <th>2</th>\n      <td>3</td>\n      <td>Amazon</td>\n      <td>Retail</td>\n      <td>$ 5,74,785.00</td>\n      <td>$30,425.00</td>\n      <td>15,25,000</td>\n      <td>United States</td>\n      <td>$ 3,76,908.00</td>\n    </tr>\n    <tr>\n      <th>3</th>\n      <td>4</td>\n      <td>State Grid Corporation of China</td>\n      <td>Electricity</td>\n      <td>$ 5,30,009.00</td>\n      <td>$8,192.00</td>\n      <td>8,70,287</td>\n      <td>China</td>\n      <td>$ 6,09,004.85</td>\n    </tr>\n    <tr>\n      <th>4</th>\n      <td>5</td>\n      <td>Vitol</td>\n      <td>Commodities</td>\n      <td>$ 5,05,000.00</td>\n      <td>$15,000.00</td>\n      <td>1,560</td>\n      <td>Switzerland</td>\n      <td>$ 32,37,17,948.72</td>\n    </tr>\n    <tr>\n      <th>5</th>\n      <td>6</td>\n      <td>China National Petroleum Corporation</td>\n      <td>Oil and gas</td>\n      <td>$ 4,83,019.00</td>\n      <td>$21,080.00</td>\n      <td>10,87,049</td>\n      <td>China</td>\n      <td>$ 4,44,339.68</td>\n    </tr>\n    <tr>\n      <th>6</th>\n      <td>7</td>\n      <td>China Petrochemical Corporation</td>\n      <td>Oil and gas</td>\n      <td>$ 4,71,154.00</td>\n      <td>$9,657.00</td>\n      <td>5,27,487</td>\n      <td>China</td>\n      <td>$ 8,93,204.95</td>\n    </tr>\n    <tr>\n      <th>7</th>\n      <td>8</td>\n      <td>ExxonMobil</td>\n      <td>Oil and gas</td>\n      <td>$ 4,13,680.00</td>\n      <td>$55,740.00</td>\n      <td>63,000</td>\n      <td>United States</td>\n      <td>$ 65,66,349.21</td>\n    </tr>\n    <tr>\n      <th>8</th>\n      <td>9</td>\n      <td>Apple</td>\n      <td>Electronics</td>\n      <td>$ 3,94,328.00</td>\n      <td>$99,803.00</td>\n      <td>1,64,000</td>\n      <td>United States</td>\n      <td>$ 24,04,439.02</td>\n    </tr>\n    <tr>\n      <th>9</th>\n      <td>10</td>\n      <td>Shell</td>\n      <td>Oil and gas</td>\n      <td>$ 3,86,201.00</td>\n      <td>$20,120.00</td>\n      <td>93,000</td>\n      <td>United Kingdom</td>\n      <td>$ 41,52,698.92</td>\n    </tr>\n  </tbody>\n</table>\n</div>"
          },
          "metadata": {}
        }
      ],
      "execution_count": 6
    },
    {
      "cell_type": "code",
      "source": "df.head(20)",
      "metadata": {
        "trusted": true
      },
      "outputs": [
        {
          "execution_count": 7,
          "output_type": "execute_result",
          "data": {
            "text/plain": "    Rank                                  Name                Industry  \\\n0      1                               Walmart                  Retail   \n1      2                          Saudi Aramco             Oil and gas   \n2      3                                Amazon                  Retail   \n3      4       State Grid Corporation of China             Electricity   \n4      5                                 Vitol             Commodities   \n5      6  China National Petroleum Corporation             Oil and gas   \n6      7       China Petrochemical Corporation             Oil and gas   \n7      8                            ExxonMobil             Oil and gas   \n8      9                                 Apple             Electronics   \n9     10                                 Shell             Oil and gas   \n10    11                    UnitedHealth Group              Healthcare   \n11    12                            CVS Health              Healthcare   \n12    13                             Trafigura             Commodities   \n13    14  China State Construction Engineering            Construction   \n14    15                    Berkshire Hathaway              Financials   \n15    16                      Volkswagen Group              Automotive   \n16    17                                Uniper             Electricity   \n17    18                              Alphabet  Information technology   \n18    19                              McKesson              Healthcare   \n19    20                                Toyota              Automotive   \n\n          Revenue         Profit  Employees    Headquarters Revenue per worker  \n0   $ 6,11,289.00     $11,680.00  21,00,000   United States      $ 2,91,090.00  \n1   $ 6,03,651.00  $ 1,59,069.00     70,496    Saudi Arabia     $ 85,62,911.37  \n2   $ 5,74,785.00     $30,425.00  15,25,000   United States      $ 3,76,908.00  \n3   $ 5,30,009.00      $8,192.00   8,70,287           China      $ 6,09,004.85  \n4   $ 5,05,000.00     $15,000.00      1,560     Switzerland  $ 32,37,17,948.72  \n5   $ 4,83,019.00     $21,080.00  10,87,049           China      $ 4,44,339.68  \n6   $ 4,71,154.00      $9,657.00   5,27,487           China      $ 8,93,204.95  \n7   $ 4,13,680.00     $55,740.00     63,000   United States     $ 65,66,349.21  \n8   $ 3,94,328.00     $99,803.00   1,64,000   United States     $ 24,04,439.02  \n9   $ 3,86,201.00     $20,120.00     93,000  United Kingdom     $ 41,52,698.92  \n10  $ 3,24,162.00     $20,120.00   4,00,000   United States      $ 8,10,405.00  \n11  $ 3,22,467.00      $4,149.00   2,59,500   United States     $ 12,42,647.40  \n12  $ 3,18,476.00      $6,994.00     12,347       Singapore   $ 2,57,93,796.06  \n13  $ 3,05,885.00      $4,234.00   3,82,492           China      $ 7,99,716.07  \n14  $ 3,02,089.00    -$22,819.00   3,83,000   United States      $ 7,88,744.13  \n15  $ 2,93,685.00     $15,233.00   6,75,805         Germany      $ 4,34,570.62  \n16  $ 2,88,309.00    -$19,961.00      7,008         Germany   $ 4,11,39,982.88  \n17  $ 2,82,836.00     $59,972.00   1,90,234   United States     $ 14,86,779.44  \n18  $ 2,76,711.00      $3,560.00     48,000   United States     $ 57,64,812.50  \n19  $ 2,74,491.00     $18,110.00   3,75,235           Japan      $ 7,31,517.58  ",
            "text/html": "<div>\n<style scoped>\n    .dataframe tbody tr th:only-of-type {\n        vertical-align: middle;\n    }\n\n    .dataframe tbody tr th {\n        vertical-align: top;\n    }\n\n    .dataframe thead th {\n        text-align: right;\n    }\n</style>\n<table border=\"1\" class=\"dataframe\">\n  <thead>\n    <tr style=\"text-align: right;\">\n      <th></th>\n      <th>Rank</th>\n      <th>Name</th>\n      <th>Industry</th>\n      <th>Revenue</th>\n      <th>Profit</th>\n      <th>Employees</th>\n      <th>Headquarters</th>\n      <th>Revenue per worker</th>\n    </tr>\n  </thead>\n  <tbody>\n    <tr>\n      <th>0</th>\n      <td>1</td>\n      <td>Walmart</td>\n      <td>Retail</td>\n      <td>$ 6,11,289.00</td>\n      <td>$11,680.00</td>\n      <td>21,00,000</td>\n      <td>United States</td>\n      <td>$ 2,91,090.00</td>\n    </tr>\n    <tr>\n      <th>1</th>\n      <td>2</td>\n      <td>Saudi Aramco</td>\n      <td>Oil and gas</td>\n      <td>$ 6,03,651.00</td>\n      <td>$ 1,59,069.00</td>\n      <td>70,496</td>\n      <td>Saudi Arabia</td>\n      <td>$ 85,62,911.37</td>\n    </tr>\n    <tr>\n      <th>2</th>\n      <td>3</td>\n      <td>Amazon</td>\n      <td>Retail</td>\n      <td>$ 5,74,785.00</td>\n      <td>$30,425.00</td>\n      <td>15,25,000</td>\n      <td>United States</td>\n      <td>$ 3,76,908.00</td>\n    </tr>\n    <tr>\n      <th>3</th>\n      <td>4</td>\n      <td>State Grid Corporation of China</td>\n      <td>Electricity</td>\n      <td>$ 5,30,009.00</td>\n      <td>$8,192.00</td>\n      <td>8,70,287</td>\n      <td>China</td>\n      <td>$ 6,09,004.85</td>\n    </tr>\n    <tr>\n      <th>4</th>\n      <td>5</td>\n      <td>Vitol</td>\n      <td>Commodities</td>\n      <td>$ 5,05,000.00</td>\n      <td>$15,000.00</td>\n      <td>1,560</td>\n      <td>Switzerland</td>\n      <td>$ 32,37,17,948.72</td>\n    </tr>\n    <tr>\n      <th>5</th>\n      <td>6</td>\n      <td>China National Petroleum Corporation</td>\n      <td>Oil and gas</td>\n      <td>$ 4,83,019.00</td>\n      <td>$21,080.00</td>\n      <td>10,87,049</td>\n      <td>China</td>\n      <td>$ 4,44,339.68</td>\n    </tr>\n    <tr>\n      <th>6</th>\n      <td>7</td>\n      <td>China Petrochemical Corporation</td>\n      <td>Oil and gas</td>\n      <td>$ 4,71,154.00</td>\n      <td>$9,657.00</td>\n      <td>5,27,487</td>\n      <td>China</td>\n      <td>$ 8,93,204.95</td>\n    </tr>\n    <tr>\n      <th>7</th>\n      <td>8</td>\n      <td>ExxonMobil</td>\n      <td>Oil and gas</td>\n      <td>$ 4,13,680.00</td>\n      <td>$55,740.00</td>\n      <td>63,000</td>\n      <td>United States</td>\n      <td>$ 65,66,349.21</td>\n    </tr>\n    <tr>\n      <th>8</th>\n      <td>9</td>\n      <td>Apple</td>\n      <td>Electronics</td>\n      <td>$ 3,94,328.00</td>\n      <td>$99,803.00</td>\n      <td>1,64,000</td>\n      <td>United States</td>\n      <td>$ 24,04,439.02</td>\n    </tr>\n    <tr>\n      <th>9</th>\n      <td>10</td>\n      <td>Shell</td>\n      <td>Oil and gas</td>\n      <td>$ 3,86,201.00</td>\n      <td>$20,120.00</td>\n      <td>93,000</td>\n      <td>United Kingdom</td>\n      <td>$ 41,52,698.92</td>\n    </tr>\n    <tr>\n      <th>10</th>\n      <td>11</td>\n      <td>UnitedHealth Group</td>\n      <td>Healthcare</td>\n      <td>$ 3,24,162.00</td>\n      <td>$20,120.00</td>\n      <td>4,00,000</td>\n      <td>United States</td>\n      <td>$ 8,10,405.00</td>\n    </tr>\n    <tr>\n      <th>11</th>\n      <td>12</td>\n      <td>CVS Health</td>\n      <td>Healthcare</td>\n      <td>$ 3,22,467.00</td>\n      <td>$4,149.00</td>\n      <td>2,59,500</td>\n      <td>United States</td>\n      <td>$ 12,42,647.40</td>\n    </tr>\n    <tr>\n      <th>12</th>\n      <td>13</td>\n      <td>Trafigura</td>\n      <td>Commodities</td>\n      <td>$ 3,18,476.00</td>\n      <td>$6,994.00</td>\n      <td>12,347</td>\n      <td>Singapore</td>\n      <td>$ 2,57,93,796.06</td>\n    </tr>\n    <tr>\n      <th>13</th>\n      <td>14</td>\n      <td>China State Construction Engineering</td>\n      <td>Construction</td>\n      <td>$ 3,05,885.00</td>\n      <td>$4,234.00</td>\n      <td>3,82,492</td>\n      <td>China</td>\n      <td>$ 7,99,716.07</td>\n    </tr>\n    <tr>\n      <th>14</th>\n      <td>15</td>\n      <td>Berkshire Hathaway</td>\n      <td>Financials</td>\n      <td>$ 3,02,089.00</td>\n      <td>-$22,819.00</td>\n      <td>3,83,000</td>\n      <td>United States</td>\n      <td>$ 7,88,744.13</td>\n    </tr>\n    <tr>\n      <th>15</th>\n      <td>16</td>\n      <td>Volkswagen Group</td>\n      <td>Automotive</td>\n      <td>$ 2,93,685.00</td>\n      <td>$15,233.00</td>\n      <td>6,75,805</td>\n      <td>Germany</td>\n      <td>$ 4,34,570.62</td>\n    </tr>\n    <tr>\n      <th>16</th>\n      <td>17</td>\n      <td>Uniper</td>\n      <td>Electricity</td>\n      <td>$ 2,88,309.00</td>\n      <td>-$19,961.00</td>\n      <td>7,008</td>\n      <td>Germany</td>\n      <td>$ 4,11,39,982.88</td>\n    </tr>\n    <tr>\n      <th>17</th>\n      <td>18</td>\n      <td>Alphabet</td>\n      <td>Information technology</td>\n      <td>$ 2,82,836.00</td>\n      <td>$59,972.00</td>\n      <td>1,90,234</td>\n      <td>United States</td>\n      <td>$ 14,86,779.44</td>\n    </tr>\n    <tr>\n      <th>18</th>\n      <td>19</td>\n      <td>McKesson</td>\n      <td>Healthcare</td>\n      <td>$ 2,76,711.00</td>\n      <td>$3,560.00</td>\n      <td>48,000</td>\n      <td>United States</td>\n      <td>$ 57,64,812.50</td>\n    </tr>\n    <tr>\n      <th>19</th>\n      <td>20</td>\n      <td>Toyota</td>\n      <td>Automotive</td>\n      <td>$ 2,74,491.00</td>\n      <td>$18,110.00</td>\n      <td>3,75,235</td>\n      <td>Japan</td>\n      <td>$ 7,31,517.58</td>\n    </tr>\n  </tbody>\n</table>\n</div>"
          },
          "metadata": {}
        }
      ],
      "execution_count": 7
    },
    {
      "cell_type": "code",
      "source": "df.head(30)",
      "metadata": {
        "trusted": true
      },
      "outputs": [
        {
          "execution_count": 8,
          "output_type": "execute_result",
          "data": {
            "text/plain": "    Rank                                     Name                Industry  \\\n0      1                                  Walmart                  Retail   \n1      2                             Saudi Aramco             Oil and gas   \n2      3                                   Amazon                  Retail   \n3      4          State Grid Corporation of China             Electricity   \n4      5                                    Vitol             Commodities   \n5      6     China National Petroleum Corporation             Oil and gas   \n6      7          China Petrochemical Corporation             Oil and gas   \n7      8                               ExxonMobil             Oil and gas   \n8      9                                    Apple             Electronics   \n9     10                                    Shell             Oil and gas   \n10    11                       UnitedHealth Group              Healthcare   \n11    12                               CVS Health              Healthcare   \n12    13                                Trafigura             Commodities   \n13    14     China State Construction Engineering            Construction   \n14    15                       Berkshire Hathaway              Financials   \n15    16                         Volkswagen Group              Automotive   \n16    17                                   Uniper             Electricity   \n17    18                                 Alphabet  Information technology   \n18    19                                 McKesson              Healthcare   \n19    20                                   Toyota              Automotive   \n20    21                            TotalEnergies             Oil and gas   \n21    22                                 Glencore             Commodities   \n22    23                                       BP             Oil and gas   \n23    24                                  Chevron             Oil and gas   \n24    25                                  Cencora              Healthcare   \n25    26                      Samsung Electronics             Electronics   \n26    27                                   Costco                  Retail   \n27    28                                  Foxconn             Electronics   \n28    29  Industrial and Commercial Bank of China              Financials   \n29    30                                Microsoft  Information technology   \n\n          Revenue         Profit  Employees    Headquarters Revenue per worker  \n0   $ 6,11,289.00     $11,680.00  21,00,000   United States      $ 2,91,090.00  \n1   $ 6,03,651.00  $ 1,59,069.00     70,496    Saudi Arabia     $ 85,62,911.37  \n2   $ 5,74,785.00     $30,425.00  15,25,000   United States      $ 3,76,908.00  \n3   $ 5,30,009.00      $8,192.00   8,70,287           China      $ 6,09,004.85  \n4   $ 5,05,000.00     $15,000.00      1,560     Switzerland  $ 32,37,17,948.72  \n5   $ 4,83,019.00     $21,080.00  10,87,049           China      $ 4,44,339.68  \n6   $ 4,71,154.00      $9,657.00   5,27,487           China      $ 8,93,204.95  \n7   $ 4,13,680.00     $55,740.00     63,000   United States     $ 65,66,349.21  \n8   $ 3,94,328.00     $99,803.00   1,64,000   United States     $ 24,04,439.02  \n9   $ 3,86,201.00     $20,120.00     93,000  United Kingdom     $ 41,52,698.92  \n10  $ 3,24,162.00     $20,120.00   4,00,000   United States      $ 8,10,405.00  \n11  $ 3,22,467.00      $4,149.00   2,59,500   United States     $ 12,42,647.40  \n12  $ 3,18,476.00      $6,994.00     12,347       Singapore   $ 2,57,93,796.06  \n13  $ 3,05,885.00      $4,234.00   3,82,492           China      $ 7,99,716.07  \n14  $ 3,02,089.00    -$22,819.00   3,83,000   United States      $ 7,88,744.13  \n15  $ 2,93,685.00     $15,233.00   6,75,805         Germany      $ 4,34,570.62  \n16  $ 2,88,309.00    -$19,961.00      7,008         Germany   $ 4,11,39,982.88  \n17  $ 2,82,836.00     $59,972.00   1,90,234   United States     $ 14,86,779.44  \n18  $ 2,76,711.00      $3,560.00     48,000   United States     $ 57,64,812.50  \n19  $ 2,74,491.00     $18,110.00   3,75,235           Japan      $ 7,31,517.58  \n20  $ 2,63,310.00     $20,526.00   1,01,279          France     $ 25,99,847.94  \n21  $ 2,55,984.00     $17,320.00     81,284     Switzerland     $ 31,49,254.47  \n22  $ 2,48,891.00     -$2,487.00     67,600  United Kingdom     $ 36,81,819.53  \n23  $ 2,46,252.00     $35,465.00     43,846   United States     $ 56,16,293.39  \n24  $ 2,38,587.00      $1,699.00     41,500   United States     $ 57,49,084.34  \n25  $ 2,34,129.00     $42,398.00   2,70,372     South Korea      $ 8,65,951.36  \n26  $ 2,26,954.00      $5,844.00   3,04,000   United States      $ 7,46,559.21  \n27  $ 2,22,535.00      $4,751.00   7,67,062          Taiwan      $ 2,90,113.45  \n28  $ 2,14,766.00     $53,589.00   4,27,587           China      $ 5,02,274.39  \n29  $ 2,11,915.00     $73,307.00   2,21,000   United States      $ 8,97,149.32  ",
            "text/html": "<div>\n<style scoped>\n    .dataframe tbody tr th:only-of-type {\n        vertical-align: middle;\n    }\n\n    .dataframe tbody tr th {\n        vertical-align: top;\n    }\n\n    .dataframe thead th {\n        text-align: right;\n    }\n</style>\n<table border=\"1\" class=\"dataframe\">\n  <thead>\n    <tr style=\"text-align: right;\">\n      <th></th>\n      <th>Rank</th>\n      <th>Name</th>\n      <th>Industry</th>\n      <th>Revenue</th>\n      <th>Profit</th>\n      <th>Employees</th>\n      <th>Headquarters</th>\n      <th>Revenue per worker</th>\n    </tr>\n  </thead>\n  <tbody>\n    <tr>\n      <th>0</th>\n      <td>1</td>\n      <td>Walmart</td>\n      <td>Retail</td>\n      <td>$ 6,11,289.00</td>\n      <td>$11,680.00</td>\n      <td>21,00,000</td>\n      <td>United States</td>\n      <td>$ 2,91,090.00</td>\n    </tr>\n    <tr>\n      <th>1</th>\n      <td>2</td>\n      <td>Saudi Aramco</td>\n      <td>Oil and gas</td>\n      <td>$ 6,03,651.00</td>\n      <td>$ 1,59,069.00</td>\n      <td>70,496</td>\n      <td>Saudi Arabia</td>\n      <td>$ 85,62,911.37</td>\n    </tr>\n    <tr>\n      <th>2</th>\n      <td>3</td>\n      <td>Amazon</td>\n      <td>Retail</td>\n      <td>$ 5,74,785.00</td>\n      <td>$30,425.00</td>\n      <td>15,25,000</td>\n      <td>United States</td>\n      <td>$ 3,76,908.00</td>\n    </tr>\n    <tr>\n      <th>3</th>\n      <td>4</td>\n      <td>State Grid Corporation of China</td>\n      <td>Electricity</td>\n      <td>$ 5,30,009.00</td>\n      <td>$8,192.00</td>\n      <td>8,70,287</td>\n      <td>China</td>\n      <td>$ 6,09,004.85</td>\n    </tr>\n    <tr>\n      <th>4</th>\n      <td>5</td>\n      <td>Vitol</td>\n      <td>Commodities</td>\n      <td>$ 5,05,000.00</td>\n      <td>$15,000.00</td>\n      <td>1,560</td>\n      <td>Switzerland</td>\n      <td>$ 32,37,17,948.72</td>\n    </tr>\n    <tr>\n      <th>5</th>\n      <td>6</td>\n      <td>China National Petroleum Corporation</td>\n      <td>Oil and gas</td>\n      <td>$ 4,83,019.00</td>\n      <td>$21,080.00</td>\n      <td>10,87,049</td>\n      <td>China</td>\n      <td>$ 4,44,339.68</td>\n    </tr>\n    <tr>\n      <th>6</th>\n      <td>7</td>\n      <td>China Petrochemical Corporation</td>\n      <td>Oil and gas</td>\n      <td>$ 4,71,154.00</td>\n      <td>$9,657.00</td>\n      <td>5,27,487</td>\n      <td>China</td>\n      <td>$ 8,93,204.95</td>\n    </tr>\n    <tr>\n      <th>7</th>\n      <td>8</td>\n      <td>ExxonMobil</td>\n      <td>Oil and gas</td>\n      <td>$ 4,13,680.00</td>\n      <td>$55,740.00</td>\n      <td>63,000</td>\n      <td>United States</td>\n      <td>$ 65,66,349.21</td>\n    </tr>\n    <tr>\n      <th>8</th>\n      <td>9</td>\n      <td>Apple</td>\n      <td>Electronics</td>\n      <td>$ 3,94,328.00</td>\n      <td>$99,803.00</td>\n      <td>1,64,000</td>\n      <td>United States</td>\n      <td>$ 24,04,439.02</td>\n    </tr>\n    <tr>\n      <th>9</th>\n      <td>10</td>\n      <td>Shell</td>\n      <td>Oil and gas</td>\n      <td>$ 3,86,201.00</td>\n      <td>$20,120.00</td>\n      <td>93,000</td>\n      <td>United Kingdom</td>\n      <td>$ 41,52,698.92</td>\n    </tr>\n    <tr>\n      <th>10</th>\n      <td>11</td>\n      <td>UnitedHealth Group</td>\n      <td>Healthcare</td>\n      <td>$ 3,24,162.00</td>\n      <td>$20,120.00</td>\n      <td>4,00,000</td>\n      <td>United States</td>\n      <td>$ 8,10,405.00</td>\n    </tr>\n    <tr>\n      <th>11</th>\n      <td>12</td>\n      <td>CVS Health</td>\n      <td>Healthcare</td>\n      <td>$ 3,22,467.00</td>\n      <td>$4,149.00</td>\n      <td>2,59,500</td>\n      <td>United States</td>\n      <td>$ 12,42,647.40</td>\n    </tr>\n    <tr>\n      <th>12</th>\n      <td>13</td>\n      <td>Trafigura</td>\n      <td>Commodities</td>\n      <td>$ 3,18,476.00</td>\n      <td>$6,994.00</td>\n      <td>12,347</td>\n      <td>Singapore</td>\n      <td>$ 2,57,93,796.06</td>\n    </tr>\n    <tr>\n      <th>13</th>\n      <td>14</td>\n      <td>China State Construction Engineering</td>\n      <td>Construction</td>\n      <td>$ 3,05,885.00</td>\n      <td>$4,234.00</td>\n      <td>3,82,492</td>\n      <td>China</td>\n      <td>$ 7,99,716.07</td>\n    </tr>\n    <tr>\n      <th>14</th>\n      <td>15</td>\n      <td>Berkshire Hathaway</td>\n      <td>Financials</td>\n      <td>$ 3,02,089.00</td>\n      <td>-$22,819.00</td>\n      <td>3,83,000</td>\n      <td>United States</td>\n      <td>$ 7,88,744.13</td>\n    </tr>\n    <tr>\n      <th>15</th>\n      <td>16</td>\n      <td>Volkswagen Group</td>\n      <td>Automotive</td>\n      <td>$ 2,93,685.00</td>\n      <td>$15,233.00</td>\n      <td>6,75,805</td>\n      <td>Germany</td>\n      <td>$ 4,34,570.62</td>\n    </tr>\n    <tr>\n      <th>16</th>\n      <td>17</td>\n      <td>Uniper</td>\n      <td>Electricity</td>\n      <td>$ 2,88,309.00</td>\n      <td>-$19,961.00</td>\n      <td>7,008</td>\n      <td>Germany</td>\n      <td>$ 4,11,39,982.88</td>\n    </tr>\n    <tr>\n      <th>17</th>\n      <td>18</td>\n      <td>Alphabet</td>\n      <td>Information technology</td>\n      <td>$ 2,82,836.00</td>\n      <td>$59,972.00</td>\n      <td>1,90,234</td>\n      <td>United States</td>\n      <td>$ 14,86,779.44</td>\n    </tr>\n    <tr>\n      <th>18</th>\n      <td>19</td>\n      <td>McKesson</td>\n      <td>Healthcare</td>\n      <td>$ 2,76,711.00</td>\n      <td>$3,560.00</td>\n      <td>48,000</td>\n      <td>United States</td>\n      <td>$ 57,64,812.50</td>\n    </tr>\n    <tr>\n      <th>19</th>\n      <td>20</td>\n      <td>Toyota</td>\n      <td>Automotive</td>\n      <td>$ 2,74,491.00</td>\n      <td>$18,110.00</td>\n      <td>3,75,235</td>\n      <td>Japan</td>\n      <td>$ 7,31,517.58</td>\n    </tr>\n    <tr>\n      <th>20</th>\n      <td>21</td>\n      <td>TotalEnergies</td>\n      <td>Oil and gas</td>\n      <td>$ 2,63,310.00</td>\n      <td>$20,526.00</td>\n      <td>1,01,279</td>\n      <td>France</td>\n      <td>$ 25,99,847.94</td>\n    </tr>\n    <tr>\n      <th>21</th>\n      <td>22</td>\n      <td>Glencore</td>\n      <td>Commodities</td>\n      <td>$ 2,55,984.00</td>\n      <td>$17,320.00</td>\n      <td>81,284</td>\n      <td>Switzerland</td>\n      <td>$ 31,49,254.47</td>\n    </tr>\n    <tr>\n      <th>22</th>\n      <td>23</td>\n      <td>BP</td>\n      <td>Oil and gas</td>\n      <td>$ 2,48,891.00</td>\n      <td>-$2,487.00</td>\n      <td>67,600</td>\n      <td>United Kingdom</td>\n      <td>$ 36,81,819.53</td>\n    </tr>\n    <tr>\n      <th>23</th>\n      <td>24</td>\n      <td>Chevron</td>\n      <td>Oil and gas</td>\n      <td>$ 2,46,252.00</td>\n      <td>$35,465.00</td>\n      <td>43,846</td>\n      <td>United States</td>\n      <td>$ 56,16,293.39</td>\n    </tr>\n    <tr>\n      <th>24</th>\n      <td>25</td>\n      <td>Cencora</td>\n      <td>Healthcare</td>\n      <td>$ 2,38,587.00</td>\n      <td>$1,699.00</td>\n      <td>41,500</td>\n      <td>United States</td>\n      <td>$ 57,49,084.34</td>\n    </tr>\n    <tr>\n      <th>25</th>\n      <td>26</td>\n      <td>Samsung Electronics</td>\n      <td>Electronics</td>\n      <td>$ 2,34,129.00</td>\n      <td>$42,398.00</td>\n      <td>2,70,372</td>\n      <td>South Korea</td>\n      <td>$ 8,65,951.36</td>\n    </tr>\n    <tr>\n      <th>26</th>\n      <td>27</td>\n      <td>Costco</td>\n      <td>Retail</td>\n      <td>$ 2,26,954.00</td>\n      <td>$5,844.00</td>\n      <td>3,04,000</td>\n      <td>United States</td>\n      <td>$ 7,46,559.21</td>\n    </tr>\n    <tr>\n      <th>27</th>\n      <td>28</td>\n      <td>Foxconn</td>\n      <td>Electronics</td>\n      <td>$ 2,22,535.00</td>\n      <td>$4,751.00</td>\n      <td>7,67,062</td>\n      <td>Taiwan</td>\n      <td>$ 2,90,113.45</td>\n    </tr>\n    <tr>\n      <th>28</th>\n      <td>29</td>\n      <td>Industrial and Commercial Bank of China</td>\n      <td>Financials</td>\n      <td>$ 2,14,766.00</td>\n      <td>$53,589.00</td>\n      <td>4,27,587</td>\n      <td>China</td>\n      <td>$ 5,02,274.39</td>\n    </tr>\n    <tr>\n      <th>29</th>\n      <td>30</td>\n      <td>Microsoft</td>\n      <td>Information technology</td>\n      <td>$ 2,11,915.00</td>\n      <td>$73,307.00</td>\n      <td>2,21,000</td>\n      <td>United States</td>\n      <td>$ 8,97,149.32</td>\n    </tr>\n  </tbody>\n</table>\n</div>"
          },
          "metadata": {}
        }
      ],
      "execution_count": 8
    },
    {
      "cell_type": "code",
      "source": "df.tail()",
      "metadata": {
        "trusted": true
      },
      "outputs": [
        {
          "execution_count": 9,
          "output_type": "execute_result",
          "data": {
            "text/plain": "    Rank                 Name      Industry        Revenue      Profit  \\\n45    46                Baowu         Steel  $ 1,61,698.00   $2,493.00   \n46    47       Schwarz Gruppe        Retail  $ 1,59,800.00         ...   \n47    48     Mitsubishi Group  Conglomerate  $ 1,59,371.00   $8,723.00   \n48    49   Ford Motor Company    Automotive  $ 1,58,057.00  -$1,981.00   \n49    50  Mercedes-Benz Group    Automotive  $ 1,57,403.00  $15,252.00   \n\n   Employees   Headquarters Revenue per worker  \n45  2,45,675          China      $ 6,58,178.49  \n46  5,75,000        Germany      $ 2,77,913.04  \n47    79,706          Japan     $ 19,99,485.61  \n48  1,73,000  United States      $ 9,13,624.28  \n49  1,68,797        Germany      $ 9,32,498.80  ",
            "text/html": "<div>\n<style scoped>\n    .dataframe tbody tr th:only-of-type {\n        vertical-align: middle;\n    }\n\n    .dataframe tbody tr th {\n        vertical-align: top;\n    }\n\n    .dataframe thead th {\n        text-align: right;\n    }\n</style>\n<table border=\"1\" class=\"dataframe\">\n  <thead>\n    <tr style=\"text-align: right;\">\n      <th></th>\n      <th>Rank</th>\n      <th>Name</th>\n      <th>Industry</th>\n      <th>Revenue</th>\n      <th>Profit</th>\n      <th>Employees</th>\n      <th>Headquarters</th>\n      <th>Revenue per worker</th>\n    </tr>\n  </thead>\n  <tbody>\n    <tr>\n      <th>45</th>\n      <td>46</td>\n      <td>Baowu</td>\n      <td>Steel</td>\n      <td>$ 1,61,698.00</td>\n      <td>$2,493.00</td>\n      <td>2,45,675</td>\n      <td>China</td>\n      <td>$ 6,58,178.49</td>\n    </tr>\n    <tr>\n      <th>46</th>\n      <td>47</td>\n      <td>Schwarz Gruppe</td>\n      <td>Retail</td>\n      <td>$ 1,59,800.00</td>\n      <td>...</td>\n      <td>5,75,000</td>\n      <td>Germany</td>\n      <td>$ 2,77,913.04</td>\n    </tr>\n    <tr>\n      <th>47</th>\n      <td>48</td>\n      <td>Mitsubishi Group</td>\n      <td>Conglomerate</td>\n      <td>$ 1,59,371.00</td>\n      <td>$8,723.00</td>\n      <td>79,706</td>\n      <td>Japan</td>\n      <td>$ 19,99,485.61</td>\n    </tr>\n    <tr>\n      <th>48</th>\n      <td>49</td>\n      <td>Ford Motor Company</td>\n      <td>Automotive</td>\n      <td>$ 1,58,057.00</td>\n      <td>-$1,981.00</td>\n      <td>1,73,000</td>\n      <td>United States</td>\n      <td>$ 9,13,624.28</td>\n    </tr>\n    <tr>\n      <th>49</th>\n      <td>50</td>\n      <td>Mercedes-Benz Group</td>\n      <td>Automotive</td>\n      <td>$ 1,57,403.00</td>\n      <td>$15,252.00</td>\n      <td>1,68,797</td>\n      <td>Germany</td>\n      <td>$ 9,32,498.80</td>\n    </tr>\n  </tbody>\n</table>\n</div>"
          },
          "metadata": {}
        }
      ],
      "execution_count": 9
    },
    {
      "cell_type": "code",
      "source": "df.tail(10)",
      "metadata": {
        "trusted": true
      },
      "outputs": [
        {
          "execution_count": 10,
          "output_type": "execute_result",
          "data": {
            "text/plain": "    Rank                                     Name      Industry  \\\n40    41                            Valero Energy   Oil and gas   \n41    42                                  Gazprom   Oil and gas   \n42    43                                  Cargill  Conglomerate   \n43    44  China National Offshore Oil Corporation   Oil and gas   \n44    45   China Railway Construction Corporation  Construction   \n45    46                                    Baowu         Steel   \n46    47                           Schwarz Gruppe        Retail   \n47    48                         Mitsubishi Group  Conglomerate   \n48    49                       Ford Motor Company    Automotive   \n49    50                      Mercedes-Benz Group    Automotive   \n\n          Revenue      Profit Employees   Headquarters Revenue per worker  \n40  $ 1,71,189.00  $11,528.00     9,743  United States   $ 1,75,70,460.84  \n41  $ 1,67,832.00  $17,641.00  4,68,000         Russia      $ 3,58,615.38  \n42  $ 1,65,000.00         ...  1,55,000  United States     $ 10,64,516.13  \n43  $ 1,64,762.00  $16,988.00    81,775          China     $ 20,14,821.16  \n44  $ 1,63,037.00   $1,800.00  3,42,098          China      $ 4,76,579.81  \n45  $ 1,61,698.00   $2,493.00  2,45,675          China      $ 6,58,178.49  \n46  $ 1,59,800.00         ...  5,75,000        Germany      $ 2,77,913.04  \n47  $ 1,59,371.00   $8,723.00    79,706          Japan     $ 19,99,485.61  \n48  $ 1,58,057.00  -$1,981.00  1,73,000  United States      $ 9,13,624.28  \n49  $ 1,57,403.00  $15,252.00  1,68,797        Germany      $ 9,32,498.80  ",
            "text/html": "<div>\n<style scoped>\n    .dataframe tbody tr th:only-of-type {\n        vertical-align: middle;\n    }\n\n    .dataframe tbody tr th {\n        vertical-align: top;\n    }\n\n    .dataframe thead th {\n        text-align: right;\n    }\n</style>\n<table border=\"1\" class=\"dataframe\">\n  <thead>\n    <tr style=\"text-align: right;\">\n      <th></th>\n      <th>Rank</th>\n      <th>Name</th>\n      <th>Industry</th>\n      <th>Revenue</th>\n      <th>Profit</th>\n      <th>Employees</th>\n      <th>Headquarters</th>\n      <th>Revenue per worker</th>\n    </tr>\n  </thead>\n  <tbody>\n    <tr>\n      <th>40</th>\n      <td>41</td>\n      <td>Valero Energy</td>\n      <td>Oil and gas</td>\n      <td>$ 1,71,189.00</td>\n      <td>$11,528.00</td>\n      <td>9,743</td>\n      <td>United States</td>\n      <td>$ 1,75,70,460.84</td>\n    </tr>\n    <tr>\n      <th>41</th>\n      <td>42</td>\n      <td>Gazprom</td>\n      <td>Oil and gas</td>\n      <td>$ 1,67,832.00</td>\n      <td>$17,641.00</td>\n      <td>4,68,000</td>\n      <td>Russia</td>\n      <td>$ 3,58,615.38</td>\n    </tr>\n    <tr>\n      <th>42</th>\n      <td>43</td>\n      <td>Cargill</td>\n      <td>Conglomerate</td>\n      <td>$ 1,65,000.00</td>\n      <td>...</td>\n      <td>1,55,000</td>\n      <td>United States</td>\n      <td>$ 10,64,516.13</td>\n    </tr>\n    <tr>\n      <th>43</th>\n      <td>44</td>\n      <td>China National Offshore Oil Corporation</td>\n      <td>Oil and gas</td>\n      <td>$ 1,64,762.00</td>\n      <td>$16,988.00</td>\n      <td>81,775</td>\n      <td>China</td>\n      <td>$ 20,14,821.16</td>\n    </tr>\n    <tr>\n      <th>44</th>\n      <td>45</td>\n      <td>China Railway Construction Corporation</td>\n      <td>Construction</td>\n      <td>$ 1,63,037.00</td>\n      <td>$1,800.00</td>\n      <td>3,42,098</td>\n      <td>China</td>\n      <td>$ 4,76,579.81</td>\n    </tr>\n    <tr>\n      <th>45</th>\n      <td>46</td>\n      <td>Baowu</td>\n      <td>Steel</td>\n      <td>$ 1,61,698.00</td>\n      <td>$2,493.00</td>\n      <td>2,45,675</td>\n      <td>China</td>\n      <td>$ 6,58,178.49</td>\n    </tr>\n    <tr>\n      <th>46</th>\n      <td>47</td>\n      <td>Schwarz Gruppe</td>\n      <td>Retail</td>\n      <td>$ 1,59,800.00</td>\n      <td>...</td>\n      <td>5,75,000</td>\n      <td>Germany</td>\n      <td>$ 2,77,913.04</td>\n    </tr>\n    <tr>\n      <th>47</th>\n      <td>48</td>\n      <td>Mitsubishi Group</td>\n      <td>Conglomerate</td>\n      <td>$ 1,59,371.00</td>\n      <td>$8,723.00</td>\n      <td>79,706</td>\n      <td>Japan</td>\n      <td>$ 19,99,485.61</td>\n    </tr>\n    <tr>\n      <th>48</th>\n      <td>49</td>\n      <td>Ford Motor Company</td>\n      <td>Automotive</td>\n      <td>$ 1,58,057.00</td>\n      <td>-$1,981.00</td>\n      <td>1,73,000</td>\n      <td>United States</td>\n      <td>$ 9,13,624.28</td>\n    </tr>\n    <tr>\n      <th>49</th>\n      <td>50</td>\n      <td>Mercedes-Benz Group</td>\n      <td>Automotive</td>\n      <td>$ 1,57,403.00</td>\n      <td>$15,252.00</td>\n      <td>1,68,797</td>\n      <td>Germany</td>\n      <td>$ 9,32,498.80</td>\n    </tr>\n  </tbody>\n</table>\n</div>"
          },
          "metadata": {}
        }
      ],
      "execution_count": 10
    },
    {
      "cell_type": "code",
      "source": "df.tail(20)",
      "metadata": {
        "trusted": true
      },
      "outputs": [
        {
          "execution_count": 11,
          "output_type": "execute_result",
          "data": {
            "text/plain": "    Rank                                     Name      Industry  \\\n30    31                  China Construction Bank    Financials   \n31    32                               Stellantis    Automotive   \n32    33               Agricultural Bank of China    Financials   \n33    34                        Ping An Insurance    Financials   \n34    35                          Cardinal Health    Healthcare   \n35    36                                    Cigna    Healthcare   \n36    37                       Marathon Petroleum   Oil and gas   \n37    38                              Phillips 66   Oil and gas   \n38    39                                 Sinochem     Chemicals   \n39    40    China Railway Engineering Corporation  Construction   \n40    41                            Valero Energy   Oil and gas   \n41    42                                  Gazprom   Oil and gas   \n42    43                                  Cargill  Conglomerate   \n43    44  China National Offshore Oil Corporation   Oil and gas   \n44    45   China Railway Construction Corporation  Construction   \n45    46                                    Baowu         Steel   \n46    47                           Schwarz Gruppe        Retail   \n47    48                         Mitsubishi Group  Conglomerate   \n48    49                       Ford Motor Company    Automotive   \n49    50                      Mercedes-Benz Group    Automotive   \n\n          Revenue      Profit Employees   Headquarters Revenue per worker  \n30  $ 2,02,753.00  $48,145.00  3,76,682          China      $ 5,38,260.39  \n31  $ 1,88,888.00  $17,669.00  2,72,367    Netherlands      $ 6,93,505.45  \n32  $ 1,87,061.00  $38,524.00  4,52,258          China      $ 4,13,615.68  \n33  $ 1,81,566.00  $12,454.00  3,44,223          China      $ 5,27,466.21  \n34  $ 1,81,364.00    -$933.00    46,035  United States     $ 39,39,698.06  \n35  $ 1,80,516.00   $6,668.00    70,231  United States     $ 25,70,317.95  \n36  $ 1,80,012.00  $14,516.00    17,800  United States   $ 1,01,13,033.71  \n37  $ 1,75,702.00  $11,024.00    13,000  United States   $ 1,35,15,538.46  \n38  $ 1,73,834.00         –$1  2,20,760          China      $ 7,87,434.32  \n39  $ 1,71,669.00   $2,035.00  3,14,792          China      $ 5,45,341.05  \n40  $ 1,71,189.00  $11,528.00     9,743  United States   $ 1,75,70,460.84  \n41  $ 1,67,832.00  $17,641.00  4,68,000         Russia      $ 3,58,615.38  \n42  $ 1,65,000.00         ...  1,55,000  United States     $ 10,64,516.13  \n43  $ 1,64,762.00  $16,988.00    81,775          China     $ 20,14,821.16  \n44  $ 1,63,037.00   $1,800.00  3,42,098          China      $ 4,76,579.81  \n45  $ 1,61,698.00   $2,493.00  2,45,675          China      $ 6,58,178.49  \n46  $ 1,59,800.00         ...  5,75,000        Germany      $ 2,77,913.04  \n47  $ 1,59,371.00   $8,723.00    79,706          Japan     $ 19,99,485.61  \n48  $ 1,58,057.00  -$1,981.00  1,73,000  United States      $ 9,13,624.28  \n49  $ 1,57,403.00  $15,252.00  1,68,797        Germany      $ 9,32,498.80  ",
            "text/html": "<div>\n<style scoped>\n    .dataframe tbody tr th:only-of-type {\n        vertical-align: middle;\n    }\n\n    .dataframe tbody tr th {\n        vertical-align: top;\n    }\n\n    .dataframe thead th {\n        text-align: right;\n    }\n</style>\n<table border=\"1\" class=\"dataframe\">\n  <thead>\n    <tr style=\"text-align: right;\">\n      <th></th>\n      <th>Rank</th>\n      <th>Name</th>\n      <th>Industry</th>\n      <th>Revenue</th>\n      <th>Profit</th>\n      <th>Employees</th>\n      <th>Headquarters</th>\n      <th>Revenue per worker</th>\n    </tr>\n  </thead>\n  <tbody>\n    <tr>\n      <th>30</th>\n      <td>31</td>\n      <td>China Construction Bank</td>\n      <td>Financials</td>\n      <td>$ 2,02,753.00</td>\n      <td>$48,145.00</td>\n      <td>3,76,682</td>\n      <td>China</td>\n      <td>$ 5,38,260.39</td>\n    </tr>\n    <tr>\n      <th>31</th>\n      <td>32</td>\n      <td>Stellantis</td>\n      <td>Automotive</td>\n      <td>$ 1,88,888.00</td>\n      <td>$17,669.00</td>\n      <td>2,72,367</td>\n      <td>Netherlands</td>\n      <td>$ 6,93,505.45</td>\n    </tr>\n    <tr>\n      <th>32</th>\n      <td>33</td>\n      <td>Agricultural Bank of China</td>\n      <td>Financials</td>\n      <td>$ 1,87,061.00</td>\n      <td>$38,524.00</td>\n      <td>4,52,258</td>\n      <td>China</td>\n      <td>$ 4,13,615.68</td>\n    </tr>\n    <tr>\n      <th>33</th>\n      <td>34</td>\n      <td>Ping An Insurance</td>\n      <td>Financials</td>\n      <td>$ 1,81,566.00</td>\n      <td>$12,454.00</td>\n      <td>3,44,223</td>\n      <td>China</td>\n      <td>$ 5,27,466.21</td>\n    </tr>\n    <tr>\n      <th>34</th>\n      <td>35</td>\n      <td>Cardinal Health</td>\n      <td>Healthcare</td>\n      <td>$ 1,81,364.00</td>\n      <td>-$933.00</td>\n      <td>46,035</td>\n      <td>United States</td>\n      <td>$ 39,39,698.06</td>\n    </tr>\n    <tr>\n      <th>35</th>\n      <td>36</td>\n      <td>Cigna</td>\n      <td>Healthcare</td>\n      <td>$ 1,80,516.00</td>\n      <td>$6,668.00</td>\n      <td>70,231</td>\n      <td>United States</td>\n      <td>$ 25,70,317.95</td>\n    </tr>\n    <tr>\n      <th>36</th>\n      <td>37</td>\n      <td>Marathon Petroleum</td>\n      <td>Oil and gas</td>\n      <td>$ 1,80,012.00</td>\n      <td>$14,516.00</td>\n      <td>17,800</td>\n      <td>United States</td>\n      <td>$ 1,01,13,033.71</td>\n    </tr>\n    <tr>\n      <th>37</th>\n      <td>38</td>\n      <td>Phillips 66</td>\n      <td>Oil and gas</td>\n      <td>$ 1,75,702.00</td>\n      <td>$11,024.00</td>\n      <td>13,000</td>\n      <td>United States</td>\n      <td>$ 1,35,15,538.46</td>\n    </tr>\n    <tr>\n      <th>38</th>\n      <td>39</td>\n      <td>Sinochem</td>\n      <td>Chemicals</td>\n      <td>$ 1,73,834.00</td>\n      <td>–$1</td>\n      <td>2,20,760</td>\n      <td>China</td>\n      <td>$ 7,87,434.32</td>\n    </tr>\n    <tr>\n      <th>39</th>\n      <td>40</td>\n      <td>China Railway Engineering Corporation</td>\n      <td>Construction</td>\n      <td>$ 1,71,669.00</td>\n      <td>$2,035.00</td>\n      <td>3,14,792</td>\n      <td>China</td>\n      <td>$ 5,45,341.05</td>\n    </tr>\n    <tr>\n      <th>40</th>\n      <td>41</td>\n      <td>Valero Energy</td>\n      <td>Oil and gas</td>\n      <td>$ 1,71,189.00</td>\n      <td>$11,528.00</td>\n      <td>9,743</td>\n      <td>United States</td>\n      <td>$ 1,75,70,460.84</td>\n    </tr>\n    <tr>\n      <th>41</th>\n      <td>42</td>\n      <td>Gazprom</td>\n      <td>Oil and gas</td>\n      <td>$ 1,67,832.00</td>\n      <td>$17,641.00</td>\n      <td>4,68,000</td>\n      <td>Russia</td>\n      <td>$ 3,58,615.38</td>\n    </tr>\n    <tr>\n      <th>42</th>\n      <td>43</td>\n      <td>Cargill</td>\n      <td>Conglomerate</td>\n      <td>$ 1,65,000.00</td>\n      <td>...</td>\n      <td>1,55,000</td>\n      <td>United States</td>\n      <td>$ 10,64,516.13</td>\n    </tr>\n    <tr>\n      <th>43</th>\n      <td>44</td>\n      <td>China National Offshore Oil Corporation</td>\n      <td>Oil and gas</td>\n      <td>$ 1,64,762.00</td>\n      <td>$16,988.00</td>\n      <td>81,775</td>\n      <td>China</td>\n      <td>$ 20,14,821.16</td>\n    </tr>\n    <tr>\n      <th>44</th>\n      <td>45</td>\n      <td>China Railway Construction Corporation</td>\n      <td>Construction</td>\n      <td>$ 1,63,037.00</td>\n      <td>$1,800.00</td>\n      <td>3,42,098</td>\n      <td>China</td>\n      <td>$ 4,76,579.81</td>\n    </tr>\n    <tr>\n      <th>45</th>\n      <td>46</td>\n      <td>Baowu</td>\n      <td>Steel</td>\n      <td>$ 1,61,698.00</td>\n      <td>$2,493.00</td>\n      <td>2,45,675</td>\n      <td>China</td>\n      <td>$ 6,58,178.49</td>\n    </tr>\n    <tr>\n      <th>46</th>\n      <td>47</td>\n      <td>Schwarz Gruppe</td>\n      <td>Retail</td>\n      <td>$ 1,59,800.00</td>\n      <td>...</td>\n      <td>5,75,000</td>\n      <td>Germany</td>\n      <td>$ 2,77,913.04</td>\n    </tr>\n    <tr>\n      <th>47</th>\n      <td>48</td>\n      <td>Mitsubishi Group</td>\n      <td>Conglomerate</td>\n      <td>$ 1,59,371.00</td>\n      <td>$8,723.00</td>\n      <td>79,706</td>\n      <td>Japan</td>\n      <td>$ 19,99,485.61</td>\n    </tr>\n    <tr>\n      <th>48</th>\n      <td>49</td>\n      <td>Ford Motor Company</td>\n      <td>Automotive</td>\n      <td>$ 1,58,057.00</td>\n      <td>-$1,981.00</td>\n      <td>1,73,000</td>\n      <td>United States</td>\n      <td>$ 9,13,624.28</td>\n    </tr>\n    <tr>\n      <th>49</th>\n      <td>50</td>\n      <td>Mercedes-Benz Group</td>\n      <td>Automotive</td>\n      <td>$ 1,57,403.00</td>\n      <td>$15,252.00</td>\n      <td>1,68,797</td>\n      <td>Germany</td>\n      <td>$ 9,32,498.80</td>\n    </tr>\n  </tbody>\n</table>\n</div>"
          },
          "metadata": {}
        }
      ],
      "execution_count": 11
    },
    {
      "cell_type": "code",
      "source": "df['Rank'].dtype",
      "metadata": {
        "trusted": true
      },
      "outputs": [
        {
          "execution_count": 12,
          "output_type": "execute_result",
          "data": {
            "text/plain": "dtype('int64')"
          },
          "metadata": {}
        }
      ],
      "execution_count": 12
    },
    {
      "cell_type": "code",
      "source": "df['Name'].dtype",
      "metadata": {
        "trusted": true
      },
      "outputs": [
        {
          "execution_count": 13,
          "output_type": "execute_result",
          "data": {
            "text/plain": "dtype('O')"
          },
          "metadata": {}
        }
      ],
      "execution_count": 13
    },
    {
      "cell_type": "code",
      "source": "df.head()",
      "metadata": {
        "trusted": true
      },
      "outputs": [
        {
          "execution_count": 14,
          "output_type": "execute_result",
          "data": {
            "text/plain": "   Rank                             Name     Industry        Revenue  \\\n0     1                          Walmart       Retail  $ 6,11,289.00   \n1     2                     Saudi Aramco  Oil and gas  $ 6,03,651.00   \n2     3                           Amazon       Retail  $ 5,74,785.00   \n3     4  State Grid Corporation of China  Electricity  $ 5,30,009.00   \n4     5                            Vitol  Commodities  $ 5,05,000.00   \n\n          Profit  Employees   Headquarters Revenue per worker  \n0     $11,680.00  21,00,000  United States      $ 2,91,090.00  \n1  $ 1,59,069.00     70,496   Saudi Arabia     $ 85,62,911.37  \n2     $30,425.00  15,25,000  United States      $ 3,76,908.00  \n3      $8,192.00   8,70,287          China      $ 6,09,004.85  \n4     $15,000.00      1,560    Switzerland  $ 32,37,17,948.72  ",
            "text/html": "<div>\n<style scoped>\n    .dataframe tbody tr th:only-of-type {\n        vertical-align: middle;\n    }\n\n    .dataframe tbody tr th {\n        vertical-align: top;\n    }\n\n    .dataframe thead th {\n        text-align: right;\n    }\n</style>\n<table border=\"1\" class=\"dataframe\">\n  <thead>\n    <tr style=\"text-align: right;\">\n      <th></th>\n      <th>Rank</th>\n      <th>Name</th>\n      <th>Industry</th>\n      <th>Revenue</th>\n      <th>Profit</th>\n      <th>Employees</th>\n      <th>Headquarters</th>\n      <th>Revenue per worker</th>\n    </tr>\n  </thead>\n  <tbody>\n    <tr>\n      <th>0</th>\n      <td>1</td>\n      <td>Walmart</td>\n      <td>Retail</td>\n      <td>$ 6,11,289.00</td>\n      <td>$11,680.00</td>\n      <td>21,00,000</td>\n      <td>United States</td>\n      <td>$ 2,91,090.00</td>\n    </tr>\n    <tr>\n      <th>1</th>\n      <td>2</td>\n      <td>Saudi Aramco</td>\n      <td>Oil and gas</td>\n      <td>$ 6,03,651.00</td>\n      <td>$ 1,59,069.00</td>\n      <td>70,496</td>\n      <td>Saudi Arabia</td>\n      <td>$ 85,62,911.37</td>\n    </tr>\n    <tr>\n      <th>2</th>\n      <td>3</td>\n      <td>Amazon</td>\n      <td>Retail</td>\n      <td>$ 5,74,785.00</td>\n      <td>$30,425.00</td>\n      <td>15,25,000</td>\n      <td>United States</td>\n      <td>$ 3,76,908.00</td>\n    </tr>\n    <tr>\n      <th>3</th>\n      <td>4</td>\n      <td>State Grid Corporation of China</td>\n      <td>Electricity</td>\n      <td>$ 5,30,009.00</td>\n      <td>$8,192.00</td>\n      <td>8,70,287</td>\n      <td>China</td>\n      <td>$ 6,09,004.85</td>\n    </tr>\n    <tr>\n      <th>4</th>\n      <td>5</td>\n      <td>Vitol</td>\n      <td>Commodities</td>\n      <td>$ 5,05,000.00</td>\n      <td>$15,000.00</td>\n      <td>1,560</td>\n      <td>Switzerland</td>\n      <td>$ 32,37,17,948.72</td>\n    </tr>\n  </tbody>\n</table>\n</div>"
          },
          "metadata": {}
        }
      ],
      "execution_count": 14
    },
    {
      "cell_type": "code",
      "source": "df['Name'].dtype",
      "metadata": {
        "trusted": true
      },
      "outputs": [
        {
          "execution_count": 15,
          "output_type": "execute_result",
          "data": {
            "text/plain": "dtype('O')"
          },
          "metadata": {}
        }
      ],
      "execution_count": 15
    },
    {
      "cell_type": "code",
      "source": "df['Revenue'].dtype",
      "metadata": {
        "trusted": true
      },
      "outputs": [
        {
          "execution_count": 16,
          "output_type": "execute_result",
          "data": {
            "text/plain": "dtype('O')"
          },
          "metadata": {}
        }
      ],
      "execution_count": 16
    },
    {
      "cell_type": "code",
      "source": "df.dtypes",
      "metadata": {
        "trusted": true
      },
      "outputs": [
        {
          "execution_count": 17,
          "output_type": "execute_result",
          "data": {
            "text/plain": "Rank                   int64\nName                  object\nIndustry              object\nRevenue               object\nProfit                object\nEmployees             object\nHeadquarters          object\nRevenue per worker    object\ndtype: object"
          },
          "metadata": {}
        }
      ],
      "execution_count": 17
    },
    {
      "cell_type": "code",
      "source": "",
      "metadata": {
        "trusted": true
      },
      "outputs": [],
      "execution_count": null
    },
    {
      "cell_type": "code",
      "source": "len(df)",
      "metadata": {
        "trusted": true
      },
      "outputs": [
        {
          "execution_count": 19,
          "output_type": "execute_result",
          "data": {
            "text/plain": "50"
          },
          "metadata": {}
        }
      ],
      "execution_count": 19
    },
    {
      "cell_type": "code",
      "source": "df.columns",
      "metadata": {
        "trusted": true
      },
      "outputs": [
        {
          "execution_count": 20,
          "output_type": "execute_result",
          "data": {
            "text/plain": "Index(['Rank', 'Name', 'Industry', 'Revenue', 'Profit', 'Employees',\n       'Headquarters', 'Revenue per worker'],\n      dtype='object')"
          },
          "metadata": {}
        }
      ],
      "execution_count": 20
    },
    {
      "cell_type": "code",
      "source": "df.axes",
      "metadata": {
        "trusted": true
      },
      "outputs": [
        {
          "execution_count": 21,
          "output_type": "execute_result",
          "data": {
            "text/plain": "[RangeIndex(start=0, stop=50, step=1),\n Index(['Rank', 'Name', 'Industry', 'Revenue', 'Profit', 'Employees',\n        'Headquarters', 'Revenue per worker'],\n       dtype='object')]"
          },
          "metadata": {}
        }
      ],
      "execution_count": 21
    },
    {
      "cell_type": "code",
      "source": "df.ndim",
      "metadata": {
        "trusted": true
      },
      "outputs": [
        {
          "execution_count": 22,
          "output_type": "execute_result",
          "data": {
            "text/plain": "2"
          },
          "metadata": {}
        }
      ],
      "execution_count": 22
    },
    {
      "cell_type": "code",
      "source": "df.size",
      "metadata": {
        "trusted": true
      },
      "outputs": [
        {
          "execution_count": 23,
          "output_type": "execute_result",
          "data": {
            "text/plain": "400"
          },
          "metadata": {}
        }
      ],
      "execution_count": 23
    },
    {
      "cell_type": "code",
      "source": "df.shape",
      "metadata": {
        "trusted": true
      },
      "outputs": [
        {
          "execution_count": 24,
          "output_type": "execute_result",
          "data": {
            "text/plain": "(50, 8)"
          },
          "metadata": {}
        }
      ],
      "execution_count": 24
    },
    {
      "cell_type": "code",
      "source": "df.values",
      "metadata": {
        "trusted": true
      },
      "outputs": [
        {
          "execution_count": 25,
          "output_type": "execute_result",
          "data": {
            "text/plain": "array([[1, 'Walmart', 'Retail', '$\\xa06,11,289.00', '$11,680.00',\n        '21,00,000', 'United States', '$\\xa02,91,090.00'],\n       [2, 'Saudi Aramco', 'Oil and gas', '$\\xa06,03,651.00',\n        '$\\xa01,59,069.00', '70,496', 'Saudi Arabia',\n        '$\\xa085,62,911.37'],\n       [3, 'Amazon', 'Retail', '$\\xa05,74,785.00', '$30,425.00',\n        '15,25,000', 'United States', '$\\xa03,76,908.00'],\n       [4, 'State Grid Corporation of China', 'Electricity',\n        '$\\xa05,30,009.00', '$8,192.00', '8,70,287', 'China',\n        '$\\xa06,09,004.85'],\n       [5, 'Vitol', 'Commodities', '$\\xa05,05,000.00', '$15,000.00',\n        '1,560', 'Switzerland', '$\\xa032,37,17,948.72'],\n       [6, 'China National Petroleum Corporation', 'Oil and gas',\n        '$\\xa04,83,019.00', '$21,080.00', '10,87,049', 'China',\n        '$\\xa04,44,339.68'],\n       [7, 'China Petrochemical Corporation', 'Oil and gas',\n        '$\\xa04,71,154.00', '$9,657.00', '5,27,487', 'China',\n        '$\\xa08,93,204.95'],\n       [8, 'ExxonMobil', 'Oil and gas', '$\\xa04,13,680.00', '$55,740.00',\n        '63,000', 'United States', '$\\xa065,66,349.21'],\n       [9, 'Apple', 'Electronics', '$\\xa03,94,328.00', '$99,803.00',\n        '1,64,000', 'United States', '$\\xa024,04,439.02'],\n       [10, 'Shell', 'Oil and gas', '$\\xa03,86,201.00', '$20,120.00',\n        '93,000', 'United Kingdom', '$\\xa041,52,698.92'],\n       [11, 'UnitedHealth Group', 'Healthcare', '$\\xa03,24,162.00',\n        '$20,120.00', '4,00,000', 'United States', '$\\xa08,10,405.00'],\n       [12, 'CVS Health', 'Healthcare', '$\\xa03,22,467.00', '$4,149.00',\n        '2,59,500', 'United States', '$\\xa012,42,647.40'],\n       [13, 'Trafigura', 'Commodities', '$\\xa03,18,476.00', '$6,994.00',\n        '12,347', 'Singapore', '$\\xa02,57,93,796.06'],\n       [14, 'China State Construction Engineering', 'Construction',\n        '$\\xa03,05,885.00', '$4,234.00', '3,82,492', 'China',\n        '$\\xa07,99,716.07'],\n       [15, 'Berkshire Hathaway', 'Financials', '$\\xa03,02,089.00',\n        '-$22,819.00', '3,83,000', 'United States', '$\\xa07,88,744.13'],\n       [16, 'Volkswagen Group', 'Automotive', '$\\xa02,93,685.00',\n        '$15,233.00', '6,75,805', 'Germany', '$\\xa04,34,570.62'],\n       [17, 'Uniper', 'Electricity', '$\\xa02,88,309.00', '-$19,961.00',\n        '7,008', 'Germany', '$\\xa04,11,39,982.88'],\n       [18, 'Alphabet', 'Information technology', '$\\xa02,82,836.00',\n        '$59,972.00', '1,90,234', 'United States', '$\\xa014,86,779.44'],\n       [19, 'McKesson', 'Healthcare', '$\\xa02,76,711.00', '$3,560.00',\n        '48,000', 'United States', '$\\xa057,64,812.50'],\n       [20, 'Toyota', 'Automotive', '$\\xa02,74,491.00', '$18,110.00',\n        '3,75,235', 'Japan', '$\\xa07,31,517.58'],\n       [21, 'TotalEnergies', 'Oil and gas', '$\\xa02,63,310.00',\n        '$20,526.00', '1,01,279', 'France', '$\\xa025,99,847.94'],\n       [22, 'Glencore', 'Commodities', '$\\xa02,55,984.00', '$17,320.00',\n        '81,284', 'Switzerland', '$\\xa031,49,254.47'],\n       [23, 'BP', 'Oil and gas', '$\\xa02,48,891.00', '-$2,487.00',\n        '67,600', 'United Kingdom', '$\\xa036,81,819.53'],\n       [24, 'Chevron', 'Oil and gas', '$\\xa02,46,252.00', '$35,465.00',\n        '43,846', 'United States', '$\\xa056,16,293.39'],\n       [25, 'Cencora', 'Healthcare', '$\\xa02,38,587.00', '$1,699.00',\n        '41,500', 'United States', '$\\xa057,49,084.34'],\n       [26, 'Samsung Electronics', 'Electronics', '$\\xa02,34,129.00',\n        '$42,398.00', '2,70,372', 'South Korea', '$\\xa08,65,951.36'],\n       [27, 'Costco', 'Retail', '$\\xa02,26,954.00', '$5,844.00',\n        '3,04,000', 'United States', '$\\xa07,46,559.21'],\n       [28, 'Foxconn', 'Electronics', '$\\xa02,22,535.00', '$4,751.00',\n        '7,67,062', 'Taiwan', '$\\xa02,90,113.45'],\n       [29, 'Industrial and Commercial Bank of China', 'Financials',\n        '$\\xa02,14,766.00', '$53,589.00', '4,27,587', 'China',\n        '$\\xa05,02,274.39'],\n       [30, 'Microsoft', 'Information technology', '$\\xa02,11,915.00',\n        '$73,307.00', '2,21,000', 'United States', '$\\xa08,97,149.32'],\n       [31, 'China Construction Bank', 'Financials', '$\\xa02,02,753.00',\n        '$48,145.00', '3,76,682', 'China', '$\\xa05,38,260.39'],\n       [32, 'Stellantis', 'Automotive', '$\\xa01,88,888.00', '$17,669.00',\n        '2,72,367', 'Netherlands', '$\\xa06,93,505.45'],\n       [33, 'Agricultural Bank of China', 'Financials',\n        '$\\xa01,87,061.00', '$38,524.00', '4,52,258', 'China',\n        '$\\xa04,13,615.68'],\n       [34, 'Ping An Insurance', 'Financials', '$\\xa01,81,566.00',\n        '$12,454.00', '3,44,223', 'China', '$\\xa05,27,466.21'],\n       [35, 'Cardinal Health', 'Healthcare', '$\\xa01,81,364.00',\n        '-$933.00', '46,035', 'United States', '$\\xa039,39,698.06'],\n       [36, 'Cigna', 'Healthcare', '$\\xa01,80,516.00', '$6,668.00',\n        '70,231', 'United States', '$\\xa025,70,317.95'],\n       [37, 'Marathon Petroleum', 'Oil and gas', '$\\xa01,80,012.00',\n        '$14,516.00', '17,800', 'United States', '$\\xa01,01,13,033.71'],\n       [38, 'Phillips 66', 'Oil and gas', '$\\xa01,75,702.00',\n        '$11,024.00', '13,000', 'United States', '$\\xa01,35,15,538.46'],\n       [39, 'Sinochem', 'Chemicals', '$\\xa01,73,834.00', '–$1',\n        '2,20,760', 'China', '$\\xa07,87,434.32'],\n       [40, 'China Railway Engineering Corporation', 'Construction',\n        '$\\xa01,71,669.00', '$2,035.00', '3,14,792', 'China',\n        '$\\xa05,45,341.05'],\n       [41, 'Valero Energy', 'Oil and gas', '$\\xa01,71,189.00',\n        '$11,528.00', '9,743', 'United States', '$\\xa01,75,70,460.84'],\n       [42, 'Gazprom', 'Oil and gas', '$\\xa01,67,832.00', '$17,641.00',\n        '4,68,000', 'Russia', '$\\xa03,58,615.38'],\n       [43, 'Cargill', 'Conglomerate', '$\\xa01,65,000.00', '...',\n        '1,55,000', 'United States', '$\\xa010,64,516.13'],\n       [44, 'China National Offshore Oil Corporation', 'Oil and gas',\n        '$\\xa01,64,762.00', '$16,988.00', '81,775', 'China',\n        '$\\xa020,14,821.16'],\n       [45, 'China Railway Construction Corporation', 'Construction',\n        '$\\xa01,63,037.00', '$1,800.00', '3,42,098', 'China',\n        '$\\xa04,76,579.81'],\n       [46, 'Baowu', 'Steel', '$\\xa01,61,698.00', '$2,493.00',\n        '2,45,675', 'China', '$\\xa06,58,178.49'],\n       [47, 'Schwarz Gruppe', 'Retail', '$\\xa01,59,800.00', '...',\n        '5,75,000', 'Germany', '$\\xa02,77,913.04'],\n       [48, 'Mitsubishi Group', 'Conglomerate', '$\\xa01,59,371.00',\n        '$8,723.00', '79,706', 'Japan', '$\\xa019,99,485.61'],\n       [49, 'Ford Motor Company', 'Automotive', '$\\xa01,58,057.00',\n        '-$1,981.00', '1,73,000', 'United States', '$\\xa09,13,624.28'],\n       [50, 'Mercedes-Benz Group', 'Automotive', '$\\xa01,57,403.00',\n        '$15,252.00', '1,68,797', 'Germany', '$\\xa09,32,498.80']],\n      dtype=object)"
          },
          "metadata": {}
        }
      ],
      "execution_count": 25
    },
    {
      "cell_type": "code",
      "source": "len(df)",
      "metadata": {
        "trusted": true
      },
      "outputs": [
        {
          "execution_count": 26,
          "output_type": "execute_result",
          "data": {
            "text/plain": "50"
          },
          "metadata": {}
        }
      ],
      "execution_count": 26
    },
    {
      "cell_type": "code",
      "source": "df.describe()",
      "metadata": {
        "trusted": true
      },
      "outputs": [
        {
          "execution_count": 27,
          "output_type": "execute_result",
          "data": {
            "text/plain": "           Rank\ncount  50.00000\nmean   25.50000\nstd    14.57738\nmin     1.00000\n25%    13.25000\n50%    25.50000\n75%    37.75000\nmax    50.00000",
            "text/html": "<div>\n<style scoped>\n    .dataframe tbody tr th:only-of-type {\n        vertical-align: middle;\n    }\n\n    .dataframe tbody tr th {\n        vertical-align: top;\n    }\n\n    .dataframe thead th {\n        text-align: right;\n    }\n</style>\n<table border=\"1\" class=\"dataframe\">\n  <thead>\n    <tr style=\"text-align: right;\">\n      <th></th>\n      <th>Rank</th>\n    </tr>\n  </thead>\n  <tbody>\n    <tr>\n      <th>count</th>\n      <td>50.00000</td>\n    </tr>\n    <tr>\n      <th>mean</th>\n      <td>25.50000</td>\n    </tr>\n    <tr>\n      <th>std</th>\n      <td>14.57738</td>\n    </tr>\n    <tr>\n      <th>min</th>\n      <td>1.00000</td>\n    </tr>\n    <tr>\n      <th>25%</th>\n      <td>13.25000</td>\n    </tr>\n    <tr>\n      <th>50%</th>\n      <td>25.50000</td>\n    </tr>\n    <tr>\n      <th>75%</th>\n      <td>37.75000</td>\n    </tr>\n    <tr>\n      <th>max</th>\n      <td>50.00000</td>\n    </tr>\n  </tbody>\n</table>\n</div>"
          },
          "metadata": {}
        }
      ],
      "execution_count": 27
    },
    {
      "cell_type": "code",
      "source": "df.max()",
      "metadata": {
        "trusted": true
      },
      "outputs": [
        {
          "execution_count": 28,
          "output_type": "execute_result",
          "data": {
            "text/plain": "Rank                             50\nName                        Walmart\nIndustry                      Steel\nRevenue               $ 6,11,289.00\nProfit                          –$1\nEmployees                    93,000\nHeadquarters          United States\nRevenue per worker    $ 9,32,498.80\ndtype: object"
          },
          "metadata": {}
        }
      ],
      "execution_count": 28
    },
    {
      "cell_type": "code",
      "source": "df.min()",
      "metadata": {
        "trusted": true
      },
      "outputs": [
        {
          "execution_count": 29,
          "output_type": "execute_result",
          "data": {
            "text/plain": "Rank                                           1\nName                  Agricultural Bank of China\nIndustry                              Automotive\nRevenue                            $ 1,57,403.00\nProfit                                 $1,699.00\nEmployees                               1,01,279\nHeadquarters                               China\nRevenue per worker              $ 1,01,13,033.71\ndtype: object"
          },
          "metadata": {}
        }
      ],
      "execution_count": 29
    },
    {
      "cell_type": "code",
      "source": "import pandas as pd",
      "metadata": {
        "trusted": true
      },
      "outputs": [
        {
          "name": "stderr",
          "text": "<ipython-input-2-7dd3504c366f>:1: DeprecationWarning: \nPyarrow will become a required dependency of pandas in the next major release of pandas (pandas 3.0),\n(to allow more performant data types, such as the Arrow string type, and better interoperability with other libraries)\nbut was not found to be installed on your system.\nIf this would cause problems for you,\nplease provide us feedback at https://github.com/pandas-dev/pandas/issues/54466\n        \n  import pandas as pd\n",
          "output_type": "stream"
        }
      ],
      "execution_count": 2
    },
    {
      "cell_type": "code",
      "source": "df = pd.read_csv(\"testfile.csv\")",
      "metadata": {
        "trusted": true
      },
      "outputs": [],
      "execution_count": 3
    },
    {
      "cell_type": "code",
      "source": "df = pd.DataFrame()",
      "metadata": {
        "trusted": true
      },
      "outputs": [],
      "execution_count": 6
    },
    {
      "cell_type": "code",
      "source": "df.mean()",
      "metadata": {
        "trusted": true
      },
      "outputs": [
        {
          "execution_count": 7,
          "output_type": "execute_result",
          "data": {
            "text/plain": "Series([], dtype: float64)"
          },
          "metadata": {}
        }
      ],
      "execution_count": 7
    },
    {
      "cell_type": "code",
      "source": "df = pd.read_csv(\"testfile.csv\")",
      "metadata": {
        "trusted": true
      },
      "outputs": [],
      "execution_count": 8
    },
    {
      "cell_type": "code",
      "source": "df['Rank'].mean()",
      "metadata": {
        "trusted": true
      },
      "outputs": [
        {
          "execution_count": 12,
          "output_type": "execute_result",
          "data": {
            "text/plain": "25.5"
          },
          "metadata": {}
        }
      ],
      "execution_count": 12
    },
    {
      "cell_type": "code",
      "source": "df['Rank'].median()",
      "metadata": {
        "trusted": true
      },
      "outputs": [
        {
          "execution_count": 13,
          "output_type": "execute_result",
          "data": {
            "text/plain": "25.5"
          },
          "metadata": {}
        }
      ],
      "execution_count": 13
    },
    {
      "cell_type": "code",
      "source": "import pandas as pd\ndf = pd.read_csv(\"testfile.csv\")",
      "metadata": {
        "trusted": true
      },
      "outputs": [
        {
          "name": "stderr",
          "text": "<ipython-input-3-24243c58d786>:1: DeprecationWarning: \nPyarrow will become a required dependency of pandas in the next major release of pandas (pandas 3.0),\n(to allow more performant data types, such as the Arrow string type, and better interoperability with other libraries)\nbut was not found to be installed on your system.\nIf this would cause problems for you,\nplease provide us feedback at https://github.com/pandas-dev/pandas/issues/54466\n        \n  import pandas as pd\n",
          "output_type": "stream"
        }
      ],
      "execution_count": 3
    },
    {
      "cell_type": "code",
      "source": "df['Rank'].std()",
      "metadata": {
        "trusted": true
      },
      "outputs": [
        {
          "execution_count": 4,
          "output_type": "execute_result",
          "data": {
            "text/plain": "14.577379737113251"
          },
          "metadata": {}
        }
      ],
      "execution_count": 4
    },
    {
      "cell_type": "code",
      "source": "df.head()",
      "metadata": {
        "trusted": true
      },
      "outputs": [
        {
          "execution_count": 5,
          "output_type": "execute_result",
          "data": {
            "text/plain": "   Rank                             Name     Industry        Revenue  \\\n0     1                          Walmart       Retail  $ 6,11,289.00   \n1     2                     Saudi Aramco  Oil and gas  $ 6,03,651.00   \n2     3                           Amazon       Retail  $ 5,74,785.00   \n3     4  State Grid Corporation of China  Electricity  $ 5,30,009.00   \n4     5                            Vitol  Commodities  $ 5,05,000.00   \n\n          Profit  Employees   Headquarters Revenue per worker  \n0     $11,680.00  21,00,000  United States      $ 2,91,090.00  \n1  $ 1,59,069.00     70,496   Saudi Arabia     $ 85,62,911.37  \n2     $30,425.00  15,25,000  United States      $ 3,76,908.00  \n3      $8,192.00   8,70,287          China      $ 6,09,004.85  \n4     $15,000.00      1,560    Switzerland  $ 32,37,17,948.72  ",
            "text/html": "<div>\n<style scoped>\n    .dataframe tbody tr th:only-of-type {\n        vertical-align: middle;\n    }\n\n    .dataframe tbody tr th {\n        vertical-align: top;\n    }\n\n    .dataframe thead th {\n        text-align: right;\n    }\n</style>\n<table border=\"1\" class=\"dataframe\">\n  <thead>\n    <tr style=\"text-align: right;\">\n      <th></th>\n      <th>Rank</th>\n      <th>Name</th>\n      <th>Industry</th>\n      <th>Revenue</th>\n      <th>Profit</th>\n      <th>Employees</th>\n      <th>Headquarters</th>\n      <th>Revenue per worker</th>\n    </tr>\n  </thead>\n  <tbody>\n    <tr>\n      <th>0</th>\n      <td>1</td>\n      <td>Walmart</td>\n      <td>Retail</td>\n      <td>$ 6,11,289.00</td>\n      <td>$11,680.00</td>\n      <td>21,00,000</td>\n      <td>United States</td>\n      <td>$ 2,91,090.00</td>\n    </tr>\n    <tr>\n      <th>1</th>\n      <td>2</td>\n      <td>Saudi Aramco</td>\n      <td>Oil and gas</td>\n      <td>$ 6,03,651.00</td>\n      <td>$ 1,59,069.00</td>\n      <td>70,496</td>\n      <td>Saudi Arabia</td>\n      <td>$ 85,62,911.37</td>\n    </tr>\n    <tr>\n      <th>2</th>\n      <td>3</td>\n      <td>Amazon</td>\n      <td>Retail</td>\n      <td>$ 5,74,785.00</td>\n      <td>$30,425.00</td>\n      <td>15,25,000</td>\n      <td>United States</td>\n      <td>$ 3,76,908.00</td>\n    </tr>\n    <tr>\n      <th>3</th>\n      <td>4</td>\n      <td>State Grid Corporation of China</td>\n      <td>Electricity</td>\n      <td>$ 5,30,009.00</td>\n      <td>$8,192.00</td>\n      <td>8,70,287</td>\n      <td>China</td>\n      <td>$ 6,09,004.85</td>\n    </tr>\n    <tr>\n      <th>4</th>\n      <td>5</td>\n      <td>Vitol</td>\n      <td>Commodities</td>\n      <td>$ 5,05,000.00</td>\n      <td>$15,000.00</td>\n      <td>1,560</td>\n      <td>Switzerland</td>\n      <td>$ 32,37,17,948.72</td>\n    </tr>\n  </tbody>\n</table>\n</div>"
          },
          "metadata": {}
        }
      ],
      "execution_count": 5
    },
    {
      "cell_type": "code",
      "source": "df.sample([10])",
      "metadata": {
        "trusted": true
      },
      "outputs": [
        {
          "ename": "<class 'TypeError'>",
          "evalue": "'<' not supported between instances of 'list' and 'int'",
          "traceback": [
            "\u001b[0;31m---------------------------------------------------------------------------\u001b[0m",
            "\u001b[0;31mTypeError\u001b[0m                                 Traceback (most recent call last)",
            "Cell \u001b[0;32mIn[9], line 1\u001b[0m\n\u001b[0;32m----> 1\u001b[0m \u001b[43mdf\u001b[49m\u001b[38;5;241;43m.\u001b[39;49m\u001b[43msample\u001b[49m\u001b[43m(\u001b[49m\u001b[43m[\u001b[49m\u001b[38;5;241;43m10\u001b[39;49m\u001b[43m]\u001b[49m\u001b[43m)\u001b[49m\n",
            "File \u001b[0;32m/lib/python3.12/site-packages/pandas/core/generic.py:6104\u001b[0m, in \u001b[0;36mNDFrame.sample\u001b[0;34m(self, n, frac, replace, weights, random_state, axis, ignore_index)\u001b[0m\n\u001b[1;32m   6101\u001b[0m \u001b[38;5;66;03m# Process random_state argument\u001b[39;00m\n\u001b[1;32m   6102\u001b[0m rs \u001b[38;5;241m=\u001b[39m common\u001b[38;5;241m.\u001b[39mrandom_state(random_state)\n\u001b[0;32m-> 6104\u001b[0m size \u001b[38;5;241m=\u001b[39m \u001b[43msample\u001b[49m\u001b[38;5;241;43m.\u001b[39;49m\u001b[43mprocess_sampling_size\u001b[49m\u001b[43m(\u001b[49m\u001b[43mn\u001b[49m\u001b[43m,\u001b[49m\u001b[43m \u001b[49m\u001b[43mfrac\u001b[49m\u001b[43m,\u001b[49m\u001b[43m \u001b[49m\u001b[43mreplace\u001b[49m\u001b[43m)\u001b[49m\n\u001b[1;32m   6105\u001b[0m \u001b[38;5;28;01mif\u001b[39;00m size \u001b[38;5;129;01mis\u001b[39;00m \u001b[38;5;28;01mNone\u001b[39;00m:\n\u001b[1;32m   6106\u001b[0m     \u001b[38;5;28;01massert\u001b[39;00m frac \u001b[38;5;129;01mis\u001b[39;00m \u001b[38;5;129;01mnot\u001b[39;00m \u001b[38;5;28;01mNone\u001b[39;00m\n",
            "File \u001b[0;32m/lib/python3.12/site-packages/pandas/core/sample.py:96\u001b[0m, in \u001b[0;36mprocess_sampling_size\u001b[0;34m(n, frac, replace)\u001b[0m\n\u001b[1;32m     94\u001b[0m     \u001b[38;5;28;01mraise\u001b[39;00m \u001b[38;5;167;01mValueError\u001b[39;00m(\u001b[38;5;124m\"\u001b[39m\u001b[38;5;124mPlease enter a value for `frac` OR `n`, not both\u001b[39m\u001b[38;5;124m\"\u001b[39m)\n\u001b[1;32m     95\u001b[0m \u001b[38;5;28;01melif\u001b[39;00m n \u001b[38;5;129;01mis\u001b[39;00m \u001b[38;5;129;01mnot\u001b[39;00m \u001b[38;5;28;01mNone\u001b[39;00m:\n\u001b[0;32m---> 96\u001b[0m     \u001b[38;5;28;01mif\u001b[39;00m \u001b[43mn\u001b[49m\u001b[43m \u001b[49m\u001b[38;5;241;43m<\u001b[39;49m\u001b[43m \u001b[49m\u001b[38;5;241;43m0\u001b[39;49m:\n\u001b[1;32m     97\u001b[0m         \u001b[38;5;28;01mraise\u001b[39;00m \u001b[38;5;167;01mValueError\u001b[39;00m(\n\u001b[1;32m     98\u001b[0m             \u001b[38;5;124m\"\u001b[39m\u001b[38;5;124mA negative number of rows requested. Please provide `n` >= 0.\u001b[39m\u001b[38;5;124m\"\u001b[39m\n\u001b[1;32m     99\u001b[0m         )\n\u001b[1;32m    100\u001b[0m     \u001b[38;5;28;01mif\u001b[39;00m n \u001b[38;5;241m%\u001b[39m \u001b[38;5;241m1\u001b[39m \u001b[38;5;241m!=\u001b[39m \u001b[38;5;241m0\u001b[39m:\n",
            "\u001b[0;31mTypeError\u001b[0m: '<' not supported between instances of 'list' and 'int'"
          ],
          "output_type": "error"
        }
      ],
      "execution_count": 9
    },
    {
      "cell_type": "code",
      "source": "df.dropna()",
      "metadata": {
        "trusted": true
      },
      "outputs": [
        {
          "execution_count": 10,
          "output_type": "execute_result",
          "data": {
            "text/plain": "    Rank                                     Name                Industry  \\\n0      1                                  Walmart                  Retail   \n1      2                             Saudi Aramco             Oil and gas   \n2      3                                   Amazon                  Retail   \n3      4          State Grid Corporation of China             Electricity   \n4      5                                    Vitol             Commodities   \n5      6     China National Petroleum Corporation             Oil and gas   \n6      7          China Petrochemical Corporation             Oil and gas   \n7      8                               ExxonMobil             Oil and gas   \n8      9                                    Apple             Electronics   \n9     10                                    Shell             Oil and gas   \n10    11                       UnitedHealth Group              Healthcare   \n11    12                               CVS Health              Healthcare   \n12    13                                Trafigura             Commodities   \n13    14     China State Construction Engineering            Construction   \n14    15                       Berkshire Hathaway              Financials   \n15    16                         Volkswagen Group              Automotive   \n16    17                                   Uniper             Electricity   \n17    18                                 Alphabet  Information technology   \n18    19                                 McKesson              Healthcare   \n19    20                                   Toyota              Automotive   \n20    21                            TotalEnergies             Oil and gas   \n21    22                                 Glencore             Commodities   \n22    23                                       BP             Oil and gas   \n23    24                                  Chevron             Oil and gas   \n24    25                                  Cencora              Healthcare   \n25    26                      Samsung Electronics             Electronics   \n26    27                                   Costco                  Retail   \n27    28                                  Foxconn             Electronics   \n28    29  Industrial and Commercial Bank of China              Financials   \n29    30                                Microsoft  Information technology   \n30    31                  China Construction Bank              Financials   \n31    32                               Stellantis              Automotive   \n32    33               Agricultural Bank of China              Financials   \n33    34                        Ping An Insurance              Financials   \n34    35                          Cardinal Health              Healthcare   \n35    36                                    Cigna              Healthcare   \n36    37                       Marathon Petroleum             Oil and gas   \n37    38                              Phillips 66             Oil and gas   \n38    39                                 Sinochem               Chemicals   \n39    40    China Railway Engineering Corporation            Construction   \n40    41                            Valero Energy             Oil and gas   \n41    42                                  Gazprom             Oil and gas   \n42    43                                  Cargill            Conglomerate   \n43    44  China National Offshore Oil Corporation             Oil and gas   \n44    45   China Railway Construction Corporation            Construction   \n45    46                                    Baowu                   Steel   \n46    47                           Schwarz Gruppe                  Retail   \n47    48                         Mitsubishi Group            Conglomerate   \n48    49                       Ford Motor Company              Automotive   \n49    50                      Mercedes-Benz Group              Automotive   \n\n          Revenue         Profit  Employees    Headquarters Revenue per worker  \n0   $ 6,11,289.00     $11,680.00  21,00,000   United States      $ 2,91,090.00  \n1   $ 6,03,651.00  $ 1,59,069.00     70,496    Saudi Arabia     $ 85,62,911.37  \n2   $ 5,74,785.00     $30,425.00  15,25,000   United States      $ 3,76,908.00  \n3   $ 5,30,009.00      $8,192.00   8,70,287           China      $ 6,09,004.85  \n4   $ 5,05,000.00     $15,000.00      1,560     Switzerland  $ 32,37,17,948.72  \n5   $ 4,83,019.00     $21,080.00  10,87,049           China      $ 4,44,339.68  \n6   $ 4,71,154.00      $9,657.00   5,27,487           China      $ 8,93,204.95  \n7   $ 4,13,680.00     $55,740.00     63,000   United States     $ 65,66,349.21  \n8   $ 3,94,328.00     $99,803.00   1,64,000   United States     $ 24,04,439.02  \n9   $ 3,86,201.00     $20,120.00     93,000  United Kingdom     $ 41,52,698.92  \n10  $ 3,24,162.00     $20,120.00   4,00,000   United States      $ 8,10,405.00  \n11  $ 3,22,467.00      $4,149.00   2,59,500   United States     $ 12,42,647.40  \n12  $ 3,18,476.00      $6,994.00     12,347       Singapore   $ 2,57,93,796.06  \n13  $ 3,05,885.00      $4,234.00   3,82,492           China      $ 7,99,716.07  \n14  $ 3,02,089.00    -$22,819.00   3,83,000   United States      $ 7,88,744.13  \n15  $ 2,93,685.00     $15,233.00   6,75,805         Germany      $ 4,34,570.62  \n16  $ 2,88,309.00    -$19,961.00      7,008         Germany   $ 4,11,39,982.88  \n17  $ 2,82,836.00     $59,972.00   1,90,234   United States     $ 14,86,779.44  \n18  $ 2,76,711.00      $3,560.00     48,000   United States     $ 57,64,812.50  \n19  $ 2,74,491.00     $18,110.00   3,75,235           Japan      $ 7,31,517.58  \n20  $ 2,63,310.00     $20,526.00   1,01,279          France     $ 25,99,847.94  \n21  $ 2,55,984.00     $17,320.00     81,284     Switzerland     $ 31,49,254.47  \n22  $ 2,48,891.00     -$2,487.00     67,600  United Kingdom     $ 36,81,819.53  \n23  $ 2,46,252.00     $35,465.00     43,846   United States     $ 56,16,293.39  \n24  $ 2,38,587.00      $1,699.00     41,500   United States     $ 57,49,084.34  \n25  $ 2,34,129.00     $42,398.00   2,70,372     South Korea      $ 8,65,951.36  \n26  $ 2,26,954.00      $5,844.00   3,04,000   United States      $ 7,46,559.21  \n27  $ 2,22,535.00      $4,751.00   7,67,062          Taiwan      $ 2,90,113.45  \n28  $ 2,14,766.00     $53,589.00   4,27,587           China      $ 5,02,274.39  \n29  $ 2,11,915.00     $73,307.00   2,21,000   United States      $ 8,97,149.32  \n30  $ 2,02,753.00     $48,145.00   3,76,682           China      $ 5,38,260.39  \n31  $ 1,88,888.00     $17,669.00   2,72,367     Netherlands      $ 6,93,505.45  \n32  $ 1,87,061.00     $38,524.00   4,52,258           China      $ 4,13,615.68  \n33  $ 1,81,566.00     $12,454.00   3,44,223           China      $ 5,27,466.21  \n34  $ 1,81,364.00       -$933.00     46,035   United States     $ 39,39,698.06  \n35  $ 1,80,516.00      $6,668.00     70,231   United States     $ 25,70,317.95  \n36  $ 1,80,012.00     $14,516.00     17,800   United States   $ 1,01,13,033.71  \n37  $ 1,75,702.00     $11,024.00     13,000   United States   $ 1,35,15,538.46  \n38  $ 1,73,834.00            –$1   2,20,760           China      $ 7,87,434.32  \n39  $ 1,71,669.00      $2,035.00   3,14,792           China      $ 5,45,341.05  \n40  $ 1,71,189.00     $11,528.00      9,743   United States   $ 1,75,70,460.84  \n41  $ 1,67,832.00     $17,641.00   4,68,000          Russia      $ 3,58,615.38  \n42  $ 1,65,000.00            ...   1,55,000   United States     $ 10,64,516.13  \n43  $ 1,64,762.00     $16,988.00     81,775           China     $ 20,14,821.16  \n44  $ 1,63,037.00      $1,800.00   3,42,098           China      $ 4,76,579.81  \n45  $ 1,61,698.00      $2,493.00   2,45,675           China      $ 6,58,178.49  \n46  $ 1,59,800.00            ...   5,75,000         Germany      $ 2,77,913.04  \n47  $ 1,59,371.00      $8,723.00     79,706           Japan     $ 19,99,485.61  \n48  $ 1,58,057.00     -$1,981.00   1,73,000   United States      $ 9,13,624.28  \n49  $ 1,57,403.00     $15,252.00   1,68,797         Germany      $ 9,32,498.80  ",
            "text/html": "<div>\n<style scoped>\n    .dataframe tbody tr th:only-of-type {\n        vertical-align: middle;\n    }\n\n    .dataframe tbody tr th {\n        vertical-align: top;\n    }\n\n    .dataframe thead th {\n        text-align: right;\n    }\n</style>\n<table border=\"1\" class=\"dataframe\">\n  <thead>\n    <tr style=\"text-align: right;\">\n      <th></th>\n      <th>Rank</th>\n      <th>Name</th>\n      <th>Industry</th>\n      <th>Revenue</th>\n      <th>Profit</th>\n      <th>Employees</th>\n      <th>Headquarters</th>\n      <th>Revenue per worker</th>\n    </tr>\n  </thead>\n  <tbody>\n    <tr>\n      <th>0</th>\n      <td>1</td>\n      <td>Walmart</td>\n      <td>Retail</td>\n      <td>$ 6,11,289.00</td>\n      <td>$11,680.00</td>\n      <td>21,00,000</td>\n      <td>United States</td>\n      <td>$ 2,91,090.00</td>\n    </tr>\n    <tr>\n      <th>1</th>\n      <td>2</td>\n      <td>Saudi Aramco</td>\n      <td>Oil and gas</td>\n      <td>$ 6,03,651.00</td>\n      <td>$ 1,59,069.00</td>\n      <td>70,496</td>\n      <td>Saudi Arabia</td>\n      <td>$ 85,62,911.37</td>\n    </tr>\n    <tr>\n      <th>2</th>\n      <td>3</td>\n      <td>Amazon</td>\n      <td>Retail</td>\n      <td>$ 5,74,785.00</td>\n      <td>$30,425.00</td>\n      <td>15,25,000</td>\n      <td>United States</td>\n      <td>$ 3,76,908.00</td>\n    </tr>\n    <tr>\n      <th>3</th>\n      <td>4</td>\n      <td>State Grid Corporation of China</td>\n      <td>Electricity</td>\n      <td>$ 5,30,009.00</td>\n      <td>$8,192.00</td>\n      <td>8,70,287</td>\n      <td>China</td>\n      <td>$ 6,09,004.85</td>\n    </tr>\n    <tr>\n      <th>4</th>\n      <td>5</td>\n      <td>Vitol</td>\n      <td>Commodities</td>\n      <td>$ 5,05,000.00</td>\n      <td>$15,000.00</td>\n      <td>1,560</td>\n      <td>Switzerland</td>\n      <td>$ 32,37,17,948.72</td>\n    </tr>\n    <tr>\n      <th>5</th>\n      <td>6</td>\n      <td>China National Petroleum Corporation</td>\n      <td>Oil and gas</td>\n      <td>$ 4,83,019.00</td>\n      <td>$21,080.00</td>\n      <td>10,87,049</td>\n      <td>China</td>\n      <td>$ 4,44,339.68</td>\n    </tr>\n    <tr>\n      <th>6</th>\n      <td>7</td>\n      <td>China Petrochemical Corporation</td>\n      <td>Oil and gas</td>\n      <td>$ 4,71,154.00</td>\n      <td>$9,657.00</td>\n      <td>5,27,487</td>\n      <td>China</td>\n      <td>$ 8,93,204.95</td>\n    </tr>\n    <tr>\n      <th>7</th>\n      <td>8</td>\n      <td>ExxonMobil</td>\n      <td>Oil and gas</td>\n      <td>$ 4,13,680.00</td>\n      <td>$55,740.00</td>\n      <td>63,000</td>\n      <td>United States</td>\n      <td>$ 65,66,349.21</td>\n    </tr>\n    <tr>\n      <th>8</th>\n      <td>9</td>\n      <td>Apple</td>\n      <td>Electronics</td>\n      <td>$ 3,94,328.00</td>\n      <td>$99,803.00</td>\n      <td>1,64,000</td>\n      <td>United States</td>\n      <td>$ 24,04,439.02</td>\n    </tr>\n    <tr>\n      <th>9</th>\n      <td>10</td>\n      <td>Shell</td>\n      <td>Oil and gas</td>\n      <td>$ 3,86,201.00</td>\n      <td>$20,120.00</td>\n      <td>93,000</td>\n      <td>United Kingdom</td>\n      <td>$ 41,52,698.92</td>\n    </tr>\n    <tr>\n      <th>10</th>\n      <td>11</td>\n      <td>UnitedHealth Group</td>\n      <td>Healthcare</td>\n      <td>$ 3,24,162.00</td>\n      <td>$20,120.00</td>\n      <td>4,00,000</td>\n      <td>United States</td>\n      <td>$ 8,10,405.00</td>\n    </tr>\n    <tr>\n      <th>11</th>\n      <td>12</td>\n      <td>CVS Health</td>\n      <td>Healthcare</td>\n      <td>$ 3,22,467.00</td>\n      <td>$4,149.00</td>\n      <td>2,59,500</td>\n      <td>United States</td>\n      <td>$ 12,42,647.40</td>\n    </tr>\n    <tr>\n      <th>12</th>\n      <td>13</td>\n      <td>Trafigura</td>\n      <td>Commodities</td>\n      <td>$ 3,18,476.00</td>\n      <td>$6,994.00</td>\n      <td>12,347</td>\n      <td>Singapore</td>\n      <td>$ 2,57,93,796.06</td>\n    </tr>\n    <tr>\n      <th>13</th>\n      <td>14</td>\n      <td>China State Construction Engineering</td>\n      <td>Construction</td>\n      <td>$ 3,05,885.00</td>\n      <td>$4,234.00</td>\n      <td>3,82,492</td>\n      <td>China</td>\n      <td>$ 7,99,716.07</td>\n    </tr>\n    <tr>\n      <th>14</th>\n      <td>15</td>\n      <td>Berkshire Hathaway</td>\n      <td>Financials</td>\n      <td>$ 3,02,089.00</td>\n      <td>-$22,819.00</td>\n      <td>3,83,000</td>\n      <td>United States</td>\n      <td>$ 7,88,744.13</td>\n    </tr>\n    <tr>\n      <th>15</th>\n      <td>16</td>\n      <td>Volkswagen Group</td>\n      <td>Automotive</td>\n      <td>$ 2,93,685.00</td>\n      <td>$15,233.00</td>\n      <td>6,75,805</td>\n      <td>Germany</td>\n      <td>$ 4,34,570.62</td>\n    </tr>\n    <tr>\n      <th>16</th>\n      <td>17</td>\n      <td>Uniper</td>\n      <td>Electricity</td>\n      <td>$ 2,88,309.00</td>\n      <td>-$19,961.00</td>\n      <td>7,008</td>\n      <td>Germany</td>\n      <td>$ 4,11,39,982.88</td>\n    </tr>\n    <tr>\n      <th>17</th>\n      <td>18</td>\n      <td>Alphabet</td>\n      <td>Information technology</td>\n      <td>$ 2,82,836.00</td>\n      <td>$59,972.00</td>\n      <td>1,90,234</td>\n      <td>United States</td>\n      <td>$ 14,86,779.44</td>\n    </tr>\n    <tr>\n      <th>18</th>\n      <td>19</td>\n      <td>McKesson</td>\n      <td>Healthcare</td>\n      <td>$ 2,76,711.00</td>\n      <td>$3,560.00</td>\n      <td>48,000</td>\n      <td>United States</td>\n      <td>$ 57,64,812.50</td>\n    </tr>\n    <tr>\n      <th>19</th>\n      <td>20</td>\n      <td>Toyota</td>\n      <td>Automotive</td>\n      <td>$ 2,74,491.00</td>\n      <td>$18,110.00</td>\n      <td>3,75,235</td>\n      <td>Japan</td>\n      <td>$ 7,31,517.58</td>\n    </tr>\n    <tr>\n      <th>20</th>\n      <td>21</td>\n      <td>TotalEnergies</td>\n      <td>Oil and gas</td>\n      <td>$ 2,63,310.00</td>\n      <td>$20,526.00</td>\n      <td>1,01,279</td>\n      <td>France</td>\n      <td>$ 25,99,847.94</td>\n    </tr>\n    <tr>\n      <th>21</th>\n      <td>22</td>\n      <td>Glencore</td>\n      <td>Commodities</td>\n      <td>$ 2,55,984.00</td>\n      <td>$17,320.00</td>\n      <td>81,284</td>\n      <td>Switzerland</td>\n      <td>$ 31,49,254.47</td>\n    </tr>\n    <tr>\n      <th>22</th>\n      <td>23</td>\n      <td>BP</td>\n      <td>Oil and gas</td>\n      <td>$ 2,48,891.00</td>\n      <td>-$2,487.00</td>\n      <td>67,600</td>\n      <td>United Kingdom</td>\n      <td>$ 36,81,819.53</td>\n    </tr>\n    <tr>\n      <th>23</th>\n      <td>24</td>\n      <td>Chevron</td>\n      <td>Oil and gas</td>\n      <td>$ 2,46,252.00</td>\n      <td>$35,465.00</td>\n      <td>43,846</td>\n      <td>United States</td>\n      <td>$ 56,16,293.39</td>\n    </tr>\n    <tr>\n      <th>24</th>\n      <td>25</td>\n      <td>Cencora</td>\n      <td>Healthcare</td>\n      <td>$ 2,38,587.00</td>\n      <td>$1,699.00</td>\n      <td>41,500</td>\n      <td>United States</td>\n      <td>$ 57,49,084.34</td>\n    </tr>\n    <tr>\n      <th>25</th>\n      <td>26</td>\n      <td>Samsung Electronics</td>\n      <td>Electronics</td>\n      <td>$ 2,34,129.00</td>\n      <td>$42,398.00</td>\n      <td>2,70,372</td>\n      <td>South Korea</td>\n      <td>$ 8,65,951.36</td>\n    </tr>\n    <tr>\n      <th>26</th>\n      <td>27</td>\n      <td>Costco</td>\n      <td>Retail</td>\n      <td>$ 2,26,954.00</td>\n      <td>$5,844.00</td>\n      <td>3,04,000</td>\n      <td>United States</td>\n      <td>$ 7,46,559.21</td>\n    </tr>\n    <tr>\n      <th>27</th>\n      <td>28</td>\n      <td>Foxconn</td>\n      <td>Electronics</td>\n      <td>$ 2,22,535.00</td>\n      <td>$4,751.00</td>\n      <td>7,67,062</td>\n      <td>Taiwan</td>\n      <td>$ 2,90,113.45</td>\n    </tr>\n    <tr>\n      <th>28</th>\n      <td>29</td>\n      <td>Industrial and Commercial Bank of China</td>\n      <td>Financials</td>\n      <td>$ 2,14,766.00</td>\n      <td>$53,589.00</td>\n      <td>4,27,587</td>\n      <td>China</td>\n      <td>$ 5,02,274.39</td>\n    </tr>\n    <tr>\n      <th>29</th>\n      <td>30</td>\n      <td>Microsoft</td>\n      <td>Information technology</td>\n      <td>$ 2,11,915.00</td>\n      <td>$73,307.00</td>\n      <td>2,21,000</td>\n      <td>United States</td>\n      <td>$ 8,97,149.32</td>\n    </tr>\n    <tr>\n      <th>30</th>\n      <td>31</td>\n      <td>China Construction Bank</td>\n      <td>Financials</td>\n      <td>$ 2,02,753.00</td>\n      <td>$48,145.00</td>\n      <td>3,76,682</td>\n      <td>China</td>\n      <td>$ 5,38,260.39</td>\n    </tr>\n    <tr>\n      <th>31</th>\n      <td>32</td>\n      <td>Stellantis</td>\n      <td>Automotive</td>\n      <td>$ 1,88,888.00</td>\n      <td>$17,669.00</td>\n      <td>2,72,367</td>\n      <td>Netherlands</td>\n      <td>$ 6,93,505.45</td>\n    </tr>\n    <tr>\n      <th>32</th>\n      <td>33</td>\n      <td>Agricultural Bank of China</td>\n      <td>Financials</td>\n      <td>$ 1,87,061.00</td>\n      <td>$38,524.00</td>\n      <td>4,52,258</td>\n      <td>China</td>\n      <td>$ 4,13,615.68</td>\n    </tr>\n    <tr>\n      <th>33</th>\n      <td>34</td>\n      <td>Ping An Insurance</td>\n      <td>Financials</td>\n      <td>$ 1,81,566.00</td>\n      <td>$12,454.00</td>\n      <td>3,44,223</td>\n      <td>China</td>\n      <td>$ 5,27,466.21</td>\n    </tr>\n    <tr>\n      <th>34</th>\n      <td>35</td>\n      <td>Cardinal Health</td>\n      <td>Healthcare</td>\n      <td>$ 1,81,364.00</td>\n      <td>-$933.00</td>\n      <td>46,035</td>\n      <td>United States</td>\n      <td>$ 39,39,698.06</td>\n    </tr>\n    <tr>\n      <th>35</th>\n      <td>36</td>\n      <td>Cigna</td>\n      <td>Healthcare</td>\n      <td>$ 1,80,516.00</td>\n      <td>$6,668.00</td>\n      <td>70,231</td>\n      <td>United States</td>\n      <td>$ 25,70,317.95</td>\n    </tr>\n    <tr>\n      <th>36</th>\n      <td>37</td>\n      <td>Marathon Petroleum</td>\n      <td>Oil and gas</td>\n      <td>$ 1,80,012.00</td>\n      <td>$14,516.00</td>\n      <td>17,800</td>\n      <td>United States</td>\n      <td>$ 1,01,13,033.71</td>\n    </tr>\n    <tr>\n      <th>37</th>\n      <td>38</td>\n      <td>Phillips 66</td>\n      <td>Oil and gas</td>\n      <td>$ 1,75,702.00</td>\n      <td>$11,024.00</td>\n      <td>13,000</td>\n      <td>United States</td>\n      <td>$ 1,35,15,538.46</td>\n    </tr>\n    <tr>\n      <th>38</th>\n      <td>39</td>\n      <td>Sinochem</td>\n      <td>Chemicals</td>\n      <td>$ 1,73,834.00</td>\n      <td>–$1</td>\n      <td>2,20,760</td>\n      <td>China</td>\n      <td>$ 7,87,434.32</td>\n    </tr>\n    <tr>\n      <th>39</th>\n      <td>40</td>\n      <td>China Railway Engineering Corporation</td>\n      <td>Construction</td>\n      <td>$ 1,71,669.00</td>\n      <td>$2,035.00</td>\n      <td>3,14,792</td>\n      <td>China</td>\n      <td>$ 5,45,341.05</td>\n    </tr>\n    <tr>\n      <th>40</th>\n      <td>41</td>\n      <td>Valero Energy</td>\n      <td>Oil and gas</td>\n      <td>$ 1,71,189.00</td>\n      <td>$11,528.00</td>\n      <td>9,743</td>\n      <td>United States</td>\n      <td>$ 1,75,70,460.84</td>\n    </tr>\n    <tr>\n      <th>41</th>\n      <td>42</td>\n      <td>Gazprom</td>\n      <td>Oil and gas</td>\n      <td>$ 1,67,832.00</td>\n      <td>$17,641.00</td>\n      <td>4,68,000</td>\n      <td>Russia</td>\n      <td>$ 3,58,615.38</td>\n    </tr>\n    <tr>\n      <th>42</th>\n      <td>43</td>\n      <td>Cargill</td>\n      <td>Conglomerate</td>\n      <td>$ 1,65,000.00</td>\n      <td>...</td>\n      <td>1,55,000</td>\n      <td>United States</td>\n      <td>$ 10,64,516.13</td>\n    </tr>\n    <tr>\n      <th>43</th>\n      <td>44</td>\n      <td>China National Offshore Oil Corporation</td>\n      <td>Oil and gas</td>\n      <td>$ 1,64,762.00</td>\n      <td>$16,988.00</td>\n      <td>81,775</td>\n      <td>China</td>\n      <td>$ 20,14,821.16</td>\n    </tr>\n    <tr>\n      <th>44</th>\n      <td>45</td>\n      <td>China Railway Construction Corporation</td>\n      <td>Construction</td>\n      <td>$ 1,63,037.00</td>\n      <td>$1,800.00</td>\n      <td>3,42,098</td>\n      <td>China</td>\n      <td>$ 4,76,579.81</td>\n    </tr>\n    <tr>\n      <th>45</th>\n      <td>46</td>\n      <td>Baowu</td>\n      <td>Steel</td>\n      <td>$ 1,61,698.00</td>\n      <td>$2,493.00</td>\n      <td>2,45,675</td>\n      <td>China</td>\n      <td>$ 6,58,178.49</td>\n    </tr>\n    <tr>\n      <th>46</th>\n      <td>47</td>\n      <td>Schwarz Gruppe</td>\n      <td>Retail</td>\n      <td>$ 1,59,800.00</td>\n      <td>...</td>\n      <td>5,75,000</td>\n      <td>Germany</td>\n      <td>$ 2,77,913.04</td>\n    </tr>\n    <tr>\n      <th>47</th>\n      <td>48</td>\n      <td>Mitsubishi Group</td>\n      <td>Conglomerate</td>\n      <td>$ 1,59,371.00</td>\n      <td>$8,723.00</td>\n      <td>79,706</td>\n      <td>Japan</td>\n      <td>$ 19,99,485.61</td>\n    </tr>\n    <tr>\n      <th>48</th>\n      <td>49</td>\n      <td>Ford Motor Company</td>\n      <td>Automotive</td>\n      <td>$ 1,58,057.00</td>\n      <td>-$1,981.00</td>\n      <td>1,73,000</td>\n      <td>United States</td>\n      <td>$ 9,13,624.28</td>\n    </tr>\n    <tr>\n      <th>49</th>\n      <td>50</td>\n      <td>Mercedes-Benz Group</td>\n      <td>Automotive</td>\n      <td>$ 1,57,403.00</td>\n      <td>$15,252.00</td>\n      <td>1,68,797</td>\n      <td>Germany</td>\n      <td>$ 9,32,498.80</td>\n    </tr>\n  </tbody>\n</table>\n</div>"
          },
          "metadata": {}
        }
      ],
      "execution_count": 10
    },
    {
      "cell_type": "code",
      "source": "df.columns",
      "metadata": {
        "trusted": true
      },
      "outputs": [
        {
          "execution_count": 12,
          "output_type": "execute_result",
          "data": {
            "text/plain": "Index(['Rank', 'Name', 'Industry', 'Revenue', 'Profit', 'Employees',\n       'Headquarters', 'Revenue per worker'],\n      dtype='object')"
          },
          "metadata": {}
        }
      ],
      "execution_count": 12
    },
    {
      "cell_type": "code",
      "source": "df.describe()",
      "metadata": {
        "trusted": true
      },
      "outputs": [
        {
          "execution_count": 13,
          "output_type": "execute_result",
          "data": {
            "text/plain": "           Rank\ncount  50.00000\nmean   25.50000\nstd    14.57738\nmin     1.00000\n25%    13.25000\n50%    25.50000\n75%    37.75000\nmax    50.00000",
            "text/html": "<div>\n<style scoped>\n    .dataframe tbody tr th:only-of-type {\n        vertical-align: middle;\n    }\n\n    .dataframe tbody tr th {\n        vertical-align: top;\n    }\n\n    .dataframe thead th {\n        text-align: right;\n    }\n</style>\n<table border=\"1\" class=\"dataframe\">\n  <thead>\n    <tr style=\"text-align: right;\">\n      <th></th>\n      <th>Rank</th>\n    </tr>\n  </thead>\n  <tbody>\n    <tr>\n      <th>count</th>\n      <td>50.00000</td>\n    </tr>\n    <tr>\n      <th>mean</th>\n      <td>25.50000</td>\n    </tr>\n    <tr>\n      <th>std</th>\n      <td>14.57738</td>\n    </tr>\n    <tr>\n      <th>min</th>\n      <td>1.00000</td>\n    </tr>\n    <tr>\n      <th>25%</th>\n      <td>13.25000</td>\n    </tr>\n    <tr>\n      <th>50%</th>\n      <td>25.50000</td>\n    </tr>\n    <tr>\n      <th>75%</th>\n      <td>37.75000</td>\n    </tr>\n    <tr>\n      <th>max</th>\n      <td>50.00000</td>\n    </tr>\n  </tbody>\n</table>\n</div>"
          },
          "metadata": {}
        }
      ],
      "execution_count": 13
    },
    {
      "cell_type": "code",
      "source": "df.info()",
      "metadata": {
        "trusted": true
      },
      "outputs": [
        {
          "name": "stdout",
          "text": "<class 'pandas.core.frame.DataFrame'>\nRangeIndex: 50 entries, 0 to 49\nData columns (total 8 columns):\n #   Column              Non-Null Count  Dtype \n---  ------              --------------  ----- \n 0   Rank                50 non-null     int64 \n 1   Name                50 non-null     object\n 2   Industry            50 non-null     object\n 3   Revenue             50 non-null     object\n 4   Profit              50 non-null     object\n 5   Employees           50 non-null     object\n 6   Headquarters        50 non-null     object\n 7   Revenue per worker  50 non-null     object\ndtypes: int64(1), object(7)\nmemory usage: 1.8+ KB\n",
          "output_type": "stream"
        }
      ],
      "execution_count": 14
    },
    {
      "cell_type": "code",
      "source": "df['Rank'].iloc[[0,29]].mean()",
      "metadata": {
        "trusted": true
      },
      "outputs": [
        {
          "execution_count": 20,
          "output_type": "execute_result",
          "data": {
            "text/plain": "15.5"
          },
          "metadata": {}
        }
      ],
      "execution_count": 20
    },
    {
      "cell_type": "code",
      "source": "df['Rank'].head(20).mean()",
      "metadata": {
        "trusted": true
      },
      "outputs": [
        {
          "execution_count": 22,
          "output_type": "execute_result",
          "data": {
            "text/plain": "10.5"
          },
          "metadata": {}
        }
      ],
      "execution_count": 22
    },
    {
      "cell_type": "code",
      "source": "df['Rank'].var()",
      "metadata": {
        "trusted": true
      },
      "outputs": [
        {
          "execution_count": 23,
          "output_type": "execute_result",
          "data": {
            "text/plain": "212.5"
          },
          "metadata": {}
        }
      ],
      "execution_count": 23
    },
    {
      "cell_type": "code",
      "source": "df['Name'].count()",
      "metadata": {
        "trusted": true
      },
      "outputs": [
        {
          "execution_count": 25,
          "output_type": "execute_result",
          "data": {
            "text/plain": "50"
          },
          "metadata": {}
        }
      ],
      "execution_count": 25
    },
    {
      "cell_type": "code",
      "source": "",
      "metadata": {
        "trusted": true
      },
      "outputs": [],
      "execution_count": null
    },
    {
      "cell_type": "code",
      "source": "",
      "metadata": {
        "trusted": true
      },
      "outputs": [],
      "execution_count": null
    },
    {
      "cell_type": "code",
      "source": "",
      "metadata": {
        "trusted": true
      },
      "outputs": [],
      "execution_count": null
    }
  ]
}