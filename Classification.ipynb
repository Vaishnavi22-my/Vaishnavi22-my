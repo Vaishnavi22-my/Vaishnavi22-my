{
  "nbformat": 4,
  "nbformat_minor": 0,
  "metadata": {
    "colab": {
      "provenance": []
    },
    "kernelspec": {
      "name": "python3",
      "display_name": "Python 3"
    },
    "language_info": {
      "name": "python"
    }
  },
  "cells": [
    {
      "cell_type": "code",
      "execution_count": null,
      "metadata": {
        "colab": {
          "base_uri": "https://localhost:8080/"
        },
        "id": "r4_IVMPKk5cC",
        "outputId": "c1849c1c-feb8-4e54-c074-85adb7019c7d"
      },
      "outputs": [
        {
          "output_type": "execute_result",
          "data": {
            "text/plain": [
              "array([[0, 0],\n",
              "       [0, 1],\n",
              "       [1, 0],\n",
              "       [1, 1]])"
            ]
          },
          "metadata": {},
          "execution_count": 1
        }
      ],
      "source": [
        "import numpy as np\n",
        "x = np.array([[0,0],[0,1],[1,0],[1,1]])\n",
        "y = np.array([0,1,1,1])\n",
        "x"
      ]
    },
    {
      "cell_type": "code",
      "source": [
        "y\n"
      ],
      "metadata": {
        "colab": {
          "base_uri": "https://localhost:8080/"
        },
        "id": "VXo0mBlKlRBu",
        "outputId": "3e8211ba-2744-4f81-aac5-f7be62cd82d3"
      },
      "execution_count": null,
      "outputs": [
        {
          "output_type": "execute_result",
          "data": {
            "text/plain": [
              "array([0, 1, 1, 1])"
            ]
          },
          "metadata": {},
          "execution_count": 2
        }
      ]
    },
    {
      "cell_type": "code",
      "source": [
        "w = np.array([1,1])\n",
        "w"
      ],
      "metadata": {
        "colab": {
          "base_uri": "https://localhost:8080/"
        },
        "id": "xNHWAyyYlVWc",
        "outputId": "c73277f1-c8ea-408c-907f-c97e4ed9bcae"
      },
      "execution_count": null,
      "outputs": [
        {
          "output_type": "execute_result",
          "data": {
            "text/plain": [
              "array([1, 1])"
            ]
          },
          "metadata": {},
          "execution_count": 3
        }
      ]
    },
    {
      "cell_type": "code",
      "source": [
        "b =0.5"
      ],
      "metadata": {
        "id": "Twmyq7AHlZvA"
      },
      "execution_count": null,
      "outputs": []
    },
    {
      "cell_type": "code",
      "source": [
        "pred = []\n",
        "for a in x:\n",
        "  y_hat = np.dot(a,w)+b\n",
        "  pred.append(activation(y_hat))\n",
        "pred"
      ],
      "metadata": {
        "colab": {
          "base_uri": "https://localhost:8080/"
        },
        "id": "dzhVPAXolgZ5",
        "outputId": "322951ee-04ba-4b87-9308-8e36ea07d1cf"
      },
      "execution_count": null,
      "outputs": [
        {
          "output_type": "execute_result",
          "data": {
            "text/plain": [
              "[0, 1, 1, 1]"
            ]
          },
          "metadata": {},
          "execution_count": 6
        }
      ]
    },
    {
      "cell_type": "code",
      "source": [
        "def activation(z):\n",
        "  if z>=0:\n",
        "    act = 1\n",
        "  else:\n",
        "    act = 0\n",
        "  return act"
      ],
      "metadata": {
        "id": "TVB4lbtDlyyr"
      },
      "execution_count": null,
      "outputs": []
    },
    {
      "cell_type": "markdown",
      "source": [
        "**Perceptron Learning**"
      ],
      "metadata": {
        "id": "5maPQNI5xeqe"
      }
    },
    {
      "cell_type": "code",
      "source": [
        "import math\n",
        "import numpy as np"
      ],
      "metadata": {
        "id": "CPNLWb1BxnuW"
      },
      "execution_count": null,
      "outputs": []
    },
    {
      "cell_type": "code",
      "source": [
        "epochs = 10\n",
        "alpha = 0.2"
      ],
      "metadata": {
        "id": "vBrBjvmZxudl"
      },
      "execution_count": null,
      "outputs": []
    },
    {
      "cell_type": "code",
      "source": [
        "w0 = np.random.random()\n",
        "w1 = np.random.random()\n",
        "w2 = np.random.random()\n",
        "print(\"initial weights\")\n",
        "print('w0 = ',w0 , 'w1 = ',w1 , 'w2 = ',w2)"
      ],
      "metadata": {
        "colab": {
          "base_uri": "https://localhost:8080/"
        },
        "id": "H6lPS4nkx0GX",
        "outputId": "bf673899-84c0-4529-a60d-033b0e724731"
      },
      "execution_count": null,
      "outputs": [
        {
          "output_type": "stream",
          "name": "stdout",
          "text": [
            "initial weights\n",
            "w0 =  0.9664243819065066 w1 =  0.7210594626974237 w2 =  0.2398220374106642\n"
          ]
        }
      ]
    },
    {
      "cell_type": "code",
      "source": [
        "del_w0 = 1\n",
        "del_w1 = 1\n",
        "del_w2 = 1\n"
      ],
      "metadata": {
        "id": "mJ8PiRV6yNHJ"
      },
      "execution_count": null,
      "outputs": []
    },
    {
      "cell_type": "code",
      "source": [
        "train_data_temp = [[0,0,0],[0,1,0],[0,1,1],[1,0,0],[1,1,0],[0,1,1],[1,0,1],[1,1,1]]\n",
        "train_data = np.asarray(train_data_temp)\n",
        "op = np.array([0,1,1,1,1,1,1,1])"
      ],
      "metadata": {
        "id": "Eex-joj7yXh-"
      },
      "execution_count": null,
      "outputs": []
    },
    {
      "cell_type": "code",
      "source": [
        "train_data"
      ],
      "metadata": {
        "colab": {
          "base_uri": "https://localhost:8080/"
        },
        "id": "SzU1N6iB1zCA",
        "outputId": "c6dcf754-7e67-4d3b-a30a-6efdd884e6c5"
      },
      "execution_count": null,
      "outputs": [
        {
          "output_type": "execute_result",
          "data": {
            "text/plain": [
              "array([[0, 0, 0],\n",
              "       [0, 1, 0],\n",
              "       [0, 1, 1],\n",
              "       [1, 0, 0],\n",
              "       [1, 1, 0],\n",
              "       [0, 1, 1],\n",
              "       [1, 0, 1],\n",
              "       [1, 1, 1]])"
            ]
          },
          "metadata": {},
          "execution_count": 12
        }
      ]
    },
    {
      "cell_type": "code",
      "source": [
        "op"
      ],
      "metadata": {
        "colab": {
          "base_uri": "https://localhost:8080/"
        },
        "id": "D72F-bc5132J",
        "outputId": "c2cfa0ac-8b8a-4d86-9f3d-87b2618331e9"
      },
      "execution_count": null,
      "outputs": [
        {
          "output_type": "execute_result",
          "data": {
            "text/plain": [
              "array([0, 1, 1, 1, 1, 1, 1, 1])"
            ]
          },
          "metadata": {},
          "execution_count": 13
        }
      ]
    },
    {
      "cell_type": "markdown",
      "source": [
        "y =(x*w) +b"
      ],
      "metadata": {
        "id": "6aim5POV185n"
      }
    },
    {
      "cell_type": "code",
      "source": [
        "bias = 0\n",
        "for i in range(epochs):\n",
        "  j=0\n",
        "  for x in train_data:\n",
        "    y_hat = w0*x[0] + w1*x[1] + w2*x[2] + bias\n",
        "    if (y_hat >= 0):\n",
        "      act = 1\n",
        "    else:\n",
        "      act = 0\n",
        "\n",
        "\n",
        "    err = op[j] - act\n",
        "\n",
        "    del_w0 = alpha*err*x[0]\n",
        "    del_w1 = alpha*err*x[1]\n",
        "    del_w2 = alpha*err*x[2]\n",
        "\n",
        "    w0 = w0 + del_w0\n",
        "    w1 = w1 + del_w1\n",
        "    w2 = w2 + del_w2\n",
        "\n",
        "    j = j+1\n",
        "    print(\"epoch\",i+1 , \"error = \",err)\n",
        "    print(del_w0,del_w1,del_w2)\n",
        "\n",
        "print('final weights')\n",
        "print('w0 = ',w0 , 'w1 = ',w1 , 'w2 = ',w2)"
      ],
      "metadata": {
        "colab": {
          "base_uri": "https://localhost:8080/"
        },
        "id": "4LrrgJ7N2Dle",
        "outputId": "049dacda-0b9a-49ab-bd34-8543085ff4bf"
      },
      "execution_count": null,
      "outputs": [
        {
          "output_type": "stream",
          "name": "stdout",
          "text": [
            "epoch 1 error =  -1\n",
            "-0.0 -0.0 -0.0\n",
            "epoch 1 error =  0\n",
            "0.0 0.0 0.0\n",
            "epoch 1 error =  0\n",
            "0.0 0.0 0.0\n",
            "epoch 1 error =  0\n",
            "0.0 0.0 0.0\n",
            "epoch 1 error =  0\n",
            "0.0 0.0 0.0\n",
            "epoch 1 error =  0\n",
            "0.0 0.0 0.0\n",
            "epoch 1 error =  0\n",
            "0.0 0.0 0.0\n",
            "epoch 1 error =  0\n",
            "0.0 0.0 0.0\n",
            "epoch 2 error =  -1\n",
            "-0.0 -0.0 -0.0\n",
            "epoch 2 error =  0\n",
            "0.0 0.0 0.0\n",
            "epoch 2 error =  0\n",
            "0.0 0.0 0.0\n",
            "epoch 2 error =  0\n",
            "0.0 0.0 0.0\n",
            "epoch 2 error =  0\n",
            "0.0 0.0 0.0\n",
            "epoch 2 error =  0\n",
            "0.0 0.0 0.0\n",
            "epoch 2 error =  0\n",
            "0.0 0.0 0.0\n",
            "epoch 2 error =  0\n",
            "0.0 0.0 0.0\n",
            "epoch 3 error =  -1\n",
            "-0.0 -0.0 -0.0\n",
            "epoch 3 error =  0\n",
            "0.0 0.0 0.0\n",
            "epoch 3 error =  0\n",
            "0.0 0.0 0.0\n",
            "epoch 3 error =  0\n",
            "0.0 0.0 0.0\n",
            "epoch 3 error =  0\n",
            "0.0 0.0 0.0\n",
            "epoch 3 error =  0\n",
            "0.0 0.0 0.0\n",
            "epoch 3 error =  0\n",
            "0.0 0.0 0.0\n",
            "epoch 3 error =  0\n",
            "0.0 0.0 0.0\n",
            "epoch 4 error =  -1\n",
            "-0.0 -0.0 -0.0\n",
            "epoch 4 error =  0\n",
            "0.0 0.0 0.0\n",
            "epoch 4 error =  0\n",
            "0.0 0.0 0.0\n",
            "epoch 4 error =  0\n",
            "0.0 0.0 0.0\n",
            "epoch 4 error =  0\n",
            "0.0 0.0 0.0\n",
            "epoch 4 error =  0\n",
            "0.0 0.0 0.0\n",
            "epoch 4 error =  0\n",
            "0.0 0.0 0.0\n",
            "epoch 4 error =  0\n",
            "0.0 0.0 0.0\n",
            "epoch 5 error =  -1\n",
            "-0.0 -0.0 -0.0\n",
            "epoch 5 error =  0\n",
            "0.0 0.0 0.0\n",
            "epoch 5 error =  0\n",
            "0.0 0.0 0.0\n",
            "epoch 5 error =  0\n",
            "0.0 0.0 0.0\n",
            "epoch 5 error =  0\n",
            "0.0 0.0 0.0\n",
            "epoch 5 error =  0\n",
            "0.0 0.0 0.0\n",
            "epoch 5 error =  0\n",
            "0.0 0.0 0.0\n",
            "epoch 5 error =  0\n",
            "0.0 0.0 0.0\n",
            "epoch 6 error =  -1\n",
            "-0.0 -0.0 -0.0\n",
            "epoch 6 error =  0\n",
            "0.0 0.0 0.0\n",
            "epoch 6 error =  0\n",
            "0.0 0.0 0.0\n",
            "epoch 6 error =  0\n",
            "0.0 0.0 0.0\n",
            "epoch 6 error =  0\n",
            "0.0 0.0 0.0\n",
            "epoch 6 error =  0\n",
            "0.0 0.0 0.0\n",
            "epoch 6 error =  0\n",
            "0.0 0.0 0.0\n",
            "epoch 6 error =  0\n",
            "0.0 0.0 0.0\n",
            "epoch 7 error =  -1\n",
            "-0.0 -0.0 -0.0\n",
            "epoch 7 error =  0\n",
            "0.0 0.0 0.0\n",
            "epoch 7 error =  0\n",
            "0.0 0.0 0.0\n",
            "epoch 7 error =  0\n",
            "0.0 0.0 0.0\n",
            "epoch 7 error =  0\n",
            "0.0 0.0 0.0\n",
            "epoch 7 error =  0\n",
            "0.0 0.0 0.0\n",
            "epoch 7 error =  0\n",
            "0.0 0.0 0.0\n",
            "epoch 7 error =  0\n",
            "0.0 0.0 0.0\n",
            "epoch 8 error =  -1\n",
            "-0.0 -0.0 -0.0\n",
            "epoch 8 error =  0\n",
            "0.0 0.0 0.0\n",
            "epoch 8 error =  0\n",
            "0.0 0.0 0.0\n",
            "epoch 8 error =  0\n",
            "0.0 0.0 0.0\n",
            "epoch 8 error =  0\n",
            "0.0 0.0 0.0\n",
            "epoch 8 error =  0\n",
            "0.0 0.0 0.0\n",
            "epoch 8 error =  0\n",
            "0.0 0.0 0.0\n",
            "epoch 8 error =  0\n",
            "0.0 0.0 0.0\n",
            "epoch 9 error =  -1\n",
            "-0.0 -0.0 -0.0\n",
            "epoch 9 error =  0\n",
            "0.0 0.0 0.0\n",
            "epoch 9 error =  0\n",
            "0.0 0.0 0.0\n",
            "epoch 9 error =  0\n",
            "0.0 0.0 0.0\n",
            "epoch 9 error =  0\n",
            "0.0 0.0 0.0\n",
            "epoch 9 error =  0\n",
            "0.0 0.0 0.0\n",
            "epoch 9 error =  0\n",
            "0.0 0.0 0.0\n",
            "epoch 9 error =  0\n",
            "0.0 0.0 0.0\n",
            "epoch 10 error =  -1\n",
            "-0.0 -0.0 -0.0\n",
            "epoch 10 error =  0\n",
            "0.0 0.0 0.0\n",
            "epoch 10 error =  0\n",
            "0.0 0.0 0.0\n",
            "epoch 10 error =  0\n",
            "0.0 0.0 0.0\n",
            "epoch 10 error =  0\n",
            "0.0 0.0 0.0\n",
            "epoch 10 error =  0\n",
            "0.0 0.0 0.0\n",
            "epoch 10 error =  0\n",
            "0.0 0.0 0.0\n",
            "epoch 10 error =  0\n",
            "0.0 0.0 0.0\n",
            "final weights\n",
            "w0 =  0.9664243819065066 w1 =  0.7210594626974237 w2 =  0.2398220374106642\n"
          ]
        }
      ]
    }
  ]
}